{
 "cells": [
  {
   "cell_type": "markdown",
   "metadata": {},
   "source": [
    "    INTRODUCTION\n",
    "\n",
    "This Exploratory Data Analysis (EDA) delves into crime data in Vancouver spanning from 2003 to 2023. Understanding crime patterns is crucial for informing public safety measures, shaping law enforcement strategies, and contributing to effective urban planning"
   ]
  },
  {
   "cell_type": "markdown",
   "metadata": {},
   "source": [
    "    Importing Libraries"
   ]
  },
  {
   "cell_type": "code",
   "execution_count": 465,
   "metadata": {},
   "outputs": [],
   "source": [
    "import pandas as pd \n",
    "import numpy as np \n",
    "import matplotlib.pyplot as plt\n",
    "import seaborn as sns\n",
    "import plotly.express as px\n",
    "import plotly.graph_objects as go\n",
    "import calendar\n",
    "import warnings\n",
    "\n",
    "warnings.filterwarnings(\"ignore\", category=FutureWarning)\n"
   ]
  },
  {
   "cell_type": "markdown",
   "metadata": {},
   "source": [
    "     Data Processing and Transformation"
   ]
  },
  {
   "cell_type": "code",
   "execution_count": 466,
   "metadata": {},
   "outputs": [],
   "source": [
    "df = pd.read_csv(\"/Users/princegill/Documents/VSCode/Practice3/Data/data.csv\")"
   ]
  },
  {
   "cell_type": "code",
   "execution_count": 467,
   "metadata": {},
   "outputs": [
    {
     "data": {
      "text/html": [
       "<div>\n",
       "<style scoped>\n",
       "    .dataframe tbody tr th:only-of-type {\n",
       "        vertical-align: middle;\n",
       "    }\n",
       "\n",
       "    .dataframe tbody tr th {\n",
       "        vertical-align: top;\n",
       "    }\n",
       "\n",
       "    .dataframe thead th {\n",
       "        text-align: right;\n",
       "    }\n",
       "</style>\n",
       "<table border=\"1\" class=\"dataframe\">\n",
       "  <thead>\n",
       "    <tr style=\"text-align: right;\">\n",
       "      <th></th>\n",
       "      <th>TYPE</th>\n",
       "      <th>YEAR</th>\n",
       "      <th>MONTH</th>\n",
       "      <th>DAY</th>\n",
       "      <th>HOUR</th>\n",
       "      <th>MINUTE</th>\n",
       "      <th>HUNDRED_BLOCK</th>\n",
       "      <th>NEIGHBOURHOOD</th>\n",
       "      <th>X</th>\n",
       "      <th>Y</th>\n",
       "    </tr>\n",
       "  </thead>\n",
       "  <tbody>\n",
       "    <tr>\n",
       "      <th>0</th>\n",
       "      <td>Break and Enter Commercial</td>\n",
       "      <td>2012</td>\n",
       "      <td>12</td>\n",
       "      <td>14</td>\n",
       "      <td>8</td>\n",
       "      <td>52</td>\n",
       "      <td>NaN</td>\n",
       "      <td>Oakridge</td>\n",
       "      <td>491285.0000</td>\n",
       "      <td>5.453433e+06</td>\n",
       "    </tr>\n",
       "    <tr>\n",
       "      <th>1</th>\n",
       "      <td>Break and Enter Commercial</td>\n",
       "      <td>2019</td>\n",
       "      <td>3</td>\n",
       "      <td>7</td>\n",
       "      <td>2</td>\n",
       "      <td>6</td>\n",
       "      <td>10XX SITKA SQ</td>\n",
       "      <td>Fairview</td>\n",
       "      <td>490612.9648</td>\n",
       "      <td>5.457110e+06</td>\n",
       "    </tr>\n",
       "    <tr>\n",
       "      <th>2</th>\n",
       "      <td>Break and Enter Commercial</td>\n",
       "      <td>2019</td>\n",
       "      <td>8</td>\n",
       "      <td>27</td>\n",
       "      <td>4</td>\n",
       "      <td>12</td>\n",
       "      <td>10XX ALBERNI ST</td>\n",
       "      <td>West End</td>\n",
       "      <td>491004.8164</td>\n",
       "      <td>5.459177e+06</td>\n",
       "    </tr>\n",
       "    <tr>\n",
       "      <th>3</th>\n",
       "      <td>Break and Enter Commercial</td>\n",
       "      <td>2021</td>\n",
       "      <td>4</td>\n",
       "      <td>26</td>\n",
       "      <td>4</td>\n",
       "      <td>44</td>\n",
       "      <td>10XX ALBERNI ST</td>\n",
       "      <td>West End</td>\n",
       "      <td>491007.7798</td>\n",
       "      <td>5.459174e+06</td>\n",
       "    </tr>\n",
       "    <tr>\n",
       "      <th>4</th>\n",
       "      <td>Break and Enter Commercial</td>\n",
       "      <td>2014</td>\n",
       "      <td>8</td>\n",
       "      <td>8</td>\n",
       "      <td>5</td>\n",
       "      <td>13</td>\n",
       "      <td>10XX ALBERNI ST</td>\n",
       "      <td>West End</td>\n",
       "      <td>491015.9434</td>\n",
       "      <td>5.459166e+06</td>\n",
       "    </tr>\n",
       "  </tbody>\n",
       "</table>\n",
       "</div>"
      ],
      "text/plain": [
       "                         TYPE  YEAR  MONTH  DAY  HOUR  MINUTE  \\\n",
       "0  Break and Enter Commercial  2012     12   14     8      52   \n",
       "1  Break and Enter Commercial  2019      3    7     2       6   \n",
       "2  Break and Enter Commercial  2019      8   27     4      12   \n",
       "3  Break and Enter Commercial  2021      4   26     4      44   \n",
       "4  Break and Enter Commercial  2014      8    8     5      13   \n",
       "\n",
       "     HUNDRED_BLOCK NEIGHBOURHOOD            X             Y  \n",
       "0              NaN      Oakridge  491285.0000  5.453433e+06  \n",
       "1    10XX SITKA SQ      Fairview  490612.9648  5.457110e+06  \n",
       "2  10XX ALBERNI ST      West End  491004.8164  5.459177e+06  \n",
       "3  10XX ALBERNI ST      West End  491007.7798  5.459174e+06  \n",
       "4  10XX ALBERNI ST      West End  491015.9434  5.459166e+06  "
      ]
     },
     "execution_count": 467,
     "metadata": {},
     "output_type": "execute_result"
    }
   ],
   "source": [
    "df.head()"
   ]
  },
  {
   "cell_type": "code",
   "execution_count": 468,
   "metadata": {},
   "outputs": [
    {
     "data": {
      "text/plain": [
       "(881242, 10)"
      ]
     },
     "execution_count": 468,
     "metadata": {},
     "output_type": "execute_result"
    }
   ],
   "source": [
    "df.shape"
   ]
  },
  {
   "cell_type": "markdown",
   "metadata": {},
   "source": [
    "     Data Duplication"
   ]
  },
  {
   "cell_type": "code",
   "execution_count": 469,
   "metadata": {},
   "outputs": [
    {
     "data": {
      "text/plain": [
       "32211"
      ]
     },
     "execution_count": 469,
     "metadata": {},
     "output_type": "execute_result"
    }
   ],
   "source": [
    "df.duplicated().sum()\n"
   ]
  },
  {
   "cell_type": "markdown",
   "metadata": {},
   "source": [
    "* Total of 32211 records are duplicate. Utilizing pandas functionality, we identified and quantified these redundancies."
   ]
  },
  {
   "cell_type": "code",
   "execution_count": 470,
   "metadata": {},
   "outputs": [],
   "source": [
    "df1 = df.drop_duplicates()"
   ]
  },
  {
   "cell_type": "markdown",
   "metadata": {},
   "source": [
    "* With a clear understanding of the extent of duplicacy, the decision was made to eliminate redundant entries from the dataset."
   ]
  },
  {
   "cell_type": "markdown",
   "metadata": {},
   "source": [
    "     Missing Data"
   ]
  },
  {
   "cell_type": "code",
   "execution_count": 471,
   "metadata": {},
   "outputs": [
    {
     "data": {
      "text/plain": [
       "TYPE               0\n",
       "YEAR               0\n",
       "MONTH              0\n",
       "DAY                0\n",
       "HOUR               0\n",
       "MINUTE             0\n",
       "HUNDRED_BLOCK     12\n",
       "NEIGHBOURHOOD    142\n",
       "X                 75\n",
       "Y                 75\n",
       "dtype: int64"
      ]
     },
     "execution_count": 471,
     "metadata": {},
     "output_type": "execute_result"
    }
   ],
   "source": [
    "df1.isnull().sum()"
   ]
  },
  {
   "cell_type": "markdown",
   "metadata": {},
   "source": [
    "* Given that the number of rows with null values is relatively small compared to the overall dataset, \n",
    "opting for removal is a viable consideration."
   ]
  },
  {
   "cell_type": "code",
   "execution_count": 472,
   "metadata": {},
   "outputs": [],
   "source": [
    "data = df1.dropna()"
   ]
  },
  {
   "cell_type": "code",
   "execution_count": 473,
   "metadata": {},
   "outputs": [
    {
     "data": {
      "text/html": [
       "<div>\n",
       "<style scoped>\n",
       "    .dataframe tbody tr th:only-of-type {\n",
       "        vertical-align: middle;\n",
       "    }\n",
       "\n",
       "    .dataframe tbody tr th {\n",
       "        vertical-align: top;\n",
       "    }\n",
       "\n",
       "    .dataframe thead th {\n",
       "        text-align: right;\n",
       "    }\n",
       "</style>\n",
       "<table border=\"1\" class=\"dataframe\">\n",
       "  <thead>\n",
       "    <tr style=\"text-align: right;\">\n",
       "      <th></th>\n",
       "      <th>TYPE</th>\n",
       "      <th>YEAR</th>\n",
       "      <th>MONTH</th>\n",
       "      <th>DAY</th>\n",
       "      <th>HOUR</th>\n",
       "      <th>MINUTE</th>\n",
       "      <th>HUNDRED_BLOCK</th>\n",
       "      <th>NEIGHBOURHOOD</th>\n",
       "      <th>X</th>\n",
       "      <th>Y</th>\n",
       "    </tr>\n",
       "  </thead>\n",
       "  <tbody>\n",
       "    <tr>\n",
       "      <th>1</th>\n",
       "      <td>Break and Enter Commercial</td>\n",
       "      <td>2019</td>\n",
       "      <td>3</td>\n",
       "      <td>7</td>\n",
       "      <td>2</td>\n",
       "      <td>6</td>\n",
       "      <td>10XX SITKA SQ</td>\n",
       "      <td>Fairview</td>\n",
       "      <td>490612.9648</td>\n",
       "      <td>5.457110e+06</td>\n",
       "    </tr>\n",
       "    <tr>\n",
       "      <th>2</th>\n",
       "      <td>Break and Enter Commercial</td>\n",
       "      <td>2019</td>\n",
       "      <td>8</td>\n",
       "      <td>27</td>\n",
       "      <td>4</td>\n",
       "      <td>12</td>\n",
       "      <td>10XX ALBERNI ST</td>\n",
       "      <td>West End</td>\n",
       "      <td>491004.8164</td>\n",
       "      <td>5.459177e+06</td>\n",
       "    </tr>\n",
       "    <tr>\n",
       "      <th>3</th>\n",
       "      <td>Break and Enter Commercial</td>\n",
       "      <td>2021</td>\n",
       "      <td>4</td>\n",
       "      <td>26</td>\n",
       "      <td>4</td>\n",
       "      <td>44</td>\n",
       "      <td>10XX ALBERNI ST</td>\n",
       "      <td>West End</td>\n",
       "      <td>491007.7798</td>\n",
       "      <td>5.459174e+06</td>\n",
       "    </tr>\n",
       "    <tr>\n",
       "      <th>4</th>\n",
       "      <td>Break and Enter Commercial</td>\n",
       "      <td>2014</td>\n",
       "      <td>8</td>\n",
       "      <td>8</td>\n",
       "      <td>5</td>\n",
       "      <td>13</td>\n",
       "      <td>10XX ALBERNI ST</td>\n",
       "      <td>West End</td>\n",
       "      <td>491015.9434</td>\n",
       "      <td>5.459166e+06</td>\n",
       "    </tr>\n",
       "    <tr>\n",
       "      <th>5</th>\n",
       "      <td>Break and Enter Commercial</td>\n",
       "      <td>2020</td>\n",
       "      <td>7</td>\n",
       "      <td>28</td>\n",
       "      <td>19</td>\n",
       "      <td>12</td>\n",
       "      <td>10XX ALBERNI ST</td>\n",
       "      <td>West End</td>\n",
       "      <td>491015.9434</td>\n",
       "      <td>5.459166e+06</td>\n",
       "    </tr>\n",
       "  </tbody>\n",
       "</table>\n",
       "</div>"
      ],
      "text/plain": [
       "                         TYPE  YEAR  MONTH  DAY  HOUR  MINUTE  \\\n",
       "1  Break and Enter Commercial  2019      3    7     2       6   \n",
       "2  Break and Enter Commercial  2019      8   27     4      12   \n",
       "3  Break and Enter Commercial  2021      4   26     4      44   \n",
       "4  Break and Enter Commercial  2014      8    8     5      13   \n",
       "5  Break and Enter Commercial  2020      7   28    19      12   \n",
       "\n",
       "     HUNDRED_BLOCK NEIGHBOURHOOD            X             Y  \n",
       "1    10XX SITKA SQ      Fairview  490612.9648  5.457110e+06  \n",
       "2  10XX ALBERNI ST      West End  491004.8164  5.459177e+06  \n",
       "3  10XX ALBERNI ST      West End  491007.7798  5.459174e+06  \n",
       "4  10XX ALBERNI ST      West End  491015.9434  5.459166e+06  \n",
       "5  10XX ALBERNI ST      West End  491015.9434  5.459166e+06  "
      ]
     },
     "execution_count": 473,
     "metadata": {},
     "output_type": "execute_result"
    }
   ],
   "source": [
    "data.head()"
   ]
  },
  {
   "cell_type": "markdown",
   "metadata": {},
   "source": [
    "*  'data' is the dataframe we will use further to anlayze and visualize or to make pivot table "
   ]
  },
  {
   "cell_type": "code",
   "execution_count": 474,
   "metadata": {},
   "outputs": [
    {
     "data": {
      "text/plain": [
       "array(['Break and Enter Commercial', 'Break and Enter Residential/Other',\n",
       "       'Homicide', 'Mischief', 'Offence Against a Person', 'Other Theft',\n",
       "       'Theft from Vehicle', 'Theft of Bicycle', 'Theft of Vehicle',\n",
       "       'Vehicle Collision or Pedestrian Struck (with Fatality)',\n",
       "       'Vehicle Collision or Pedestrian Struck (with Injury)'],\n",
       "      dtype=object)"
      ]
     },
     "execution_count": 474,
     "metadata": {},
     "output_type": "execute_result"
    }
   ],
   "source": [
    "data.TYPE.unique()"
   ]
  },
  {
   "cell_type": "markdown",
   "metadata": {},
   "source": [
    "\n",
    "     Exploratory Data Analysis"
   ]
  },
  {
   "cell_type": "markdown",
   "metadata": {},
   "source": [
    "        Crime Count Visualization on Yearly Basis"
   ]
  },
  {
   "cell_type": "code",
   "execution_count": 475,
   "metadata": {},
   "outputs": [
    {
     "data": {
      "application/vnd.plotly.v1+json": {
       "config": {
        "plotlyServerURL": "https://plot.ly"
       },
       "data": [
        {
         "hovertemplate": "YEAR=%{x}<br>count=%{y}<extra></extra>",
         "legendgroup": "",
         "line": {
          "color": "#636efa",
          "dash": "solid"
         },
         "marker": {
          "symbol": "circle"
         },
         "mode": "lines",
         "name": "",
         "orientation": "v",
         "showlegend": false,
         "type": "scatter",
         "x": [
          2003,
          2004,
          2005,
          2006,
          2007,
          2008,
          2009,
          2010,
          2011,
          2012,
          2013,
          2014,
          2015,
          2016,
          2017,
          2018,
          2019,
          2020,
          2021,
          2022,
          2023
         ],
         "xaxis": "x",
         "y": [
          57591,
          56747,
          52022,
          47880,
          42485,
          39931,
          36376,
          34155,
          32738,
          33903,
          34243,
          37992,
          38927,
          42800,
          41897,
          43018,
          46579,
          35778,
          30453,
          32406,
          30956
         ],
         "yaxis": "y"
        }
       ],
       "layout": {
        "font": {
         "color": "black",
         "family": "Arial",
         "size": 12
        },
        "legend": {
         "tracegroupgap": 0
        },
        "margin": {
         "t": 60
        },
        "template": {
         "data": {
          "bar": [
           {
            "error_x": {
             "color": "#2a3f5f"
            },
            "error_y": {
             "color": "#2a3f5f"
            },
            "marker": {
             "line": {
              "color": "#E5ECF6",
              "width": 0.5
             },
             "pattern": {
              "fillmode": "overlay",
              "size": 10,
              "solidity": 0.2
             }
            },
            "type": "bar"
           }
          ],
          "barpolar": [
           {
            "marker": {
             "line": {
              "color": "#E5ECF6",
              "width": 0.5
             },
             "pattern": {
              "fillmode": "overlay",
              "size": 10,
              "solidity": 0.2
             }
            },
            "type": "barpolar"
           }
          ],
          "carpet": [
           {
            "aaxis": {
             "endlinecolor": "#2a3f5f",
             "gridcolor": "white",
             "linecolor": "white",
             "minorgridcolor": "white",
             "startlinecolor": "#2a3f5f"
            },
            "baxis": {
             "endlinecolor": "#2a3f5f",
             "gridcolor": "white",
             "linecolor": "white",
             "minorgridcolor": "white",
             "startlinecolor": "#2a3f5f"
            },
            "type": "carpet"
           }
          ],
          "choropleth": [
           {
            "colorbar": {
             "outlinewidth": 0,
             "ticks": ""
            },
            "type": "choropleth"
           }
          ],
          "contour": [
           {
            "colorbar": {
             "outlinewidth": 0,
             "ticks": ""
            },
            "colorscale": [
             [
              0,
              "#0d0887"
             ],
             [
              0.1111111111111111,
              "#46039f"
             ],
             [
              0.2222222222222222,
              "#7201a8"
             ],
             [
              0.3333333333333333,
              "#9c179e"
             ],
             [
              0.4444444444444444,
              "#bd3786"
             ],
             [
              0.5555555555555556,
              "#d8576b"
             ],
             [
              0.6666666666666666,
              "#ed7953"
             ],
             [
              0.7777777777777778,
              "#fb9f3a"
             ],
             [
              0.8888888888888888,
              "#fdca26"
             ],
             [
              1,
              "#f0f921"
             ]
            ],
            "type": "contour"
           }
          ],
          "contourcarpet": [
           {
            "colorbar": {
             "outlinewidth": 0,
             "ticks": ""
            },
            "type": "contourcarpet"
           }
          ],
          "heatmap": [
           {
            "colorbar": {
             "outlinewidth": 0,
             "ticks": ""
            },
            "colorscale": [
             [
              0,
              "#0d0887"
             ],
             [
              0.1111111111111111,
              "#46039f"
             ],
             [
              0.2222222222222222,
              "#7201a8"
             ],
             [
              0.3333333333333333,
              "#9c179e"
             ],
             [
              0.4444444444444444,
              "#bd3786"
             ],
             [
              0.5555555555555556,
              "#d8576b"
             ],
             [
              0.6666666666666666,
              "#ed7953"
             ],
             [
              0.7777777777777778,
              "#fb9f3a"
             ],
             [
              0.8888888888888888,
              "#fdca26"
             ],
             [
              1,
              "#f0f921"
             ]
            ],
            "type": "heatmap"
           }
          ],
          "heatmapgl": [
           {
            "colorbar": {
             "outlinewidth": 0,
             "ticks": ""
            },
            "colorscale": [
             [
              0,
              "#0d0887"
             ],
             [
              0.1111111111111111,
              "#46039f"
             ],
             [
              0.2222222222222222,
              "#7201a8"
             ],
             [
              0.3333333333333333,
              "#9c179e"
             ],
             [
              0.4444444444444444,
              "#bd3786"
             ],
             [
              0.5555555555555556,
              "#d8576b"
             ],
             [
              0.6666666666666666,
              "#ed7953"
             ],
             [
              0.7777777777777778,
              "#fb9f3a"
             ],
             [
              0.8888888888888888,
              "#fdca26"
             ],
             [
              1,
              "#f0f921"
             ]
            ],
            "type": "heatmapgl"
           }
          ],
          "histogram": [
           {
            "marker": {
             "pattern": {
              "fillmode": "overlay",
              "size": 10,
              "solidity": 0.2
             }
            },
            "type": "histogram"
           }
          ],
          "histogram2d": [
           {
            "colorbar": {
             "outlinewidth": 0,
             "ticks": ""
            },
            "colorscale": [
             [
              0,
              "#0d0887"
             ],
             [
              0.1111111111111111,
              "#46039f"
             ],
             [
              0.2222222222222222,
              "#7201a8"
             ],
             [
              0.3333333333333333,
              "#9c179e"
             ],
             [
              0.4444444444444444,
              "#bd3786"
             ],
             [
              0.5555555555555556,
              "#d8576b"
             ],
             [
              0.6666666666666666,
              "#ed7953"
             ],
             [
              0.7777777777777778,
              "#fb9f3a"
             ],
             [
              0.8888888888888888,
              "#fdca26"
             ],
             [
              1,
              "#f0f921"
             ]
            ],
            "type": "histogram2d"
           }
          ],
          "histogram2dcontour": [
           {
            "colorbar": {
             "outlinewidth": 0,
             "ticks": ""
            },
            "colorscale": [
             [
              0,
              "#0d0887"
             ],
             [
              0.1111111111111111,
              "#46039f"
             ],
             [
              0.2222222222222222,
              "#7201a8"
             ],
             [
              0.3333333333333333,
              "#9c179e"
             ],
             [
              0.4444444444444444,
              "#bd3786"
             ],
             [
              0.5555555555555556,
              "#d8576b"
             ],
             [
              0.6666666666666666,
              "#ed7953"
             ],
             [
              0.7777777777777778,
              "#fb9f3a"
             ],
             [
              0.8888888888888888,
              "#fdca26"
             ],
             [
              1,
              "#f0f921"
             ]
            ],
            "type": "histogram2dcontour"
           }
          ],
          "mesh3d": [
           {
            "colorbar": {
             "outlinewidth": 0,
             "ticks": ""
            },
            "type": "mesh3d"
           }
          ],
          "parcoords": [
           {
            "line": {
             "colorbar": {
              "outlinewidth": 0,
              "ticks": ""
             }
            },
            "type": "parcoords"
           }
          ],
          "pie": [
           {
            "automargin": true,
            "type": "pie"
           }
          ],
          "scatter": [
           {
            "fillpattern": {
             "fillmode": "overlay",
             "size": 10,
             "solidity": 0.2
            },
            "type": "scatter"
           }
          ],
          "scatter3d": [
           {
            "line": {
             "colorbar": {
              "outlinewidth": 0,
              "ticks": ""
             }
            },
            "marker": {
             "colorbar": {
              "outlinewidth": 0,
              "ticks": ""
             }
            },
            "type": "scatter3d"
           }
          ],
          "scattercarpet": [
           {
            "marker": {
             "colorbar": {
              "outlinewidth": 0,
              "ticks": ""
             }
            },
            "type": "scattercarpet"
           }
          ],
          "scattergeo": [
           {
            "marker": {
             "colorbar": {
              "outlinewidth": 0,
              "ticks": ""
             }
            },
            "type": "scattergeo"
           }
          ],
          "scattergl": [
           {
            "marker": {
             "colorbar": {
              "outlinewidth": 0,
              "ticks": ""
             }
            },
            "type": "scattergl"
           }
          ],
          "scattermapbox": [
           {
            "marker": {
             "colorbar": {
              "outlinewidth": 0,
              "ticks": ""
             }
            },
            "type": "scattermapbox"
           }
          ],
          "scatterpolar": [
           {
            "marker": {
             "colorbar": {
              "outlinewidth": 0,
              "ticks": ""
             }
            },
            "type": "scatterpolar"
           }
          ],
          "scatterpolargl": [
           {
            "marker": {
             "colorbar": {
              "outlinewidth": 0,
              "ticks": ""
             }
            },
            "type": "scatterpolargl"
           }
          ],
          "scatterternary": [
           {
            "marker": {
             "colorbar": {
              "outlinewidth": 0,
              "ticks": ""
             }
            },
            "type": "scatterternary"
           }
          ],
          "surface": [
           {
            "colorbar": {
             "outlinewidth": 0,
             "ticks": ""
            },
            "colorscale": [
             [
              0,
              "#0d0887"
             ],
             [
              0.1111111111111111,
              "#46039f"
             ],
             [
              0.2222222222222222,
              "#7201a8"
             ],
             [
              0.3333333333333333,
              "#9c179e"
             ],
             [
              0.4444444444444444,
              "#bd3786"
             ],
             [
              0.5555555555555556,
              "#d8576b"
             ],
             [
              0.6666666666666666,
              "#ed7953"
             ],
             [
              0.7777777777777778,
              "#fb9f3a"
             ],
             [
              0.8888888888888888,
              "#fdca26"
             ],
             [
              1,
              "#f0f921"
             ]
            ],
            "type": "surface"
           }
          ],
          "table": [
           {
            "cells": {
             "fill": {
              "color": "#EBF0F8"
             },
             "line": {
              "color": "white"
             }
            },
            "header": {
             "fill": {
              "color": "#C8D4E3"
             },
             "line": {
              "color": "white"
             }
            },
            "type": "table"
           }
          ]
         },
         "layout": {
          "annotationdefaults": {
           "arrowcolor": "#2a3f5f",
           "arrowhead": 0,
           "arrowwidth": 1
          },
          "autotypenumbers": "strict",
          "coloraxis": {
           "colorbar": {
            "outlinewidth": 0,
            "ticks": ""
           }
          },
          "colorscale": {
           "diverging": [
            [
             0,
             "#8e0152"
            ],
            [
             0.1,
             "#c51b7d"
            ],
            [
             0.2,
             "#de77ae"
            ],
            [
             0.3,
             "#f1b6da"
            ],
            [
             0.4,
             "#fde0ef"
            ],
            [
             0.5,
             "#f7f7f7"
            ],
            [
             0.6,
             "#e6f5d0"
            ],
            [
             0.7,
             "#b8e186"
            ],
            [
             0.8,
             "#7fbc41"
            ],
            [
             0.9,
             "#4d9221"
            ],
            [
             1,
             "#276419"
            ]
           ],
           "sequential": [
            [
             0,
             "#0d0887"
            ],
            [
             0.1111111111111111,
             "#46039f"
            ],
            [
             0.2222222222222222,
             "#7201a8"
            ],
            [
             0.3333333333333333,
             "#9c179e"
            ],
            [
             0.4444444444444444,
             "#bd3786"
            ],
            [
             0.5555555555555556,
             "#d8576b"
            ],
            [
             0.6666666666666666,
             "#ed7953"
            ],
            [
             0.7777777777777778,
             "#fb9f3a"
            ],
            [
             0.8888888888888888,
             "#fdca26"
            ],
            [
             1,
             "#f0f921"
            ]
           ],
           "sequentialminus": [
            [
             0,
             "#0d0887"
            ],
            [
             0.1111111111111111,
             "#46039f"
            ],
            [
             0.2222222222222222,
             "#7201a8"
            ],
            [
             0.3333333333333333,
             "#9c179e"
            ],
            [
             0.4444444444444444,
             "#bd3786"
            ],
            [
             0.5555555555555556,
             "#d8576b"
            ],
            [
             0.6666666666666666,
             "#ed7953"
            ],
            [
             0.7777777777777778,
             "#fb9f3a"
            ],
            [
             0.8888888888888888,
             "#fdca26"
            ],
            [
             1,
             "#f0f921"
            ]
           ]
          },
          "colorway": [
           "#636efa",
           "#EF553B",
           "#00cc96",
           "#ab63fa",
           "#FFA15A",
           "#19d3f3",
           "#FF6692",
           "#B6E880",
           "#FF97FF",
           "#FECB52"
          ],
          "font": {
           "color": "#2a3f5f"
          },
          "geo": {
           "bgcolor": "white",
           "lakecolor": "white",
           "landcolor": "#E5ECF6",
           "showlakes": true,
           "showland": true,
           "subunitcolor": "white"
          },
          "hoverlabel": {
           "align": "left"
          },
          "hovermode": "closest",
          "mapbox": {
           "style": "light"
          },
          "paper_bgcolor": "white",
          "plot_bgcolor": "#E5ECF6",
          "polar": {
           "angularaxis": {
            "gridcolor": "white",
            "linecolor": "white",
            "ticks": ""
           },
           "bgcolor": "#E5ECF6",
           "radialaxis": {
            "gridcolor": "white",
            "linecolor": "white",
            "ticks": ""
           }
          },
          "scene": {
           "xaxis": {
            "backgroundcolor": "#E5ECF6",
            "gridcolor": "white",
            "gridwidth": 2,
            "linecolor": "white",
            "showbackground": true,
            "ticks": "",
            "zerolinecolor": "white"
           },
           "yaxis": {
            "backgroundcolor": "#E5ECF6",
            "gridcolor": "white",
            "gridwidth": 2,
            "linecolor": "white",
            "showbackground": true,
            "ticks": "",
            "zerolinecolor": "white"
           },
           "zaxis": {
            "backgroundcolor": "#E5ECF6",
            "gridcolor": "white",
            "gridwidth": 2,
            "linecolor": "white",
            "showbackground": true,
            "ticks": "",
            "zerolinecolor": "white"
           }
          },
          "shapedefaults": {
           "line": {
            "color": "#2a3f5f"
           }
          },
          "ternary": {
           "aaxis": {
            "gridcolor": "white",
            "linecolor": "white",
            "ticks": ""
           },
           "baxis": {
            "gridcolor": "white",
            "linecolor": "white",
            "ticks": ""
           },
           "bgcolor": "#E5ECF6",
           "caxis": {
            "gridcolor": "white",
            "linecolor": "white",
            "ticks": ""
           }
          },
          "title": {
           "x": 0.05
          },
          "xaxis": {
           "automargin": true,
           "gridcolor": "white",
           "linecolor": "white",
           "ticks": "",
           "title": {
            "standoff": 15
           },
           "zerolinecolor": "white",
           "zerolinewidth": 2
          },
          "yaxis": {
           "automargin": true,
           "gridcolor": "white",
           "linecolor": "white",
           "ticks": "",
           "title": {
            "standoff": 15
           },
           "zerolinecolor": "white",
           "zerolinewidth": 2
          }
         }
        },
        "title": {
         "text": "Yearly Crime Count"
        },
        "xaxis": {
         "anchor": "y",
         "domain": [
          0,
          1
         ],
         "title": {
          "text": "Year"
         }
        },
        "yaxis": {
         "anchor": "x",
         "domain": [
          0,
          1
         ],
         "title": {
          "text": "Crime Count"
         }
        }
       }
      }
     },
     "metadata": {},
     "output_type": "display_data"
    }
   ],
   "source": [
    "\n",
    "yearly_data = data.groupby([\"YEAR\"]).size().reset_index(name = \"count\")\n",
    "fig = px.line(yearly_data, x = \"YEAR\" , y = \"count\")\n",
    "fig.update_layout(\n",
    "    title=\"Yearly Crime Count\",\n",
    "    xaxis_title=\"Year\",\n",
    "    yaxis_title=\"Crime Count\",\n",
    "    font=dict(family=\"Arial\", size=12, color=\"black\"),\n",
    ")\n",
    "\n",
    "fig.show()"
   ]
  },
  {
   "cell_type": "markdown",
   "metadata": {},
   "source": [
    "The temporal analysis of crime count in Vancouver from 2003 to 2023 exposes intriguing patterns that reflect the dynamic nature of criminal activities within the city. Two distinctive phases emerge, shaping the trajectory of crime over the years.\n",
    "\n",
    "1. Initial High Count and Subsequent Decline (2003-2011):\n",
    "\n",
    "      Observation:-  The inception of the analyzed period, around 2003, witnessed a substantial surge in crime count, gradually reaching its zenith. However, this trend takes a significant turn around 2011, with a consistent and substantial decline in reported criminal incidents.\n",
    "\n",
    "      Interpretation:-  This initial surge and subsequent decline could be attributed to a variety of factors, including changes in law enforcement strategies, community-based initiatives, or economic and demographic shifts. Understanding the specific catalysts behind this decline offers valuable insights into effective crime mitigation.\n",
    "\n",
    "2. Resurgence Post-2011, Culminating in Peaks and Valleys:\n",
    "\n",
    "     Observation:-  The latter part of the analyzed period, from 2011 onwards, unfolds a contrasting narrative. A resurgence in crime count is noticeable, with fluctuations marked by notable peaks, most prominently observed in 2019, followed by a sudden and pronounced dip in 2021.\n",
    "   \n",
    "     Interpretation:- The post-2011 resurgence suggests evolving challenges or changes in contributing factors that may have impacted crime rates. The sharp peaks and subsequent troughs in 2019 and 2021 warrant an in-depth examination of the specific events or policy interventions that could have influenced these abrupt shifts."
   ]
  },
  {
   "cell_type": "markdown",
   "metadata": {},
   "source": [
    "     Crime Count Visualization on Monthly Basis"
   ]
  },
  {
   "cell_type": "code",
   "execution_count": 476,
   "metadata": {},
   "outputs": [
    {
     "data": {
      "application/vnd.plotly.v1+json": {
       "config": {
        "plotlyServerURL": "https://plot.ly"
       },
       "data": [
        {
         "hovertemplate": "MONTH=%{x}<br>count=%{y}<extra></extra>",
         "legendgroup": "",
         "line": {
          "color": "#636efa",
          "dash": "solid"
         },
         "marker": {
          "symbol": "circle"
         },
         "mode": "lines",
         "name": "",
         "orientation": "v",
         "showlegend": false,
         "type": "scatter",
         "x": [
          "Jan",
          "Feb",
          "Mar",
          "Apr",
          "May",
          "Jun",
          "Jul",
          "Aug",
          "Sep",
          "Oct",
          "Nov",
          "Dec"
         ],
         "xaxis": "x",
         "y": [
          70537,
          63719,
          70608,
          68536,
          71742,
          72118,
          74273,
          77046,
          73468,
          74316,
          68356,
          64158
         ],
         "yaxis": "y"
        }
       ],
       "layout": {
        "font": {
         "color": "black",
         "family": "Arial",
         "size": 12
        },
        "legend": {
         "tracegroupgap": 0
        },
        "margin": {
         "t": 60
        },
        "template": {
         "data": {
          "bar": [
           {
            "error_x": {
             "color": "#2a3f5f"
            },
            "error_y": {
             "color": "#2a3f5f"
            },
            "marker": {
             "line": {
              "color": "#E5ECF6",
              "width": 0.5
             },
             "pattern": {
              "fillmode": "overlay",
              "size": 10,
              "solidity": 0.2
             }
            },
            "type": "bar"
           }
          ],
          "barpolar": [
           {
            "marker": {
             "line": {
              "color": "#E5ECF6",
              "width": 0.5
             },
             "pattern": {
              "fillmode": "overlay",
              "size": 10,
              "solidity": 0.2
             }
            },
            "type": "barpolar"
           }
          ],
          "carpet": [
           {
            "aaxis": {
             "endlinecolor": "#2a3f5f",
             "gridcolor": "white",
             "linecolor": "white",
             "minorgridcolor": "white",
             "startlinecolor": "#2a3f5f"
            },
            "baxis": {
             "endlinecolor": "#2a3f5f",
             "gridcolor": "white",
             "linecolor": "white",
             "minorgridcolor": "white",
             "startlinecolor": "#2a3f5f"
            },
            "type": "carpet"
           }
          ],
          "choropleth": [
           {
            "colorbar": {
             "outlinewidth": 0,
             "ticks": ""
            },
            "type": "choropleth"
           }
          ],
          "contour": [
           {
            "colorbar": {
             "outlinewidth": 0,
             "ticks": ""
            },
            "colorscale": [
             [
              0,
              "#0d0887"
             ],
             [
              0.1111111111111111,
              "#46039f"
             ],
             [
              0.2222222222222222,
              "#7201a8"
             ],
             [
              0.3333333333333333,
              "#9c179e"
             ],
             [
              0.4444444444444444,
              "#bd3786"
             ],
             [
              0.5555555555555556,
              "#d8576b"
             ],
             [
              0.6666666666666666,
              "#ed7953"
             ],
             [
              0.7777777777777778,
              "#fb9f3a"
             ],
             [
              0.8888888888888888,
              "#fdca26"
             ],
             [
              1,
              "#f0f921"
             ]
            ],
            "type": "contour"
           }
          ],
          "contourcarpet": [
           {
            "colorbar": {
             "outlinewidth": 0,
             "ticks": ""
            },
            "type": "contourcarpet"
           }
          ],
          "heatmap": [
           {
            "colorbar": {
             "outlinewidth": 0,
             "ticks": ""
            },
            "colorscale": [
             [
              0,
              "#0d0887"
             ],
             [
              0.1111111111111111,
              "#46039f"
             ],
             [
              0.2222222222222222,
              "#7201a8"
             ],
             [
              0.3333333333333333,
              "#9c179e"
             ],
             [
              0.4444444444444444,
              "#bd3786"
             ],
             [
              0.5555555555555556,
              "#d8576b"
             ],
             [
              0.6666666666666666,
              "#ed7953"
             ],
             [
              0.7777777777777778,
              "#fb9f3a"
             ],
             [
              0.8888888888888888,
              "#fdca26"
             ],
             [
              1,
              "#f0f921"
             ]
            ],
            "type": "heatmap"
           }
          ],
          "heatmapgl": [
           {
            "colorbar": {
             "outlinewidth": 0,
             "ticks": ""
            },
            "colorscale": [
             [
              0,
              "#0d0887"
             ],
             [
              0.1111111111111111,
              "#46039f"
             ],
             [
              0.2222222222222222,
              "#7201a8"
             ],
             [
              0.3333333333333333,
              "#9c179e"
             ],
             [
              0.4444444444444444,
              "#bd3786"
             ],
             [
              0.5555555555555556,
              "#d8576b"
             ],
             [
              0.6666666666666666,
              "#ed7953"
             ],
             [
              0.7777777777777778,
              "#fb9f3a"
             ],
             [
              0.8888888888888888,
              "#fdca26"
             ],
             [
              1,
              "#f0f921"
             ]
            ],
            "type": "heatmapgl"
           }
          ],
          "histogram": [
           {
            "marker": {
             "pattern": {
              "fillmode": "overlay",
              "size": 10,
              "solidity": 0.2
             }
            },
            "type": "histogram"
           }
          ],
          "histogram2d": [
           {
            "colorbar": {
             "outlinewidth": 0,
             "ticks": ""
            },
            "colorscale": [
             [
              0,
              "#0d0887"
             ],
             [
              0.1111111111111111,
              "#46039f"
             ],
             [
              0.2222222222222222,
              "#7201a8"
             ],
             [
              0.3333333333333333,
              "#9c179e"
             ],
             [
              0.4444444444444444,
              "#bd3786"
             ],
             [
              0.5555555555555556,
              "#d8576b"
             ],
             [
              0.6666666666666666,
              "#ed7953"
             ],
             [
              0.7777777777777778,
              "#fb9f3a"
             ],
             [
              0.8888888888888888,
              "#fdca26"
             ],
             [
              1,
              "#f0f921"
             ]
            ],
            "type": "histogram2d"
           }
          ],
          "histogram2dcontour": [
           {
            "colorbar": {
             "outlinewidth": 0,
             "ticks": ""
            },
            "colorscale": [
             [
              0,
              "#0d0887"
             ],
             [
              0.1111111111111111,
              "#46039f"
             ],
             [
              0.2222222222222222,
              "#7201a8"
             ],
             [
              0.3333333333333333,
              "#9c179e"
             ],
             [
              0.4444444444444444,
              "#bd3786"
             ],
             [
              0.5555555555555556,
              "#d8576b"
             ],
             [
              0.6666666666666666,
              "#ed7953"
             ],
             [
              0.7777777777777778,
              "#fb9f3a"
             ],
             [
              0.8888888888888888,
              "#fdca26"
             ],
             [
              1,
              "#f0f921"
             ]
            ],
            "type": "histogram2dcontour"
           }
          ],
          "mesh3d": [
           {
            "colorbar": {
             "outlinewidth": 0,
             "ticks": ""
            },
            "type": "mesh3d"
           }
          ],
          "parcoords": [
           {
            "line": {
             "colorbar": {
              "outlinewidth": 0,
              "ticks": ""
             }
            },
            "type": "parcoords"
           }
          ],
          "pie": [
           {
            "automargin": true,
            "type": "pie"
           }
          ],
          "scatter": [
           {
            "fillpattern": {
             "fillmode": "overlay",
             "size": 10,
             "solidity": 0.2
            },
            "type": "scatter"
           }
          ],
          "scatter3d": [
           {
            "line": {
             "colorbar": {
              "outlinewidth": 0,
              "ticks": ""
             }
            },
            "marker": {
             "colorbar": {
              "outlinewidth": 0,
              "ticks": ""
             }
            },
            "type": "scatter3d"
           }
          ],
          "scattercarpet": [
           {
            "marker": {
             "colorbar": {
              "outlinewidth": 0,
              "ticks": ""
             }
            },
            "type": "scattercarpet"
           }
          ],
          "scattergeo": [
           {
            "marker": {
             "colorbar": {
              "outlinewidth": 0,
              "ticks": ""
             }
            },
            "type": "scattergeo"
           }
          ],
          "scattergl": [
           {
            "marker": {
             "colorbar": {
              "outlinewidth": 0,
              "ticks": ""
             }
            },
            "type": "scattergl"
           }
          ],
          "scattermapbox": [
           {
            "marker": {
             "colorbar": {
              "outlinewidth": 0,
              "ticks": ""
             }
            },
            "type": "scattermapbox"
           }
          ],
          "scatterpolar": [
           {
            "marker": {
             "colorbar": {
              "outlinewidth": 0,
              "ticks": ""
             }
            },
            "type": "scatterpolar"
           }
          ],
          "scatterpolargl": [
           {
            "marker": {
             "colorbar": {
              "outlinewidth": 0,
              "ticks": ""
             }
            },
            "type": "scatterpolargl"
           }
          ],
          "scatterternary": [
           {
            "marker": {
             "colorbar": {
              "outlinewidth": 0,
              "ticks": ""
             }
            },
            "type": "scatterternary"
           }
          ],
          "surface": [
           {
            "colorbar": {
             "outlinewidth": 0,
             "ticks": ""
            },
            "colorscale": [
             [
              0,
              "#0d0887"
             ],
             [
              0.1111111111111111,
              "#46039f"
             ],
             [
              0.2222222222222222,
              "#7201a8"
             ],
             [
              0.3333333333333333,
              "#9c179e"
             ],
             [
              0.4444444444444444,
              "#bd3786"
             ],
             [
              0.5555555555555556,
              "#d8576b"
             ],
             [
              0.6666666666666666,
              "#ed7953"
             ],
             [
              0.7777777777777778,
              "#fb9f3a"
             ],
             [
              0.8888888888888888,
              "#fdca26"
             ],
             [
              1,
              "#f0f921"
             ]
            ],
            "type": "surface"
           }
          ],
          "table": [
           {
            "cells": {
             "fill": {
              "color": "#EBF0F8"
             },
             "line": {
              "color": "white"
             }
            },
            "header": {
             "fill": {
              "color": "#C8D4E3"
             },
             "line": {
              "color": "white"
             }
            },
            "type": "table"
           }
          ]
         },
         "layout": {
          "annotationdefaults": {
           "arrowcolor": "#2a3f5f",
           "arrowhead": 0,
           "arrowwidth": 1
          },
          "autotypenumbers": "strict",
          "coloraxis": {
           "colorbar": {
            "outlinewidth": 0,
            "ticks": ""
           }
          },
          "colorscale": {
           "diverging": [
            [
             0,
             "#8e0152"
            ],
            [
             0.1,
             "#c51b7d"
            ],
            [
             0.2,
             "#de77ae"
            ],
            [
             0.3,
             "#f1b6da"
            ],
            [
             0.4,
             "#fde0ef"
            ],
            [
             0.5,
             "#f7f7f7"
            ],
            [
             0.6,
             "#e6f5d0"
            ],
            [
             0.7,
             "#b8e186"
            ],
            [
             0.8,
             "#7fbc41"
            ],
            [
             0.9,
             "#4d9221"
            ],
            [
             1,
             "#276419"
            ]
           ],
           "sequential": [
            [
             0,
             "#0d0887"
            ],
            [
             0.1111111111111111,
             "#46039f"
            ],
            [
             0.2222222222222222,
             "#7201a8"
            ],
            [
             0.3333333333333333,
             "#9c179e"
            ],
            [
             0.4444444444444444,
             "#bd3786"
            ],
            [
             0.5555555555555556,
             "#d8576b"
            ],
            [
             0.6666666666666666,
             "#ed7953"
            ],
            [
             0.7777777777777778,
             "#fb9f3a"
            ],
            [
             0.8888888888888888,
             "#fdca26"
            ],
            [
             1,
             "#f0f921"
            ]
           ],
           "sequentialminus": [
            [
             0,
             "#0d0887"
            ],
            [
             0.1111111111111111,
             "#46039f"
            ],
            [
             0.2222222222222222,
             "#7201a8"
            ],
            [
             0.3333333333333333,
             "#9c179e"
            ],
            [
             0.4444444444444444,
             "#bd3786"
            ],
            [
             0.5555555555555556,
             "#d8576b"
            ],
            [
             0.6666666666666666,
             "#ed7953"
            ],
            [
             0.7777777777777778,
             "#fb9f3a"
            ],
            [
             0.8888888888888888,
             "#fdca26"
            ],
            [
             1,
             "#f0f921"
            ]
           ]
          },
          "colorway": [
           "#636efa",
           "#EF553B",
           "#00cc96",
           "#ab63fa",
           "#FFA15A",
           "#19d3f3",
           "#FF6692",
           "#B6E880",
           "#FF97FF",
           "#FECB52"
          ],
          "font": {
           "color": "#2a3f5f"
          },
          "geo": {
           "bgcolor": "white",
           "lakecolor": "white",
           "landcolor": "#E5ECF6",
           "showlakes": true,
           "showland": true,
           "subunitcolor": "white"
          },
          "hoverlabel": {
           "align": "left"
          },
          "hovermode": "closest",
          "mapbox": {
           "style": "light"
          },
          "paper_bgcolor": "white",
          "plot_bgcolor": "#E5ECF6",
          "polar": {
           "angularaxis": {
            "gridcolor": "white",
            "linecolor": "white",
            "ticks": ""
           },
           "bgcolor": "#E5ECF6",
           "radialaxis": {
            "gridcolor": "white",
            "linecolor": "white",
            "ticks": ""
           }
          },
          "scene": {
           "xaxis": {
            "backgroundcolor": "#E5ECF6",
            "gridcolor": "white",
            "gridwidth": 2,
            "linecolor": "white",
            "showbackground": true,
            "ticks": "",
            "zerolinecolor": "white"
           },
           "yaxis": {
            "backgroundcolor": "#E5ECF6",
            "gridcolor": "white",
            "gridwidth": 2,
            "linecolor": "white",
            "showbackground": true,
            "ticks": "",
            "zerolinecolor": "white"
           },
           "zaxis": {
            "backgroundcolor": "#E5ECF6",
            "gridcolor": "white",
            "gridwidth": 2,
            "linecolor": "white",
            "showbackground": true,
            "ticks": "",
            "zerolinecolor": "white"
           }
          },
          "shapedefaults": {
           "line": {
            "color": "#2a3f5f"
           }
          },
          "ternary": {
           "aaxis": {
            "gridcolor": "white",
            "linecolor": "white",
            "ticks": ""
           },
           "baxis": {
            "gridcolor": "white",
            "linecolor": "white",
            "ticks": ""
           },
           "bgcolor": "#E5ECF6",
           "caxis": {
            "gridcolor": "white",
            "linecolor": "white",
            "ticks": ""
           }
          },
          "title": {
           "x": 0.05
          },
          "xaxis": {
           "automargin": true,
           "gridcolor": "white",
           "linecolor": "white",
           "ticks": "",
           "title": {
            "standoff": 15
           },
           "zerolinecolor": "white",
           "zerolinewidth": 2
          },
          "yaxis": {
           "automargin": true,
           "gridcolor": "white",
           "linecolor": "white",
           "ticks": "",
           "title": {
            "standoff": 15
           },
           "zerolinecolor": "white",
           "zerolinewidth": 2
          }
         }
        },
        "title": {
         "text": "Monthly Crime Count"
        },
        "xaxis": {
         "anchor": "y",
         "domain": [
          0,
          1
         ],
         "title": {
          "text": "Month"
         }
        },
        "yaxis": {
         "anchor": "x",
         "domain": [
          0,
          1
         ],
         "title": {
          "text": "Crime Count"
         }
        }
       }
      }
     },
     "metadata": {},
     "output_type": "display_data"
    }
   ],
   "source": [
    "monthly_data = data.groupby([\"MONTH\"]).size().reset_index(name = \"count\")\n",
    "monthly_data['MONTH'] = monthly_data['MONTH'].apply(lambda x: calendar.month_abbr[x])\n",
    "fig = px.line(monthly_data, x = \"MONTH\" , y = \"count\")\n",
    "\n",
    "fig.update_layout(\n",
    "    title=\"Monthly Crime Count\",\n",
    "    xaxis_title=\"Month\",\n",
    "    yaxis_title=\"Crime Count\",\n",
    "    font=dict(family=\"Arial\", size=12, color=\"black\"),\n",
    ")\n",
    "\n",
    "fig.show()"
   ]
  },
  {
   "cell_type": "markdown",
   "metadata": {},
   "source": [
    "Monthly Crime Count Dynamics: A Quick Overview\n",
    "\n",
    "1. February Dip:\n",
    "\n",
    "   Observation: A notable decrease in crime count is consistently observed in February.\n",
    "\n",
    "   Interpretation: Possible reasons could include seasonal factors, reduced outdoor activities, or specific law enforcement initiatives during this month.\n",
    "\n",
    "2. August Global Maxima and Local Maxima in March, May, and October:\n",
    "\n",
    "   Observation: August consistently experiences the highest crime count globally, with localized peaks in March, May, and October.\n",
    "\n",
    "   Interpretation: Seasonal influences, community events, or socioeconomic factors may contribute to increased criminal activities during these months.\n",
    "     \n",
    "3. December Decline and January Resurgence:\n",
    "\n",
    "   Observation: Crime count sharply declines in December, followed by a local maxima in January.\n",
    "   \n",
    "   Interpretation: Holiday-related factors and law enforcement dynamics during the festive season could lead to the December decline, while the January surge may result from post-holiday activities.\n"
   ]
  },
  {
   "cell_type": "markdown",
   "metadata": {},
   "source": [
    "    Crime Count Visualization on Daily Basis"
   ]
  },
  {
   "cell_type": "code",
   "execution_count": 477,
   "metadata": {},
   "outputs": [
    {
     "data": {
      "application/vnd.plotly.v1+json": {
       "config": {
        "plotlyServerURL": "https://plot.ly"
       },
       "data": [
        {
         "hovertemplate": "DAY=%{x}<br>count=%{y}<extra></extra>",
         "legendgroup": "",
         "line": {
          "color": "#636efa",
          "dash": "solid"
         },
         "marker": {
          "symbol": "circle"
         },
         "mode": "lines",
         "name": "",
         "orientation": "v",
         "showlegend": false,
         "type": "scatter",
         "x": [
          1,
          2,
          3,
          4,
          5,
          6,
          7,
          8,
          9,
          10,
          11,
          12,
          13,
          14,
          15,
          16,
          17,
          18,
          19,
          20,
          21,
          22,
          23,
          24,
          25,
          26,
          27,
          28,
          29,
          30,
          31
         ],
         "xaxis": "x",
         "y": [
          31431,
          27544,
          28071,
          27918,
          28412,
          28390,
          29003,
          28769,
          28870,
          28911,
          29020,
          29469,
          29258,
          29225,
          30883,
          29027,
          29066,
          28377,
          27543,
          27966,
          26494,
          26612,
          25888,
          25471,
          24661,
          25178,
          25313,
          26052,
          24768,
          24685,
          16602
         ],
         "yaxis": "y"
        }
       ],
       "layout": {
        "font": {
         "color": "black",
         "family": "Arial",
         "size": 12
        },
        "legend": {
         "tracegroupgap": 0
        },
        "margin": {
         "t": 60
        },
        "template": {
         "data": {
          "bar": [
           {
            "error_x": {
             "color": "#2a3f5f"
            },
            "error_y": {
             "color": "#2a3f5f"
            },
            "marker": {
             "line": {
              "color": "#E5ECF6",
              "width": 0.5
             },
             "pattern": {
              "fillmode": "overlay",
              "size": 10,
              "solidity": 0.2
             }
            },
            "type": "bar"
           }
          ],
          "barpolar": [
           {
            "marker": {
             "line": {
              "color": "#E5ECF6",
              "width": 0.5
             },
             "pattern": {
              "fillmode": "overlay",
              "size": 10,
              "solidity": 0.2
             }
            },
            "type": "barpolar"
           }
          ],
          "carpet": [
           {
            "aaxis": {
             "endlinecolor": "#2a3f5f",
             "gridcolor": "white",
             "linecolor": "white",
             "minorgridcolor": "white",
             "startlinecolor": "#2a3f5f"
            },
            "baxis": {
             "endlinecolor": "#2a3f5f",
             "gridcolor": "white",
             "linecolor": "white",
             "minorgridcolor": "white",
             "startlinecolor": "#2a3f5f"
            },
            "type": "carpet"
           }
          ],
          "choropleth": [
           {
            "colorbar": {
             "outlinewidth": 0,
             "ticks": ""
            },
            "type": "choropleth"
           }
          ],
          "contour": [
           {
            "colorbar": {
             "outlinewidth": 0,
             "ticks": ""
            },
            "colorscale": [
             [
              0,
              "#0d0887"
             ],
             [
              0.1111111111111111,
              "#46039f"
             ],
             [
              0.2222222222222222,
              "#7201a8"
             ],
             [
              0.3333333333333333,
              "#9c179e"
             ],
             [
              0.4444444444444444,
              "#bd3786"
             ],
             [
              0.5555555555555556,
              "#d8576b"
             ],
             [
              0.6666666666666666,
              "#ed7953"
             ],
             [
              0.7777777777777778,
              "#fb9f3a"
             ],
             [
              0.8888888888888888,
              "#fdca26"
             ],
             [
              1,
              "#f0f921"
             ]
            ],
            "type": "contour"
           }
          ],
          "contourcarpet": [
           {
            "colorbar": {
             "outlinewidth": 0,
             "ticks": ""
            },
            "type": "contourcarpet"
           }
          ],
          "heatmap": [
           {
            "colorbar": {
             "outlinewidth": 0,
             "ticks": ""
            },
            "colorscale": [
             [
              0,
              "#0d0887"
             ],
             [
              0.1111111111111111,
              "#46039f"
             ],
             [
              0.2222222222222222,
              "#7201a8"
             ],
             [
              0.3333333333333333,
              "#9c179e"
             ],
             [
              0.4444444444444444,
              "#bd3786"
             ],
             [
              0.5555555555555556,
              "#d8576b"
             ],
             [
              0.6666666666666666,
              "#ed7953"
             ],
             [
              0.7777777777777778,
              "#fb9f3a"
             ],
             [
              0.8888888888888888,
              "#fdca26"
             ],
             [
              1,
              "#f0f921"
             ]
            ],
            "type": "heatmap"
           }
          ],
          "heatmapgl": [
           {
            "colorbar": {
             "outlinewidth": 0,
             "ticks": ""
            },
            "colorscale": [
             [
              0,
              "#0d0887"
             ],
             [
              0.1111111111111111,
              "#46039f"
             ],
             [
              0.2222222222222222,
              "#7201a8"
             ],
             [
              0.3333333333333333,
              "#9c179e"
             ],
             [
              0.4444444444444444,
              "#bd3786"
             ],
             [
              0.5555555555555556,
              "#d8576b"
             ],
             [
              0.6666666666666666,
              "#ed7953"
             ],
             [
              0.7777777777777778,
              "#fb9f3a"
             ],
             [
              0.8888888888888888,
              "#fdca26"
             ],
             [
              1,
              "#f0f921"
             ]
            ],
            "type": "heatmapgl"
           }
          ],
          "histogram": [
           {
            "marker": {
             "pattern": {
              "fillmode": "overlay",
              "size": 10,
              "solidity": 0.2
             }
            },
            "type": "histogram"
           }
          ],
          "histogram2d": [
           {
            "colorbar": {
             "outlinewidth": 0,
             "ticks": ""
            },
            "colorscale": [
             [
              0,
              "#0d0887"
             ],
             [
              0.1111111111111111,
              "#46039f"
             ],
             [
              0.2222222222222222,
              "#7201a8"
             ],
             [
              0.3333333333333333,
              "#9c179e"
             ],
             [
              0.4444444444444444,
              "#bd3786"
             ],
             [
              0.5555555555555556,
              "#d8576b"
             ],
             [
              0.6666666666666666,
              "#ed7953"
             ],
             [
              0.7777777777777778,
              "#fb9f3a"
             ],
             [
              0.8888888888888888,
              "#fdca26"
             ],
             [
              1,
              "#f0f921"
             ]
            ],
            "type": "histogram2d"
           }
          ],
          "histogram2dcontour": [
           {
            "colorbar": {
             "outlinewidth": 0,
             "ticks": ""
            },
            "colorscale": [
             [
              0,
              "#0d0887"
             ],
             [
              0.1111111111111111,
              "#46039f"
             ],
             [
              0.2222222222222222,
              "#7201a8"
             ],
             [
              0.3333333333333333,
              "#9c179e"
             ],
             [
              0.4444444444444444,
              "#bd3786"
             ],
             [
              0.5555555555555556,
              "#d8576b"
             ],
             [
              0.6666666666666666,
              "#ed7953"
             ],
             [
              0.7777777777777778,
              "#fb9f3a"
             ],
             [
              0.8888888888888888,
              "#fdca26"
             ],
             [
              1,
              "#f0f921"
             ]
            ],
            "type": "histogram2dcontour"
           }
          ],
          "mesh3d": [
           {
            "colorbar": {
             "outlinewidth": 0,
             "ticks": ""
            },
            "type": "mesh3d"
           }
          ],
          "parcoords": [
           {
            "line": {
             "colorbar": {
              "outlinewidth": 0,
              "ticks": ""
             }
            },
            "type": "parcoords"
           }
          ],
          "pie": [
           {
            "automargin": true,
            "type": "pie"
           }
          ],
          "scatter": [
           {
            "fillpattern": {
             "fillmode": "overlay",
             "size": 10,
             "solidity": 0.2
            },
            "type": "scatter"
           }
          ],
          "scatter3d": [
           {
            "line": {
             "colorbar": {
              "outlinewidth": 0,
              "ticks": ""
             }
            },
            "marker": {
             "colorbar": {
              "outlinewidth": 0,
              "ticks": ""
             }
            },
            "type": "scatter3d"
           }
          ],
          "scattercarpet": [
           {
            "marker": {
             "colorbar": {
              "outlinewidth": 0,
              "ticks": ""
             }
            },
            "type": "scattercarpet"
           }
          ],
          "scattergeo": [
           {
            "marker": {
             "colorbar": {
              "outlinewidth": 0,
              "ticks": ""
             }
            },
            "type": "scattergeo"
           }
          ],
          "scattergl": [
           {
            "marker": {
             "colorbar": {
              "outlinewidth": 0,
              "ticks": ""
             }
            },
            "type": "scattergl"
           }
          ],
          "scattermapbox": [
           {
            "marker": {
             "colorbar": {
              "outlinewidth": 0,
              "ticks": ""
             }
            },
            "type": "scattermapbox"
           }
          ],
          "scatterpolar": [
           {
            "marker": {
             "colorbar": {
              "outlinewidth": 0,
              "ticks": ""
             }
            },
            "type": "scatterpolar"
           }
          ],
          "scatterpolargl": [
           {
            "marker": {
             "colorbar": {
              "outlinewidth": 0,
              "ticks": ""
             }
            },
            "type": "scatterpolargl"
           }
          ],
          "scatterternary": [
           {
            "marker": {
             "colorbar": {
              "outlinewidth": 0,
              "ticks": ""
             }
            },
            "type": "scatterternary"
           }
          ],
          "surface": [
           {
            "colorbar": {
             "outlinewidth": 0,
             "ticks": ""
            },
            "colorscale": [
             [
              0,
              "#0d0887"
             ],
             [
              0.1111111111111111,
              "#46039f"
             ],
             [
              0.2222222222222222,
              "#7201a8"
             ],
             [
              0.3333333333333333,
              "#9c179e"
             ],
             [
              0.4444444444444444,
              "#bd3786"
             ],
             [
              0.5555555555555556,
              "#d8576b"
             ],
             [
              0.6666666666666666,
              "#ed7953"
             ],
             [
              0.7777777777777778,
              "#fb9f3a"
             ],
             [
              0.8888888888888888,
              "#fdca26"
             ],
             [
              1,
              "#f0f921"
             ]
            ],
            "type": "surface"
           }
          ],
          "table": [
           {
            "cells": {
             "fill": {
              "color": "#EBF0F8"
             },
             "line": {
              "color": "white"
             }
            },
            "header": {
             "fill": {
              "color": "#C8D4E3"
             },
             "line": {
              "color": "white"
             }
            },
            "type": "table"
           }
          ]
         },
         "layout": {
          "annotationdefaults": {
           "arrowcolor": "#2a3f5f",
           "arrowhead": 0,
           "arrowwidth": 1
          },
          "autotypenumbers": "strict",
          "coloraxis": {
           "colorbar": {
            "outlinewidth": 0,
            "ticks": ""
           }
          },
          "colorscale": {
           "diverging": [
            [
             0,
             "#8e0152"
            ],
            [
             0.1,
             "#c51b7d"
            ],
            [
             0.2,
             "#de77ae"
            ],
            [
             0.3,
             "#f1b6da"
            ],
            [
             0.4,
             "#fde0ef"
            ],
            [
             0.5,
             "#f7f7f7"
            ],
            [
             0.6,
             "#e6f5d0"
            ],
            [
             0.7,
             "#b8e186"
            ],
            [
             0.8,
             "#7fbc41"
            ],
            [
             0.9,
             "#4d9221"
            ],
            [
             1,
             "#276419"
            ]
           ],
           "sequential": [
            [
             0,
             "#0d0887"
            ],
            [
             0.1111111111111111,
             "#46039f"
            ],
            [
             0.2222222222222222,
             "#7201a8"
            ],
            [
             0.3333333333333333,
             "#9c179e"
            ],
            [
             0.4444444444444444,
             "#bd3786"
            ],
            [
             0.5555555555555556,
             "#d8576b"
            ],
            [
             0.6666666666666666,
             "#ed7953"
            ],
            [
             0.7777777777777778,
             "#fb9f3a"
            ],
            [
             0.8888888888888888,
             "#fdca26"
            ],
            [
             1,
             "#f0f921"
            ]
           ],
           "sequentialminus": [
            [
             0,
             "#0d0887"
            ],
            [
             0.1111111111111111,
             "#46039f"
            ],
            [
             0.2222222222222222,
             "#7201a8"
            ],
            [
             0.3333333333333333,
             "#9c179e"
            ],
            [
             0.4444444444444444,
             "#bd3786"
            ],
            [
             0.5555555555555556,
             "#d8576b"
            ],
            [
             0.6666666666666666,
             "#ed7953"
            ],
            [
             0.7777777777777778,
             "#fb9f3a"
            ],
            [
             0.8888888888888888,
             "#fdca26"
            ],
            [
             1,
             "#f0f921"
            ]
           ]
          },
          "colorway": [
           "#636efa",
           "#EF553B",
           "#00cc96",
           "#ab63fa",
           "#FFA15A",
           "#19d3f3",
           "#FF6692",
           "#B6E880",
           "#FF97FF",
           "#FECB52"
          ],
          "font": {
           "color": "#2a3f5f"
          },
          "geo": {
           "bgcolor": "white",
           "lakecolor": "white",
           "landcolor": "#E5ECF6",
           "showlakes": true,
           "showland": true,
           "subunitcolor": "white"
          },
          "hoverlabel": {
           "align": "left"
          },
          "hovermode": "closest",
          "mapbox": {
           "style": "light"
          },
          "paper_bgcolor": "white",
          "plot_bgcolor": "#E5ECF6",
          "polar": {
           "angularaxis": {
            "gridcolor": "white",
            "linecolor": "white",
            "ticks": ""
           },
           "bgcolor": "#E5ECF6",
           "radialaxis": {
            "gridcolor": "white",
            "linecolor": "white",
            "ticks": ""
           }
          },
          "scene": {
           "xaxis": {
            "backgroundcolor": "#E5ECF6",
            "gridcolor": "white",
            "gridwidth": 2,
            "linecolor": "white",
            "showbackground": true,
            "ticks": "",
            "zerolinecolor": "white"
           },
           "yaxis": {
            "backgroundcolor": "#E5ECF6",
            "gridcolor": "white",
            "gridwidth": 2,
            "linecolor": "white",
            "showbackground": true,
            "ticks": "",
            "zerolinecolor": "white"
           },
           "zaxis": {
            "backgroundcolor": "#E5ECF6",
            "gridcolor": "white",
            "gridwidth": 2,
            "linecolor": "white",
            "showbackground": true,
            "ticks": "",
            "zerolinecolor": "white"
           }
          },
          "shapedefaults": {
           "line": {
            "color": "#2a3f5f"
           }
          },
          "ternary": {
           "aaxis": {
            "gridcolor": "white",
            "linecolor": "white",
            "ticks": ""
           },
           "baxis": {
            "gridcolor": "white",
            "linecolor": "white",
            "ticks": ""
           },
           "bgcolor": "#E5ECF6",
           "caxis": {
            "gridcolor": "white",
            "linecolor": "white",
            "ticks": ""
           }
          },
          "title": {
           "x": 0.05
          },
          "xaxis": {
           "automargin": true,
           "gridcolor": "white",
           "linecolor": "white",
           "ticks": "",
           "title": {
            "standoff": 15
           },
           "zerolinecolor": "white",
           "zerolinewidth": 2
          },
          "yaxis": {
           "automargin": true,
           "gridcolor": "white",
           "linecolor": "white",
           "ticks": "",
           "title": {
            "standoff": 15
           },
           "zerolinecolor": "white",
           "zerolinewidth": 2
          }
         }
        },
        "title": {
         "text": "Daily Crime Count"
        },
        "xaxis": {
         "anchor": "y",
         "domain": [
          0,
          1
         ],
         "title": {
          "text": "Day of the Month"
         }
        },
        "yaxis": {
         "anchor": "x",
         "domain": [
          0,
          1
         ],
         "title": {
          "text": "Crime Count"
         }
        }
       }
      }
     },
     "metadata": {},
     "output_type": "display_data"
    }
   ],
   "source": [
    "daily_data = data.groupby([\"DAY\"]).size().reset_index(name = \"count\")\n",
    "fig = px.line(daily_data, x = \"DAY\" , y = \"count\")\n",
    "\n",
    "fig.update_layout(\n",
    "    title=\"Daily Crime Count\",\n",
    "    xaxis_title=\"Day of the Month\",\n",
    "    yaxis_title=\"Crime Count\",\n",
    "    font=dict(family=\"Arial\", size=12, color=\"black\"),\n",
    ")\n",
    "\n",
    "fig.show()"
   ]
  },
  {
   "cell_type": "markdown",
   "metadata": {},
   "source": [
    "The analysis of crime distribution on a day-to-day basis in Vancouver from 2003 to 2023 reveals a nuanced pattern with subtle variations. While no significant daily pattern is evident, a distinct dip at the end of the month and a surge at the beginning stand out.\n",
    "\n",
    "1. Lack of Clear Daily Pattern:\n",
    "\n",
    "    Observation: The distribution of crime incidents throughout the week does not exhibit a discernible daily pattern.\n",
    "    \n",
    "    Interpretation: The absence of a clear daily trend suggests that criminal activities are not consistently influenced by specific weekdays. The dynamics may be more influenced by other temporal factors or situational contexts.\n",
    "2. End-of-Month Dip and Starting-of-Month Surge:\n",
    "    \n",
    "    Observation: A notable dip in crime incidents is observed towards the end of each month, contrasted by a surge at the beginning of the month.\n",
    "    \n",
    "    Interpretation: This cyclic pattern may be attributed to various factors, including financial cycles, law enforcement presence, or shifts in community dynamics associated with monthly cycles."
   ]
  },
  {
   "cell_type": "markdown",
   "metadata": {},
   "source": [
    "    Crime Count Visualization over Time of the Day"
   ]
  },
  {
   "cell_type": "code",
   "execution_count": 478,
   "metadata": {},
   "outputs": [
    {
     "data": {
      "application/vnd.plotly.v1+json": {
       "config": {
        "plotlyServerURL": "https://plot.ly"
       },
       "data": [
        {
         "hovertemplate": "HOUR=%{x}<br>count=%{y}<extra></extra>",
         "legendgroup": "",
         "line": {
          "color": "#636efa",
          "dash": "solid"
         },
         "marker": {
          "symbol": "circle"
         },
         "mode": "lines",
         "name": "",
         "orientation": "v",
         "showlegend": false,
         "type": "scatter",
         "x": [
          0,
          1,
          2,
          3,
          4,
          5,
          6,
          7,
          8,
          9,
          10,
          11,
          12,
          13,
          14,
          15,
          16,
          17,
          18,
          19,
          20,
          21,
          22,
          23
         ],
         "xaxis": "x",
         "y": [
          92888,
          21674,
          17321,
          14810,
          13286,
          12601,
          13303,
          17841,
          26478,
          28744,
          29302,
          29868,
          43450,
          34468,
          37973,
          42300,
          45178,
          52115,
          57288,
          47778,
          44772,
          42821,
          44611,
          38007
         ],
         "yaxis": "y"
        }
       ],
       "layout": {
        "font": {
         "color": "black",
         "family": "Arial",
         "size": 12
        },
        "legend": {
         "tracegroupgap": 0
        },
        "margin": {
         "t": 60
        },
        "template": {
         "data": {
          "bar": [
           {
            "error_x": {
             "color": "#2a3f5f"
            },
            "error_y": {
             "color": "#2a3f5f"
            },
            "marker": {
             "line": {
              "color": "#E5ECF6",
              "width": 0.5
             },
             "pattern": {
              "fillmode": "overlay",
              "size": 10,
              "solidity": 0.2
             }
            },
            "type": "bar"
           }
          ],
          "barpolar": [
           {
            "marker": {
             "line": {
              "color": "#E5ECF6",
              "width": 0.5
             },
             "pattern": {
              "fillmode": "overlay",
              "size": 10,
              "solidity": 0.2
             }
            },
            "type": "barpolar"
           }
          ],
          "carpet": [
           {
            "aaxis": {
             "endlinecolor": "#2a3f5f",
             "gridcolor": "white",
             "linecolor": "white",
             "minorgridcolor": "white",
             "startlinecolor": "#2a3f5f"
            },
            "baxis": {
             "endlinecolor": "#2a3f5f",
             "gridcolor": "white",
             "linecolor": "white",
             "minorgridcolor": "white",
             "startlinecolor": "#2a3f5f"
            },
            "type": "carpet"
           }
          ],
          "choropleth": [
           {
            "colorbar": {
             "outlinewidth": 0,
             "ticks": ""
            },
            "type": "choropleth"
           }
          ],
          "contour": [
           {
            "colorbar": {
             "outlinewidth": 0,
             "ticks": ""
            },
            "colorscale": [
             [
              0,
              "#0d0887"
             ],
             [
              0.1111111111111111,
              "#46039f"
             ],
             [
              0.2222222222222222,
              "#7201a8"
             ],
             [
              0.3333333333333333,
              "#9c179e"
             ],
             [
              0.4444444444444444,
              "#bd3786"
             ],
             [
              0.5555555555555556,
              "#d8576b"
             ],
             [
              0.6666666666666666,
              "#ed7953"
             ],
             [
              0.7777777777777778,
              "#fb9f3a"
             ],
             [
              0.8888888888888888,
              "#fdca26"
             ],
             [
              1,
              "#f0f921"
             ]
            ],
            "type": "contour"
           }
          ],
          "contourcarpet": [
           {
            "colorbar": {
             "outlinewidth": 0,
             "ticks": ""
            },
            "type": "contourcarpet"
           }
          ],
          "heatmap": [
           {
            "colorbar": {
             "outlinewidth": 0,
             "ticks": ""
            },
            "colorscale": [
             [
              0,
              "#0d0887"
             ],
             [
              0.1111111111111111,
              "#46039f"
             ],
             [
              0.2222222222222222,
              "#7201a8"
             ],
             [
              0.3333333333333333,
              "#9c179e"
             ],
             [
              0.4444444444444444,
              "#bd3786"
             ],
             [
              0.5555555555555556,
              "#d8576b"
             ],
             [
              0.6666666666666666,
              "#ed7953"
             ],
             [
              0.7777777777777778,
              "#fb9f3a"
             ],
             [
              0.8888888888888888,
              "#fdca26"
             ],
             [
              1,
              "#f0f921"
             ]
            ],
            "type": "heatmap"
           }
          ],
          "heatmapgl": [
           {
            "colorbar": {
             "outlinewidth": 0,
             "ticks": ""
            },
            "colorscale": [
             [
              0,
              "#0d0887"
             ],
             [
              0.1111111111111111,
              "#46039f"
             ],
             [
              0.2222222222222222,
              "#7201a8"
             ],
             [
              0.3333333333333333,
              "#9c179e"
             ],
             [
              0.4444444444444444,
              "#bd3786"
             ],
             [
              0.5555555555555556,
              "#d8576b"
             ],
             [
              0.6666666666666666,
              "#ed7953"
             ],
             [
              0.7777777777777778,
              "#fb9f3a"
             ],
             [
              0.8888888888888888,
              "#fdca26"
             ],
             [
              1,
              "#f0f921"
             ]
            ],
            "type": "heatmapgl"
           }
          ],
          "histogram": [
           {
            "marker": {
             "pattern": {
              "fillmode": "overlay",
              "size": 10,
              "solidity": 0.2
             }
            },
            "type": "histogram"
           }
          ],
          "histogram2d": [
           {
            "colorbar": {
             "outlinewidth": 0,
             "ticks": ""
            },
            "colorscale": [
             [
              0,
              "#0d0887"
             ],
             [
              0.1111111111111111,
              "#46039f"
             ],
             [
              0.2222222222222222,
              "#7201a8"
             ],
             [
              0.3333333333333333,
              "#9c179e"
             ],
             [
              0.4444444444444444,
              "#bd3786"
             ],
             [
              0.5555555555555556,
              "#d8576b"
             ],
             [
              0.6666666666666666,
              "#ed7953"
             ],
             [
              0.7777777777777778,
              "#fb9f3a"
             ],
             [
              0.8888888888888888,
              "#fdca26"
             ],
             [
              1,
              "#f0f921"
             ]
            ],
            "type": "histogram2d"
           }
          ],
          "histogram2dcontour": [
           {
            "colorbar": {
             "outlinewidth": 0,
             "ticks": ""
            },
            "colorscale": [
             [
              0,
              "#0d0887"
             ],
             [
              0.1111111111111111,
              "#46039f"
             ],
             [
              0.2222222222222222,
              "#7201a8"
             ],
             [
              0.3333333333333333,
              "#9c179e"
             ],
             [
              0.4444444444444444,
              "#bd3786"
             ],
             [
              0.5555555555555556,
              "#d8576b"
             ],
             [
              0.6666666666666666,
              "#ed7953"
             ],
             [
              0.7777777777777778,
              "#fb9f3a"
             ],
             [
              0.8888888888888888,
              "#fdca26"
             ],
             [
              1,
              "#f0f921"
             ]
            ],
            "type": "histogram2dcontour"
           }
          ],
          "mesh3d": [
           {
            "colorbar": {
             "outlinewidth": 0,
             "ticks": ""
            },
            "type": "mesh3d"
           }
          ],
          "parcoords": [
           {
            "line": {
             "colorbar": {
              "outlinewidth": 0,
              "ticks": ""
             }
            },
            "type": "parcoords"
           }
          ],
          "pie": [
           {
            "automargin": true,
            "type": "pie"
           }
          ],
          "scatter": [
           {
            "fillpattern": {
             "fillmode": "overlay",
             "size": 10,
             "solidity": 0.2
            },
            "type": "scatter"
           }
          ],
          "scatter3d": [
           {
            "line": {
             "colorbar": {
              "outlinewidth": 0,
              "ticks": ""
             }
            },
            "marker": {
             "colorbar": {
              "outlinewidth": 0,
              "ticks": ""
             }
            },
            "type": "scatter3d"
           }
          ],
          "scattercarpet": [
           {
            "marker": {
             "colorbar": {
              "outlinewidth": 0,
              "ticks": ""
             }
            },
            "type": "scattercarpet"
           }
          ],
          "scattergeo": [
           {
            "marker": {
             "colorbar": {
              "outlinewidth": 0,
              "ticks": ""
             }
            },
            "type": "scattergeo"
           }
          ],
          "scattergl": [
           {
            "marker": {
             "colorbar": {
              "outlinewidth": 0,
              "ticks": ""
             }
            },
            "type": "scattergl"
           }
          ],
          "scattermapbox": [
           {
            "marker": {
             "colorbar": {
              "outlinewidth": 0,
              "ticks": ""
             }
            },
            "type": "scattermapbox"
           }
          ],
          "scatterpolar": [
           {
            "marker": {
             "colorbar": {
              "outlinewidth": 0,
              "ticks": ""
             }
            },
            "type": "scatterpolar"
           }
          ],
          "scatterpolargl": [
           {
            "marker": {
             "colorbar": {
              "outlinewidth": 0,
              "ticks": ""
             }
            },
            "type": "scatterpolargl"
           }
          ],
          "scatterternary": [
           {
            "marker": {
             "colorbar": {
              "outlinewidth": 0,
              "ticks": ""
             }
            },
            "type": "scatterternary"
           }
          ],
          "surface": [
           {
            "colorbar": {
             "outlinewidth": 0,
             "ticks": ""
            },
            "colorscale": [
             [
              0,
              "#0d0887"
             ],
             [
              0.1111111111111111,
              "#46039f"
             ],
             [
              0.2222222222222222,
              "#7201a8"
             ],
             [
              0.3333333333333333,
              "#9c179e"
             ],
             [
              0.4444444444444444,
              "#bd3786"
             ],
             [
              0.5555555555555556,
              "#d8576b"
             ],
             [
              0.6666666666666666,
              "#ed7953"
             ],
             [
              0.7777777777777778,
              "#fb9f3a"
             ],
             [
              0.8888888888888888,
              "#fdca26"
             ],
             [
              1,
              "#f0f921"
             ]
            ],
            "type": "surface"
           }
          ],
          "table": [
           {
            "cells": {
             "fill": {
              "color": "#EBF0F8"
             },
             "line": {
              "color": "white"
             }
            },
            "header": {
             "fill": {
              "color": "#C8D4E3"
             },
             "line": {
              "color": "white"
             }
            },
            "type": "table"
           }
          ]
         },
         "layout": {
          "annotationdefaults": {
           "arrowcolor": "#2a3f5f",
           "arrowhead": 0,
           "arrowwidth": 1
          },
          "autotypenumbers": "strict",
          "coloraxis": {
           "colorbar": {
            "outlinewidth": 0,
            "ticks": ""
           }
          },
          "colorscale": {
           "diverging": [
            [
             0,
             "#8e0152"
            ],
            [
             0.1,
             "#c51b7d"
            ],
            [
             0.2,
             "#de77ae"
            ],
            [
             0.3,
             "#f1b6da"
            ],
            [
             0.4,
             "#fde0ef"
            ],
            [
             0.5,
             "#f7f7f7"
            ],
            [
             0.6,
             "#e6f5d0"
            ],
            [
             0.7,
             "#b8e186"
            ],
            [
             0.8,
             "#7fbc41"
            ],
            [
             0.9,
             "#4d9221"
            ],
            [
             1,
             "#276419"
            ]
           ],
           "sequential": [
            [
             0,
             "#0d0887"
            ],
            [
             0.1111111111111111,
             "#46039f"
            ],
            [
             0.2222222222222222,
             "#7201a8"
            ],
            [
             0.3333333333333333,
             "#9c179e"
            ],
            [
             0.4444444444444444,
             "#bd3786"
            ],
            [
             0.5555555555555556,
             "#d8576b"
            ],
            [
             0.6666666666666666,
             "#ed7953"
            ],
            [
             0.7777777777777778,
             "#fb9f3a"
            ],
            [
             0.8888888888888888,
             "#fdca26"
            ],
            [
             1,
             "#f0f921"
            ]
           ],
           "sequentialminus": [
            [
             0,
             "#0d0887"
            ],
            [
             0.1111111111111111,
             "#46039f"
            ],
            [
             0.2222222222222222,
             "#7201a8"
            ],
            [
             0.3333333333333333,
             "#9c179e"
            ],
            [
             0.4444444444444444,
             "#bd3786"
            ],
            [
             0.5555555555555556,
             "#d8576b"
            ],
            [
             0.6666666666666666,
             "#ed7953"
            ],
            [
             0.7777777777777778,
             "#fb9f3a"
            ],
            [
             0.8888888888888888,
             "#fdca26"
            ],
            [
             1,
             "#f0f921"
            ]
           ]
          },
          "colorway": [
           "#636efa",
           "#EF553B",
           "#00cc96",
           "#ab63fa",
           "#FFA15A",
           "#19d3f3",
           "#FF6692",
           "#B6E880",
           "#FF97FF",
           "#FECB52"
          ],
          "font": {
           "color": "#2a3f5f"
          },
          "geo": {
           "bgcolor": "white",
           "lakecolor": "white",
           "landcolor": "#E5ECF6",
           "showlakes": true,
           "showland": true,
           "subunitcolor": "white"
          },
          "hoverlabel": {
           "align": "left"
          },
          "hovermode": "closest",
          "mapbox": {
           "style": "light"
          },
          "paper_bgcolor": "white",
          "plot_bgcolor": "#E5ECF6",
          "polar": {
           "angularaxis": {
            "gridcolor": "white",
            "linecolor": "white",
            "ticks": ""
           },
           "bgcolor": "#E5ECF6",
           "radialaxis": {
            "gridcolor": "white",
            "linecolor": "white",
            "ticks": ""
           }
          },
          "scene": {
           "xaxis": {
            "backgroundcolor": "#E5ECF6",
            "gridcolor": "white",
            "gridwidth": 2,
            "linecolor": "white",
            "showbackground": true,
            "ticks": "",
            "zerolinecolor": "white"
           },
           "yaxis": {
            "backgroundcolor": "#E5ECF6",
            "gridcolor": "white",
            "gridwidth": 2,
            "linecolor": "white",
            "showbackground": true,
            "ticks": "",
            "zerolinecolor": "white"
           },
           "zaxis": {
            "backgroundcolor": "#E5ECF6",
            "gridcolor": "white",
            "gridwidth": 2,
            "linecolor": "white",
            "showbackground": true,
            "ticks": "",
            "zerolinecolor": "white"
           }
          },
          "shapedefaults": {
           "line": {
            "color": "#2a3f5f"
           }
          },
          "ternary": {
           "aaxis": {
            "gridcolor": "white",
            "linecolor": "white",
            "ticks": ""
           },
           "baxis": {
            "gridcolor": "white",
            "linecolor": "white",
            "ticks": ""
           },
           "bgcolor": "#E5ECF6",
           "caxis": {
            "gridcolor": "white",
            "linecolor": "white",
            "ticks": ""
           }
          },
          "title": {
           "x": 0.05
          },
          "xaxis": {
           "automargin": true,
           "gridcolor": "white",
           "linecolor": "white",
           "ticks": "",
           "title": {
            "standoff": 15
           },
           "zerolinecolor": "white",
           "zerolinewidth": 2
          },
          "yaxis": {
           "automargin": true,
           "gridcolor": "white",
           "linecolor": "white",
           "ticks": "",
           "title": {
            "standoff": 15
           },
           "zerolinecolor": "white",
           "zerolinewidth": 2
          }
         }
        },
        "title": {
         "text": "Hourly Crime Count"
        },
        "xaxis": {
         "anchor": "y",
         "domain": [
          0,
          1
         ],
         "ticktext": [
          "12 AM",
          "1 AM",
          "2 AM",
          "3 AM",
          "4 AM",
          "5 AM",
          "6 AM",
          "7 AM",
          "8 AM",
          "9 AM",
          "10 AM",
          "11 AM",
          "12 PM",
          "1 PM",
          "2 PM",
          "3 PM",
          "4 PM",
          "5 PM",
          "6 PM",
          "7 PM",
          "8 PM",
          "9 PM",
          "10 PM",
          "11 PM"
         ],
         "tickvals": [
          0,
          1,
          2,
          3,
          4,
          5,
          6,
          7,
          8,
          9,
          10,
          11,
          12,
          13,
          14,
          15,
          16,
          17,
          18,
          19,
          20,
          21,
          22,
          23
         ],
         "title": {
          "text": "Hour of the Day"
         }
        },
        "yaxis": {
         "anchor": "x",
         "domain": [
          0,
          1
         ],
         "title": {
          "text": "Crime Count"
         }
        }
       }
      }
     },
     "metadata": {},
     "output_type": "display_data"
    }
   ],
   "source": [
    "daily_data = data.groupby([\"HOUR\"]).size().reset_index(name = \"count\")\n",
    "fig = px.line(daily_data, x = \"HOUR\" , y = \"count\")\n",
    "fig.update_xaxes(ticktext=[\"12 AM\", \"1 AM\", \"2 AM\", \"3 AM\", \"4 AM\", \"5 AM\", \"6 AM\", \"7 AM\", \"8 AM\", \"9 AM\", \"10 AM\", \"11 AM\",\n",
    "                           \"12 PM\", \"1 PM\", \"2 PM\", \"3 PM\", \"4 PM\", \"5 PM\", \"6 PM\", \"7 PM\", \"8 PM\", \"9 PM\", \"10 PM\", \"11 PM\"],\n",
    "                 tickvals=list(range(24)))\n",
    "\n",
    "fig.update_layout(\n",
    "    title=\"Hourly Crime Count\",\n",
    "    yaxis_title=\"Crime Count\",\n",
    "    xaxis_title=\"Hour of the Day\",\n",
    "    font=dict(family=\"Arial\", size=12, color=\"black\"),\n",
    ")\n",
    "\n",
    "\n",
    "fig.show()"
   ]
  },
  {
   "cell_type": "markdown",
   "metadata": {},
   "source": [
    "The hourly analysis of crime count in Vancouver from 2003 to 2023 exposes a distinctive daily rhythm, with notable patterns observed throughout the 24-hour cycle.\n",
    "\n",
    "1. Midnight Peak at 12 AM:\n",
    "\n",
    "     Observation: A significant peak in crime count is consistently observed around midnight, specifically at 12 AM.\n",
    "\n",
    "    Interpretation: The surge in criminal activities during this hour may be influenced by factors such as reduced visibility, lower law enforcement presence, or heightened opportunities for illicit activities under the cover of darkness.\n",
    "\n",
    "2. Quiescent Period from 1 AM to 6 AM:\n",
    "   \n",
    "   Observation: Between 1 AM and 6 AM, a relative quiescence in crime incidents is observed, indicating a lull during the early morning hours.\n",
    "   \n",
    "   Interpretation: The reduced activity during these hours may be attributed to factors such as lower foot traffic, or societal norms that discourage criminal activities during the late-night and early-morning period.\n",
    "\n",
    "3. Slight Uptick as Day Begins:\n",
    "     \n",
    "     Observation: Crime count experiences a slight elevation as the day begins, persisting at a relatively consistent level throughout the day.\n",
    "    \n",
    "    Interpretation: The gradual increase in criminal activities as the day unfolds could be influenced by a variety of factors, including increased opportunities, higher population density, or changes in routine activities that may present more favorable conditions for certain crimes.\n"
   ]
  },
  {
   "cell_type": "markdown",
   "metadata": {},
   "source": [
    "       Visualization of  Distribution of Crime Types"
   ]
  },
  {
   "cell_type": "code",
   "execution_count": 479,
   "metadata": {},
   "outputs": [
    {
     "data": {
      "application/vnd.plotly.v1+json": {
       "config": {
        "plotlyServerURL": "https://plot.ly"
       },
       "data": [
        {
         "alignmentgroup": "True",
         "hovertemplate": "TYPE=%{x}<br>y=%{y}<extra></extra>",
         "legendgroup": "",
         "marker": {
          "color": "#636efa",
          "pattern": {
           "shape": ""
          }
         },
         "name": "",
         "offsetgroup": "",
         "orientation": "v",
         "showlegend": false,
         "textposition": "auto",
         "type": "bar",
         "x": [
          "Theft from Vehicle",
          "Other Theft",
          "Mischief",
          "Break and Enter Residential/Other",
          "Break and Enter Commercial",
          "Theft of Vehicle",
          "Offence Against a Person",
          "Theft of Bicycle",
          "Vehicle Collision or Pedestrian Struck (with Injury)",
          "Vehicle Collision or Pedestrian Struck (with Fatality)",
          "Homicide"
         ],
         "xaxis": "x",
         "y": [
          243587,
          220224,
          107518,
          72579,
          47907,
          44959,
          44885,
          37280,
          29266,
          357,
          315
         ],
         "yaxis": "y"
        }
       ],
       "layout": {
        "barmode": "relative",
        "font": {
         "color": "black",
         "family": "Arial",
         "size": 12
        },
        "legend": {
         "tracegroupgap": 0
        },
        "margin": {
         "t": 60
        },
        "template": {
         "data": {
          "bar": [
           {
            "error_x": {
             "color": "#2a3f5f"
            },
            "error_y": {
             "color": "#2a3f5f"
            },
            "marker": {
             "line": {
              "color": "#E5ECF6",
              "width": 0.5
             },
             "pattern": {
              "fillmode": "overlay",
              "size": 10,
              "solidity": 0.2
             }
            },
            "type": "bar"
           }
          ],
          "barpolar": [
           {
            "marker": {
             "line": {
              "color": "#E5ECF6",
              "width": 0.5
             },
             "pattern": {
              "fillmode": "overlay",
              "size": 10,
              "solidity": 0.2
             }
            },
            "type": "barpolar"
           }
          ],
          "carpet": [
           {
            "aaxis": {
             "endlinecolor": "#2a3f5f",
             "gridcolor": "white",
             "linecolor": "white",
             "minorgridcolor": "white",
             "startlinecolor": "#2a3f5f"
            },
            "baxis": {
             "endlinecolor": "#2a3f5f",
             "gridcolor": "white",
             "linecolor": "white",
             "minorgridcolor": "white",
             "startlinecolor": "#2a3f5f"
            },
            "type": "carpet"
           }
          ],
          "choropleth": [
           {
            "colorbar": {
             "outlinewidth": 0,
             "ticks": ""
            },
            "type": "choropleth"
           }
          ],
          "contour": [
           {
            "colorbar": {
             "outlinewidth": 0,
             "ticks": ""
            },
            "colorscale": [
             [
              0,
              "#0d0887"
             ],
             [
              0.1111111111111111,
              "#46039f"
             ],
             [
              0.2222222222222222,
              "#7201a8"
             ],
             [
              0.3333333333333333,
              "#9c179e"
             ],
             [
              0.4444444444444444,
              "#bd3786"
             ],
             [
              0.5555555555555556,
              "#d8576b"
             ],
             [
              0.6666666666666666,
              "#ed7953"
             ],
             [
              0.7777777777777778,
              "#fb9f3a"
             ],
             [
              0.8888888888888888,
              "#fdca26"
             ],
             [
              1,
              "#f0f921"
             ]
            ],
            "type": "contour"
           }
          ],
          "contourcarpet": [
           {
            "colorbar": {
             "outlinewidth": 0,
             "ticks": ""
            },
            "type": "contourcarpet"
           }
          ],
          "heatmap": [
           {
            "colorbar": {
             "outlinewidth": 0,
             "ticks": ""
            },
            "colorscale": [
             [
              0,
              "#0d0887"
             ],
             [
              0.1111111111111111,
              "#46039f"
             ],
             [
              0.2222222222222222,
              "#7201a8"
             ],
             [
              0.3333333333333333,
              "#9c179e"
             ],
             [
              0.4444444444444444,
              "#bd3786"
             ],
             [
              0.5555555555555556,
              "#d8576b"
             ],
             [
              0.6666666666666666,
              "#ed7953"
             ],
             [
              0.7777777777777778,
              "#fb9f3a"
             ],
             [
              0.8888888888888888,
              "#fdca26"
             ],
             [
              1,
              "#f0f921"
             ]
            ],
            "type": "heatmap"
           }
          ],
          "heatmapgl": [
           {
            "colorbar": {
             "outlinewidth": 0,
             "ticks": ""
            },
            "colorscale": [
             [
              0,
              "#0d0887"
             ],
             [
              0.1111111111111111,
              "#46039f"
             ],
             [
              0.2222222222222222,
              "#7201a8"
             ],
             [
              0.3333333333333333,
              "#9c179e"
             ],
             [
              0.4444444444444444,
              "#bd3786"
             ],
             [
              0.5555555555555556,
              "#d8576b"
             ],
             [
              0.6666666666666666,
              "#ed7953"
             ],
             [
              0.7777777777777778,
              "#fb9f3a"
             ],
             [
              0.8888888888888888,
              "#fdca26"
             ],
             [
              1,
              "#f0f921"
             ]
            ],
            "type": "heatmapgl"
           }
          ],
          "histogram": [
           {
            "marker": {
             "pattern": {
              "fillmode": "overlay",
              "size": 10,
              "solidity": 0.2
             }
            },
            "type": "histogram"
           }
          ],
          "histogram2d": [
           {
            "colorbar": {
             "outlinewidth": 0,
             "ticks": ""
            },
            "colorscale": [
             [
              0,
              "#0d0887"
             ],
             [
              0.1111111111111111,
              "#46039f"
             ],
             [
              0.2222222222222222,
              "#7201a8"
             ],
             [
              0.3333333333333333,
              "#9c179e"
             ],
             [
              0.4444444444444444,
              "#bd3786"
             ],
             [
              0.5555555555555556,
              "#d8576b"
             ],
             [
              0.6666666666666666,
              "#ed7953"
             ],
             [
              0.7777777777777778,
              "#fb9f3a"
             ],
             [
              0.8888888888888888,
              "#fdca26"
             ],
             [
              1,
              "#f0f921"
             ]
            ],
            "type": "histogram2d"
           }
          ],
          "histogram2dcontour": [
           {
            "colorbar": {
             "outlinewidth": 0,
             "ticks": ""
            },
            "colorscale": [
             [
              0,
              "#0d0887"
             ],
             [
              0.1111111111111111,
              "#46039f"
             ],
             [
              0.2222222222222222,
              "#7201a8"
             ],
             [
              0.3333333333333333,
              "#9c179e"
             ],
             [
              0.4444444444444444,
              "#bd3786"
             ],
             [
              0.5555555555555556,
              "#d8576b"
             ],
             [
              0.6666666666666666,
              "#ed7953"
             ],
             [
              0.7777777777777778,
              "#fb9f3a"
             ],
             [
              0.8888888888888888,
              "#fdca26"
             ],
             [
              1,
              "#f0f921"
             ]
            ],
            "type": "histogram2dcontour"
           }
          ],
          "mesh3d": [
           {
            "colorbar": {
             "outlinewidth": 0,
             "ticks": ""
            },
            "type": "mesh3d"
           }
          ],
          "parcoords": [
           {
            "line": {
             "colorbar": {
              "outlinewidth": 0,
              "ticks": ""
             }
            },
            "type": "parcoords"
           }
          ],
          "pie": [
           {
            "automargin": true,
            "type": "pie"
           }
          ],
          "scatter": [
           {
            "fillpattern": {
             "fillmode": "overlay",
             "size": 10,
             "solidity": 0.2
            },
            "type": "scatter"
           }
          ],
          "scatter3d": [
           {
            "line": {
             "colorbar": {
              "outlinewidth": 0,
              "ticks": ""
             }
            },
            "marker": {
             "colorbar": {
              "outlinewidth": 0,
              "ticks": ""
             }
            },
            "type": "scatter3d"
           }
          ],
          "scattercarpet": [
           {
            "marker": {
             "colorbar": {
              "outlinewidth": 0,
              "ticks": ""
             }
            },
            "type": "scattercarpet"
           }
          ],
          "scattergeo": [
           {
            "marker": {
             "colorbar": {
              "outlinewidth": 0,
              "ticks": ""
             }
            },
            "type": "scattergeo"
           }
          ],
          "scattergl": [
           {
            "marker": {
             "colorbar": {
              "outlinewidth": 0,
              "ticks": ""
             }
            },
            "type": "scattergl"
           }
          ],
          "scattermapbox": [
           {
            "marker": {
             "colorbar": {
              "outlinewidth": 0,
              "ticks": ""
             }
            },
            "type": "scattermapbox"
           }
          ],
          "scatterpolar": [
           {
            "marker": {
             "colorbar": {
              "outlinewidth": 0,
              "ticks": ""
             }
            },
            "type": "scatterpolar"
           }
          ],
          "scatterpolargl": [
           {
            "marker": {
             "colorbar": {
              "outlinewidth": 0,
              "ticks": ""
             }
            },
            "type": "scatterpolargl"
           }
          ],
          "scatterternary": [
           {
            "marker": {
             "colorbar": {
              "outlinewidth": 0,
              "ticks": ""
             }
            },
            "type": "scatterternary"
           }
          ],
          "surface": [
           {
            "colorbar": {
             "outlinewidth": 0,
             "ticks": ""
            },
            "colorscale": [
             [
              0,
              "#0d0887"
             ],
             [
              0.1111111111111111,
              "#46039f"
             ],
             [
              0.2222222222222222,
              "#7201a8"
             ],
             [
              0.3333333333333333,
              "#9c179e"
             ],
             [
              0.4444444444444444,
              "#bd3786"
             ],
             [
              0.5555555555555556,
              "#d8576b"
             ],
             [
              0.6666666666666666,
              "#ed7953"
             ],
             [
              0.7777777777777778,
              "#fb9f3a"
             ],
             [
              0.8888888888888888,
              "#fdca26"
             ],
             [
              1,
              "#f0f921"
             ]
            ],
            "type": "surface"
           }
          ],
          "table": [
           {
            "cells": {
             "fill": {
              "color": "#EBF0F8"
             },
             "line": {
              "color": "white"
             }
            },
            "header": {
             "fill": {
              "color": "#C8D4E3"
             },
             "line": {
              "color": "white"
             }
            },
            "type": "table"
           }
          ]
         },
         "layout": {
          "annotationdefaults": {
           "arrowcolor": "#2a3f5f",
           "arrowhead": 0,
           "arrowwidth": 1
          },
          "autotypenumbers": "strict",
          "coloraxis": {
           "colorbar": {
            "outlinewidth": 0,
            "ticks": ""
           }
          },
          "colorscale": {
           "diverging": [
            [
             0,
             "#8e0152"
            ],
            [
             0.1,
             "#c51b7d"
            ],
            [
             0.2,
             "#de77ae"
            ],
            [
             0.3,
             "#f1b6da"
            ],
            [
             0.4,
             "#fde0ef"
            ],
            [
             0.5,
             "#f7f7f7"
            ],
            [
             0.6,
             "#e6f5d0"
            ],
            [
             0.7,
             "#b8e186"
            ],
            [
             0.8,
             "#7fbc41"
            ],
            [
             0.9,
             "#4d9221"
            ],
            [
             1,
             "#276419"
            ]
           ],
           "sequential": [
            [
             0,
             "#0d0887"
            ],
            [
             0.1111111111111111,
             "#46039f"
            ],
            [
             0.2222222222222222,
             "#7201a8"
            ],
            [
             0.3333333333333333,
             "#9c179e"
            ],
            [
             0.4444444444444444,
             "#bd3786"
            ],
            [
             0.5555555555555556,
             "#d8576b"
            ],
            [
             0.6666666666666666,
             "#ed7953"
            ],
            [
             0.7777777777777778,
             "#fb9f3a"
            ],
            [
             0.8888888888888888,
             "#fdca26"
            ],
            [
             1,
             "#f0f921"
            ]
           ],
           "sequentialminus": [
            [
             0,
             "#0d0887"
            ],
            [
             0.1111111111111111,
             "#46039f"
            ],
            [
             0.2222222222222222,
             "#7201a8"
            ],
            [
             0.3333333333333333,
             "#9c179e"
            ],
            [
             0.4444444444444444,
             "#bd3786"
            ],
            [
             0.5555555555555556,
             "#d8576b"
            ],
            [
             0.6666666666666666,
             "#ed7953"
            ],
            [
             0.7777777777777778,
             "#fb9f3a"
            ],
            [
             0.8888888888888888,
             "#fdca26"
            ],
            [
             1,
             "#f0f921"
            ]
           ]
          },
          "colorway": [
           "#636efa",
           "#EF553B",
           "#00cc96",
           "#ab63fa",
           "#FFA15A",
           "#19d3f3",
           "#FF6692",
           "#B6E880",
           "#FF97FF",
           "#FECB52"
          ],
          "font": {
           "color": "#2a3f5f"
          },
          "geo": {
           "bgcolor": "white",
           "lakecolor": "white",
           "landcolor": "#E5ECF6",
           "showlakes": true,
           "showland": true,
           "subunitcolor": "white"
          },
          "hoverlabel": {
           "align": "left"
          },
          "hovermode": "closest",
          "mapbox": {
           "style": "light"
          },
          "paper_bgcolor": "white",
          "plot_bgcolor": "#E5ECF6",
          "polar": {
           "angularaxis": {
            "gridcolor": "white",
            "linecolor": "white",
            "ticks": ""
           },
           "bgcolor": "#E5ECF6",
           "radialaxis": {
            "gridcolor": "white",
            "linecolor": "white",
            "ticks": ""
           }
          },
          "scene": {
           "xaxis": {
            "backgroundcolor": "#E5ECF6",
            "gridcolor": "white",
            "gridwidth": 2,
            "linecolor": "white",
            "showbackground": true,
            "ticks": "",
            "zerolinecolor": "white"
           },
           "yaxis": {
            "backgroundcolor": "#E5ECF6",
            "gridcolor": "white",
            "gridwidth": 2,
            "linecolor": "white",
            "showbackground": true,
            "ticks": "",
            "zerolinecolor": "white"
           },
           "zaxis": {
            "backgroundcolor": "#E5ECF6",
            "gridcolor": "white",
            "gridwidth": 2,
            "linecolor": "white",
            "showbackground": true,
            "ticks": "",
            "zerolinecolor": "white"
           }
          },
          "shapedefaults": {
           "line": {
            "color": "#2a3f5f"
           }
          },
          "ternary": {
           "aaxis": {
            "gridcolor": "white",
            "linecolor": "white",
            "ticks": ""
           },
           "baxis": {
            "gridcolor": "white",
            "linecolor": "white",
            "ticks": ""
           },
           "bgcolor": "#E5ECF6",
           "caxis": {
            "gridcolor": "white",
            "linecolor": "white",
            "ticks": ""
           }
          },
          "title": {
           "x": 0.05
          },
          "xaxis": {
           "automargin": true,
           "gridcolor": "white",
           "linecolor": "white",
           "ticks": "",
           "title": {
            "standoff": 15
           },
           "zerolinecolor": "white",
           "zerolinewidth": 2
          },
          "yaxis": {
           "automargin": true,
           "gridcolor": "white",
           "linecolor": "white",
           "ticks": "",
           "title": {
            "standoff": 15
           },
           "zerolinecolor": "white",
           "zerolinewidth": 2
          }
         }
        },
        "title": {
         "text": "Distribution of Crime Types"
        },
        "xaxis": {
         "anchor": "y",
         "domain": [
          0,
          1
         ],
         "title": {
          "text": "Crime Type"
         }
        },
        "yaxis": {
         "anchor": "x",
         "domain": [
          0,
          1
         ],
         "title": {
          "text": "Count"
         }
        }
       }
      }
     },
     "metadata": {},
     "output_type": "display_data"
    }
   ],
   "source": [
    "value_count = data[\"TYPE\"].value_counts()\n",
    "fig = px.bar(value_count , x = value_count.index , y = value_count.values,)\n",
    "\n",
    "fig.update_layout(\n",
    "    title=\"Distribution of Crime Types\",\n",
    "    xaxis_title=\"Crime Type\",\n",
    "    yaxis_title=\"Count\",\n",
    "    font=dict(family=\"Arial\", size=12, color=\"black\"),\n",
    ")\n",
    "\n",
    "\n",
    "fig.show()"
   ]
  },
  {
   "cell_type": "markdown",
   "metadata": {},
   "source": [
    "The analysis of crime types in Vancouver from 2003 to 2023 highlights a spectrum of severity and prevalence, showcasing distinctive patterns in criminal activities.\n",
    "\n",
    "1. Highly Prevalent Crimes: Theft from Vehicle and Other Theft:\n",
    "\n",
    "   Observation: Theft from Vehicle and Other Theft emerge as the most frequently committed crimes, displaying consistently high occurrence.\n",
    "\n",
    "   Interpretation: The prevalence of these crimes may be attributed to various factors such as opportunistic behavior, economic motives, or insufficient security measures. Addressing these crimes requires a multifaceted approach involving community engagement and targeted preventive measures.\n",
    "\n",
    "2. Low Incidence of Homicide and Vehicle Collisions with Fatality:\n",
    "\n",
    "   Observation: Homicide and Vehicle Collisions with Fatality stand out as the least committed crimes, exhibiting minimal occurrence.\n",
    "\n",
    "   Interpretation: The infrequency of these severe crimes may reflect the relative rarity of incidents or the effectiveness of law enforcement measures and safety regulations. Strategies for maintaining this low incidence may involve sustained efforts in crime prevention, traffic safety, and community education."
   ]
  },
  {
   "cell_type": "markdown",
   "metadata": {},
   "source": [
    "     Crime Count Visualization by Neighbourhood"
   ]
  },
  {
   "cell_type": "code",
   "execution_count": 480,
   "metadata": {},
   "outputs": [
    {
     "data": {
      "application/vnd.plotly.v1+json": {
       "config": {
        "plotlyServerURL": "https://plot.ly"
       },
       "data": [
        {
         "alignmentgroup": "True",
         "hovertemplate": "NEIGHBOURHOOD=%{x}<br>y=%{y}<extra></extra>",
         "legendgroup": "",
         "marker": {
          "color": "#636efa",
          "pattern": {
           "shape": ""
          }
         },
         "name": "",
         "offsetgroup": "",
         "orientation": "v",
         "showlegend": false,
         "textposition": "auto",
         "type": "bar",
         "x": [
          "Central Business District",
          "West End",
          "Mount Pleasant",
          "Fairview",
          "Strathcona",
          "Grandview-Woodland",
          "Renfrew-Collingwood",
          "Kitsilano",
          "Kensington-Cedar Cottage",
          "Hastings-Sunrise",
          "Sunset",
          "Marpole",
          "Riley Park",
          "Victoria-Fraserview",
          "Killarney",
          "Oakridge",
          "Kerrisdale",
          "Dunbar-Southlands",
          "West Point Grey",
          "Arbutus Ridge",
          "South Cambie",
          "Shaughnessy",
          "Stanley Park",
          "Musqueam"
         ],
         "xaxis": "x",
         "y": [
          221841,
          75411,
          54470,
          53570,
          52161,
          47082,
          46349,
          42649,
          40743,
          29856,
          28995,
          21810,
          20891,
          17357,
          16400,
          13116,
          11518,
          11466,
          9569,
          9374,
          8962,
          8652,
          5663,
          972
         ],
         "yaxis": "y"
        }
       ],
       "layout": {
        "barmode": "relative",
        "font": {
         "color": "black",
         "family": "Arial",
         "size": 12
        },
        "legend": {
         "tracegroupgap": 0
        },
        "margin": {
         "t": 60
        },
        "template": {
         "data": {
          "bar": [
           {
            "error_x": {
             "color": "#2a3f5f"
            },
            "error_y": {
             "color": "#2a3f5f"
            },
            "marker": {
             "line": {
              "color": "#E5ECF6",
              "width": 0.5
             },
             "pattern": {
              "fillmode": "overlay",
              "size": 10,
              "solidity": 0.2
             }
            },
            "type": "bar"
           }
          ],
          "barpolar": [
           {
            "marker": {
             "line": {
              "color": "#E5ECF6",
              "width": 0.5
             },
             "pattern": {
              "fillmode": "overlay",
              "size": 10,
              "solidity": 0.2
             }
            },
            "type": "barpolar"
           }
          ],
          "carpet": [
           {
            "aaxis": {
             "endlinecolor": "#2a3f5f",
             "gridcolor": "white",
             "linecolor": "white",
             "minorgridcolor": "white",
             "startlinecolor": "#2a3f5f"
            },
            "baxis": {
             "endlinecolor": "#2a3f5f",
             "gridcolor": "white",
             "linecolor": "white",
             "minorgridcolor": "white",
             "startlinecolor": "#2a3f5f"
            },
            "type": "carpet"
           }
          ],
          "choropleth": [
           {
            "colorbar": {
             "outlinewidth": 0,
             "ticks": ""
            },
            "type": "choropleth"
           }
          ],
          "contour": [
           {
            "colorbar": {
             "outlinewidth": 0,
             "ticks": ""
            },
            "colorscale": [
             [
              0,
              "#0d0887"
             ],
             [
              0.1111111111111111,
              "#46039f"
             ],
             [
              0.2222222222222222,
              "#7201a8"
             ],
             [
              0.3333333333333333,
              "#9c179e"
             ],
             [
              0.4444444444444444,
              "#bd3786"
             ],
             [
              0.5555555555555556,
              "#d8576b"
             ],
             [
              0.6666666666666666,
              "#ed7953"
             ],
             [
              0.7777777777777778,
              "#fb9f3a"
             ],
             [
              0.8888888888888888,
              "#fdca26"
             ],
             [
              1,
              "#f0f921"
             ]
            ],
            "type": "contour"
           }
          ],
          "contourcarpet": [
           {
            "colorbar": {
             "outlinewidth": 0,
             "ticks": ""
            },
            "type": "contourcarpet"
           }
          ],
          "heatmap": [
           {
            "colorbar": {
             "outlinewidth": 0,
             "ticks": ""
            },
            "colorscale": [
             [
              0,
              "#0d0887"
             ],
             [
              0.1111111111111111,
              "#46039f"
             ],
             [
              0.2222222222222222,
              "#7201a8"
             ],
             [
              0.3333333333333333,
              "#9c179e"
             ],
             [
              0.4444444444444444,
              "#bd3786"
             ],
             [
              0.5555555555555556,
              "#d8576b"
             ],
             [
              0.6666666666666666,
              "#ed7953"
             ],
             [
              0.7777777777777778,
              "#fb9f3a"
             ],
             [
              0.8888888888888888,
              "#fdca26"
             ],
             [
              1,
              "#f0f921"
             ]
            ],
            "type": "heatmap"
           }
          ],
          "heatmapgl": [
           {
            "colorbar": {
             "outlinewidth": 0,
             "ticks": ""
            },
            "colorscale": [
             [
              0,
              "#0d0887"
             ],
             [
              0.1111111111111111,
              "#46039f"
             ],
             [
              0.2222222222222222,
              "#7201a8"
             ],
             [
              0.3333333333333333,
              "#9c179e"
             ],
             [
              0.4444444444444444,
              "#bd3786"
             ],
             [
              0.5555555555555556,
              "#d8576b"
             ],
             [
              0.6666666666666666,
              "#ed7953"
             ],
             [
              0.7777777777777778,
              "#fb9f3a"
             ],
             [
              0.8888888888888888,
              "#fdca26"
             ],
             [
              1,
              "#f0f921"
             ]
            ],
            "type": "heatmapgl"
           }
          ],
          "histogram": [
           {
            "marker": {
             "pattern": {
              "fillmode": "overlay",
              "size": 10,
              "solidity": 0.2
             }
            },
            "type": "histogram"
           }
          ],
          "histogram2d": [
           {
            "colorbar": {
             "outlinewidth": 0,
             "ticks": ""
            },
            "colorscale": [
             [
              0,
              "#0d0887"
             ],
             [
              0.1111111111111111,
              "#46039f"
             ],
             [
              0.2222222222222222,
              "#7201a8"
             ],
             [
              0.3333333333333333,
              "#9c179e"
             ],
             [
              0.4444444444444444,
              "#bd3786"
             ],
             [
              0.5555555555555556,
              "#d8576b"
             ],
             [
              0.6666666666666666,
              "#ed7953"
             ],
             [
              0.7777777777777778,
              "#fb9f3a"
             ],
             [
              0.8888888888888888,
              "#fdca26"
             ],
             [
              1,
              "#f0f921"
             ]
            ],
            "type": "histogram2d"
           }
          ],
          "histogram2dcontour": [
           {
            "colorbar": {
             "outlinewidth": 0,
             "ticks": ""
            },
            "colorscale": [
             [
              0,
              "#0d0887"
             ],
             [
              0.1111111111111111,
              "#46039f"
             ],
             [
              0.2222222222222222,
              "#7201a8"
             ],
             [
              0.3333333333333333,
              "#9c179e"
             ],
             [
              0.4444444444444444,
              "#bd3786"
             ],
             [
              0.5555555555555556,
              "#d8576b"
             ],
             [
              0.6666666666666666,
              "#ed7953"
             ],
             [
              0.7777777777777778,
              "#fb9f3a"
             ],
             [
              0.8888888888888888,
              "#fdca26"
             ],
             [
              1,
              "#f0f921"
             ]
            ],
            "type": "histogram2dcontour"
           }
          ],
          "mesh3d": [
           {
            "colorbar": {
             "outlinewidth": 0,
             "ticks": ""
            },
            "type": "mesh3d"
           }
          ],
          "parcoords": [
           {
            "line": {
             "colorbar": {
              "outlinewidth": 0,
              "ticks": ""
             }
            },
            "type": "parcoords"
           }
          ],
          "pie": [
           {
            "automargin": true,
            "type": "pie"
           }
          ],
          "scatter": [
           {
            "fillpattern": {
             "fillmode": "overlay",
             "size": 10,
             "solidity": 0.2
            },
            "type": "scatter"
           }
          ],
          "scatter3d": [
           {
            "line": {
             "colorbar": {
              "outlinewidth": 0,
              "ticks": ""
             }
            },
            "marker": {
             "colorbar": {
              "outlinewidth": 0,
              "ticks": ""
             }
            },
            "type": "scatter3d"
           }
          ],
          "scattercarpet": [
           {
            "marker": {
             "colorbar": {
              "outlinewidth": 0,
              "ticks": ""
             }
            },
            "type": "scattercarpet"
           }
          ],
          "scattergeo": [
           {
            "marker": {
             "colorbar": {
              "outlinewidth": 0,
              "ticks": ""
             }
            },
            "type": "scattergeo"
           }
          ],
          "scattergl": [
           {
            "marker": {
             "colorbar": {
              "outlinewidth": 0,
              "ticks": ""
             }
            },
            "type": "scattergl"
           }
          ],
          "scattermapbox": [
           {
            "marker": {
             "colorbar": {
              "outlinewidth": 0,
              "ticks": ""
             }
            },
            "type": "scattermapbox"
           }
          ],
          "scatterpolar": [
           {
            "marker": {
             "colorbar": {
              "outlinewidth": 0,
              "ticks": ""
             }
            },
            "type": "scatterpolar"
           }
          ],
          "scatterpolargl": [
           {
            "marker": {
             "colorbar": {
              "outlinewidth": 0,
              "ticks": ""
             }
            },
            "type": "scatterpolargl"
           }
          ],
          "scatterternary": [
           {
            "marker": {
             "colorbar": {
              "outlinewidth": 0,
              "ticks": ""
             }
            },
            "type": "scatterternary"
           }
          ],
          "surface": [
           {
            "colorbar": {
             "outlinewidth": 0,
             "ticks": ""
            },
            "colorscale": [
             [
              0,
              "#0d0887"
             ],
             [
              0.1111111111111111,
              "#46039f"
             ],
             [
              0.2222222222222222,
              "#7201a8"
             ],
             [
              0.3333333333333333,
              "#9c179e"
             ],
             [
              0.4444444444444444,
              "#bd3786"
             ],
             [
              0.5555555555555556,
              "#d8576b"
             ],
             [
              0.6666666666666666,
              "#ed7953"
             ],
             [
              0.7777777777777778,
              "#fb9f3a"
             ],
             [
              0.8888888888888888,
              "#fdca26"
             ],
             [
              1,
              "#f0f921"
             ]
            ],
            "type": "surface"
           }
          ],
          "table": [
           {
            "cells": {
             "fill": {
              "color": "#EBF0F8"
             },
             "line": {
              "color": "white"
             }
            },
            "header": {
             "fill": {
              "color": "#C8D4E3"
             },
             "line": {
              "color": "white"
             }
            },
            "type": "table"
           }
          ]
         },
         "layout": {
          "annotationdefaults": {
           "arrowcolor": "#2a3f5f",
           "arrowhead": 0,
           "arrowwidth": 1
          },
          "autotypenumbers": "strict",
          "coloraxis": {
           "colorbar": {
            "outlinewidth": 0,
            "ticks": ""
           }
          },
          "colorscale": {
           "diverging": [
            [
             0,
             "#8e0152"
            ],
            [
             0.1,
             "#c51b7d"
            ],
            [
             0.2,
             "#de77ae"
            ],
            [
             0.3,
             "#f1b6da"
            ],
            [
             0.4,
             "#fde0ef"
            ],
            [
             0.5,
             "#f7f7f7"
            ],
            [
             0.6,
             "#e6f5d0"
            ],
            [
             0.7,
             "#b8e186"
            ],
            [
             0.8,
             "#7fbc41"
            ],
            [
             0.9,
             "#4d9221"
            ],
            [
             1,
             "#276419"
            ]
           ],
           "sequential": [
            [
             0,
             "#0d0887"
            ],
            [
             0.1111111111111111,
             "#46039f"
            ],
            [
             0.2222222222222222,
             "#7201a8"
            ],
            [
             0.3333333333333333,
             "#9c179e"
            ],
            [
             0.4444444444444444,
             "#bd3786"
            ],
            [
             0.5555555555555556,
             "#d8576b"
            ],
            [
             0.6666666666666666,
             "#ed7953"
            ],
            [
             0.7777777777777778,
             "#fb9f3a"
            ],
            [
             0.8888888888888888,
             "#fdca26"
            ],
            [
             1,
             "#f0f921"
            ]
           ],
           "sequentialminus": [
            [
             0,
             "#0d0887"
            ],
            [
             0.1111111111111111,
             "#46039f"
            ],
            [
             0.2222222222222222,
             "#7201a8"
            ],
            [
             0.3333333333333333,
             "#9c179e"
            ],
            [
             0.4444444444444444,
             "#bd3786"
            ],
            [
             0.5555555555555556,
             "#d8576b"
            ],
            [
             0.6666666666666666,
             "#ed7953"
            ],
            [
             0.7777777777777778,
             "#fb9f3a"
            ],
            [
             0.8888888888888888,
             "#fdca26"
            ],
            [
             1,
             "#f0f921"
            ]
           ]
          },
          "colorway": [
           "#636efa",
           "#EF553B",
           "#00cc96",
           "#ab63fa",
           "#FFA15A",
           "#19d3f3",
           "#FF6692",
           "#B6E880",
           "#FF97FF",
           "#FECB52"
          ],
          "font": {
           "color": "#2a3f5f"
          },
          "geo": {
           "bgcolor": "white",
           "lakecolor": "white",
           "landcolor": "#E5ECF6",
           "showlakes": true,
           "showland": true,
           "subunitcolor": "white"
          },
          "hoverlabel": {
           "align": "left"
          },
          "hovermode": "closest",
          "mapbox": {
           "style": "light"
          },
          "paper_bgcolor": "white",
          "plot_bgcolor": "#E5ECF6",
          "polar": {
           "angularaxis": {
            "gridcolor": "white",
            "linecolor": "white",
            "ticks": ""
           },
           "bgcolor": "#E5ECF6",
           "radialaxis": {
            "gridcolor": "white",
            "linecolor": "white",
            "ticks": ""
           }
          },
          "scene": {
           "xaxis": {
            "backgroundcolor": "#E5ECF6",
            "gridcolor": "white",
            "gridwidth": 2,
            "linecolor": "white",
            "showbackground": true,
            "ticks": "",
            "zerolinecolor": "white"
           },
           "yaxis": {
            "backgroundcolor": "#E5ECF6",
            "gridcolor": "white",
            "gridwidth": 2,
            "linecolor": "white",
            "showbackground": true,
            "ticks": "",
            "zerolinecolor": "white"
           },
           "zaxis": {
            "backgroundcolor": "#E5ECF6",
            "gridcolor": "white",
            "gridwidth": 2,
            "linecolor": "white",
            "showbackground": true,
            "ticks": "",
            "zerolinecolor": "white"
           }
          },
          "shapedefaults": {
           "line": {
            "color": "#2a3f5f"
           }
          },
          "ternary": {
           "aaxis": {
            "gridcolor": "white",
            "linecolor": "white",
            "ticks": ""
           },
           "baxis": {
            "gridcolor": "white",
            "linecolor": "white",
            "ticks": ""
           },
           "bgcolor": "#E5ECF6",
           "caxis": {
            "gridcolor": "white",
            "linecolor": "white",
            "ticks": ""
           }
          },
          "title": {
           "x": 0.05
          },
          "xaxis": {
           "automargin": true,
           "gridcolor": "white",
           "linecolor": "white",
           "ticks": "",
           "title": {
            "standoff": 15
           },
           "zerolinecolor": "white",
           "zerolinewidth": 2
          },
          "yaxis": {
           "automargin": true,
           "gridcolor": "white",
           "linecolor": "white",
           "ticks": "",
           "title": {
            "standoff": 15
           },
           "zerolinecolor": "white",
           "zerolinewidth": 2
          }
         }
        },
        "title": {
         "text": "Crime Count by Neighbourhood"
        },
        "xaxis": {
         "anchor": "y",
         "domain": [
          0,
          1
         ],
         "title": {
          "text": "Neighbourhood"
         }
        },
        "yaxis": {
         "anchor": "x",
         "domain": [
          0,
          1
         ],
         "title": {
          "text": "Crime Count"
         }
        }
       }
      }
     },
     "metadata": {},
     "output_type": "display_data"
    }
   ],
   "source": [
    "value_count = data[\"NEIGHBOURHOOD\"].value_counts()\n",
    "fig = px.bar(value_count , x = value_count.index , y = value_count.values,)\n",
    "\n",
    "fig.update_layout(\n",
    "    title=\"Crime Count by Neighbourhood\",\n",
    "    xaxis_title=\"Neighbourhood\",\n",
    "    yaxis_title=\"Crime Count\",\n",
    "    font=dict(family=\"Arial\", size=12, color=\"black\"),\n",
    ")\n",
    "\n",
    "fig.show()"
   ]
  },
  {
   "cell_type": "markdown",
   "metadata": {},
   "source": [
    "The neighborhood-wise analysis of crime distribution in Vancouver from 2003 to 2023 reveals distinct patterns, with certain areas emerging as hotspots for criminal activities while others maintain a comparatively safer environment.\n",
    "\n",
    "1. High Crime Incidence in Central Business District and West End:\n",
    "\n",
    "     Observation: Central Business District and West End consistently exhibit the highest crime rates, indicating these areas as hotspots for criminal activities.\n",
    "\n",
    "     Interpretation: Factors contributing to elevated crime rates in these central neighborhoods may include higher population density, increased commercial activities, and the presence of various amenities attracting both residents and non-residents.\n",
    "     \n",
    "2. Low Crime Incidence in Stanley Park and Musqueam:\n",
    "   \n",
    "     Observation: Stanley Park and Musqueam stand out as neighborhoods with the lowest crime incidence, suggesting a relatively safer environment.\n",
    "\n",
    "     Interpretation: The lower crime rates in these areas may be attributed to factors such as lower population density, well-maintained public spaces, or specific community-oriented initiatives contributing to a secure environment."
   ]
  },
  {
   "cell_type": "markdown",
   "metadata": {},
   "source": [
    "     Distribution of crime type over the years"
   ]
  },
  {
   "cell_type": "code",
   "execution_count": 481,
   "metadata": {},
   "outputs": [],
   "source": [
    "data_1 = data.groupby([\"TYPE\", \"YEAR\"]).size().reset_index(name = \"count\")"
   ]
  },
  {
   "cell_type": "code",
   "execution_count": 482,
   "metadata": {},
   "outputs": [
    {
     "data": {
      "application/vnd.plotly.v1+json": {
       "config": {
        "plotlyServerURL": "https://plot.ly"
       },
       "data": [
        {
         "hovertemplate": "TYPE=Break and Enter Commercial<br>YEAR=%{x}<br>count=%{y}<extra></extra>",
         "legendgroup": "Break and Enter Commercial",
         "line": {
          "color": "#636efa",
          "dash": "solid"
         },
         "marker": {
          "symbol": "circle"
         },
         "mode": "lines",
         "name": "Break and Enter Commercial",
         "orientation": "v",
         "showlegend": true,
         "type": "scatter",
         "x": [
          2003,
          2004,
          2005,
          2006,
          2007,
          2008,
          2009,
          2010,
          2011,
          2012,
          2013,
          2014,
          2015,
          2016,
          2017,
          2018,
          2019,
          2020,
          2021,
          2022,
          2023
         ],
         "xaxis": "x",
         "y": [
          3196,
          3279,
          2639,
          2845,
          2436,
          2225,
          1859,
          1659,
          1750,
          1686,
          1770,
          2241,
          2452,
          2683,
          2192,
          2020,
          2490,
          2788,
          2079,
          1986,
          1632
         ],
         "yaxis": "y"
        },
        {
         "hovertemplate": "TYPE=Break and Enter Residential/Other<br>YEAR=%{x}<br>count=%{y}<extra></extra>",
         "legendgroup": "Break and Enter Residential/Other",
         "line": {
          "color": "#EF553B",
          "dash": "solid"
         },
         "marker": {
          "symbol": "circle"
         },
         "mode": "lines",
         "name": "Break and Enter Residential/Other",
         "orientation": "v",
         "showlegend": true,
         "type": "scatter",
         "x": [
          2003,
          2004,
          2005,
          2006,
          2007,
          2008,
          2009,
          2010,
          2011,
          2012,
          2013,
          2014,
          2015,
          2016,
          2017,
          2018,
          2019,
          2020,
          2021,
          2022,
          2023
         ],
         "xaxis": "x",
         "y": [
          6884,
          6533,
          5538,
          5673,
          4996,
          4429,
          3497,
          3266,
          3230,
          3311,
          3024,
          3042,
          3116,
          2989,
          2454,
          2391,
          2269,
          2083,
          1488,
          1266,
          1100
         ],
         "yaxis": "y"
        },
        {
         "hovertemplate": "TYPE=Homicide<br>YEAR=%{x}<br>count=%{y}<extra></extra>",
         "legendgroup": "Homicide",
         "line": {
          "color": "#00cc96",
          "dash": "solid"
         },
         "marker": {
          "symbol": "circle"
         },
         "mode": "lines",
         "name": "Homicide",
         "orientation": "v",
         "showlegend": true,
         "type": "scatter",
         "x": [
          2003,
          2004,
          2005,
          2006,
          2007,
          2008,
          2009,
          2010,
          2011,
          2012,
          2013,
          2014,
          2015,
          2016,
          2017,
          2018,
          2019,
          2020,
          2021,
          2022,
          2023
         ],
         "xaxis": "x",
         "y": [
          17,
          22,
          22,
          18,
          19,
          18,
          18,
          10,
          15,
          8,
          7,
          9,
          15,
          11,
          17,
          14,
          12,
          19,
          19,
          11,
          14
         ],
         "yaxis": "y"
        },
        {
         "hovertemplate": "TYPE=Mischief<br>YEAR=%{x}<br>count=%{y}<extra></extra>",
         "legendgroup": "Mischief",
         "line": {
          "color": "#ab63fa",
          "dash": "solid"
         },
         "marker": {
          "symbol": "circle"
         },
         "mode": "lines",
         "name": "Mischief",
         "orientation": "v",
         "showlegend": true,
         "type": "scatter",
         "x": [
          2003,
          2004,
          2005,
          2006,
          2007,
          2008,
          2009,
          2010,
          2011,
          2012,
          2013,
          2014,
          2015,
          2016,
          2017,
          2018,
          2019,
          2020,
          2021,
          2022,
          2023
         ],
         "xaxis": "x",
         "y": [
          6387,
          5598,
          5062,
          5180,
          4812,
          5270,
          4425,
          4514,
          4833,
          4228,
          4181,
          4509,
          4178,
          4581,
          5370,
          5716,
          5833,
          6109,
          5415,
          5614,
          5703
         ],
         "yaxis": "y"
        },
        {
         "hovertemplate": "TYPE=Offence Against a Person<br>YEAR=%{x}<br>count=%{y}<extra></extra>",
         "legendgroup": "Offence Against a Person",
         "line": {
          "color": "#FFA15A",
          "dash": "solid"
         },
         "marker": {
          "symbol": "circle"
         },
         "mode": "lines",
         "name": "Offence Against a Person",
         "orientation": "v",
         "showlegend": true,
         "type": "scatter",
         "x": [
          2003,
          2004,
          2005,
          2006,
          2007,
          2008,
          2009,
          2010,
          2011,
          2012,
          2013,
          2014,
          2015,
          2016,
          2017,
          2018,
          2019,
          2020,
          2021,
          2022,
          2023
         ],
         "xaxis": "x",
         "y": [
          2313,
          2458,
          2378,
          2583,
          2504,
          2436,
          2287,
          2255,
          2205,
          2155,
          2092,
          1915,
          1905,
          1902,
          1865,
          1829,
          1897,
          2003,
          2029,
          2032,
          1842
         ],
         "yaxis": "y"
        },
        {
         "hovertemplate": "TYPE=Other Theft<br>YEAR=%{x}<br>count=%{y}<extra></extra>",
         "legendgroup": "Other Theft",
         "line": {
          "color": "#19d3f3",
          "dash": "solid"
         },
         "marker": {
          "symbol": "circle"
         },
         "mode": "lines",
         "name": "Other Theft",
         "orientation": "v",
         "showlegend": true,
         "type": "scatter",
         "x": [
          2003,
          2004,
          2005,
          2006,
          2007,
          2008,
          2009,
          2010,
          2011,
          2012,
          2013,
          2014,
          2015,
          2016,
          2017,
          2018,
          2019,
          2020,
          2021,
          2022,
          2023
         ],
         "xaxis": "x",
         "y": [
          11423,
          11435,
          11355,
          10300,
          9722,
          9463,
          9470,
          9366,
          9388,
          9960,
          10264,
          10794,
          10598,
          11982,
          11807,
          11251,
          12323,
          8647,
          8583,
          10753,
          11340
         ],
         "yaxis": "y"
        },
        {
         "hovertemplate": "TYPE=Theft from Vehicle<br>YEAR=%{x}<br>count=%{y}<extra></extra>",
         "legendgroup": "Theft from Vehicle",
         "line": {
          "color": "#FF6692",
          "dash": "solid"
         },
         "marker": {
          "symbol": "circle"
         },
         "mode": "lines",
         "name": "Theft from Vehicle",
         "orientation": "v",
         "showlegend": true,
         "type": "scatter",
         "x": [
          2003,
          2004,
          2005,
          2006,
          2007,
          2008,
          2009,
          2010,
          2011,
          2012,
          2013,
          2014,
          2015,
          2016,
          2017,
          2018,
          2019,
          2020,
          2021,
          2022,
          2023
         ],
         "xaxis": "x",
         "y": [
          17743,
          18202,
          16552,
          14730,
          12227,
          11295,
          10007,
          8614,
          7434,
          8096,
          8333,
          10140,
          10547,
          12815,
          12957,
          14996,
          17005,
          10430,
          7502,
          7276,
          6686
         ],
         "yaxis": "y"
        },
        {
         "hovertemplate": "TYPE=Theft of Bicycle<br>YEAR=%{x}<br>count=%{y}<extra></extra>",
         "legendgroup": "Theft of Bicycle",
         "line": {
          "color": "#B6E880",
          "dash": "solid"
         },
         "marker": {
          "symbol": "circle"
         },
         "mode": "lines",
         "name": "Theft of Bicycle",
         "orientation": "v",
         "showlegend": true,
         "type": "scatter",
         "x": [
          2003,
          2004,
          2005,
          2006,
          2007,
          2008,
          2009,
          2010,
          2011,
          2012,
          2013,
          2014,
          2015,
          2016,
          2017,
          2018,
          2019,
          2020,
          2021,
          2022,
          2023
         ],
         "xaxis": "x",
         "y": [
          1419,
          1230,
          1416,
          1467,
          1203,
          1176,
          1641,
          1669,
          1517,
          1817,
          2032,
          2461,
          3064,
          2637,
          2202,
          2167,
          2221,
          1987,
          1459,
          1528,
          967
         ],
         "yaxis": "y"
        },
        {
         "hovertemplate": "TYPE=Theft of Vehicle<br>YEAR=%{x}<br>count=%{y}<extra></extra>",
         "legendgroup": "Theft of Vehicle",
         "line": {
          "color": "#FF97FF",
          "dash": "solid"
         },
         "marker": {
          "symbol": "circle"
         },
         "mode": "lines",
         "name": "Theft of Vehicle",
         "orientation": "v",
         "showlegend": true,
         "type": "scatter",
         "x": [
          2003,
          2004,
          2005,
          2006,
          2007,
          2008,
          2009,
          2010,
          2011,
          2012,
          2013,
          2014,
          2015,
          2016,
          2017,
          2018,
          2019,
          2020,
          2021,
          2022,
          2023
         ],
         "xaxis": "x",
         "y": [
          6360,
          6100,
          5029,
          3681,
          3304,
          2417,
          1880,
          1465,
          1094,
          1152,
          1033,
          1291,
          1371,
          1478,
          1496,
          1145,
          1378,
          853,
          838,
          910,
          684
         ],
         "yaxis": "y"
        },
        {
         "hovertemplate": "TYPE=Vehicle Collision or Pedestrian Struck (with Fatality)<br>YEAR=%{x}<br>count=%{y}<extra></extra>",
         "legendgroup": "Vehicle Collision or Pedestrian Struck (with Fatality)",
         "line": {
          "color": "#FECB52",
          "dash": "solid"
         },
         "marker": {
          "symbol": "circle"
         },
         "mode": "lines",
         "name": "Vehicle Collision or Pedestrian Struck (with Fatality)",
         "orientation": "v",
         "showlegend": true,
         "type": "scatter",
         "x": [
          2003,
          2004,
          2005,
          2006,
          2007,
          2008,
          2009,
          2010,
          2011,
          2012,
          2013,
          2014,
          2015,
          2016,
          2017,
          2018,
          2019,
          2020,
          2021,
          2022,
          2023
         ],
         "xaxis": "x",
         "y": [
          25,
          22,
          32,
          20,
          24,
          17,
          14,
          10,
          12,
          18,
          15,
          14,
          14,
          15,
          14,
          13,
          14,
          8,
          22,
          19,
          15
         ],
         "yaxis": "y"
        },
        {
         "hovertemplate": "TYPE=Vehicle Collision or Pedestrian Struck (with Injury)<br>YEAR=%{x}<br>count=%{y}<extra></extra>",
         "legendgroup": "Vehicle Collision or Pedestrian Struck (with Injury)",
         "line": {
          "color": "#636efa",
          "dash": "solid"
         },
         "marker": {
          "symbol": "circle"
         },
         "mode": "lines",
         "name": "Vehicle Collision or Pedestrian Struck (with Injury)",
         "orientation": "v",
         "showlegend": true,
         "type": "scatter",
         "x": [
          2003,
          2004,
          2005,
          2006,
          2007,
          2008,
          2009,
          2010,
          2011,
          2012,
          2013,
          2014,
          2015,
          2016,
          2017,
          2018,
          2019,
          2020,
          2021,
          2022,
          2023
         ],
         "xaxis": "x",
         "y": [
          1824,
          1868,
          1999,
          1383,
          1238,
          1185,
          1278,
          1327,
          1260,
          1472,
          1492,
          1576,
          1667,
          1707,
          1523,
          1476,
          1137,
          851,
          1019,
          1011,
          973
         ],
         "yaxis": "y"
        }
       ],
       "layout": {
        "height": 500,
        "legend": {
         "title": {
          "text": "TYPE"
         },
         "tracegroupgap": 0
        },
        "margin": {
         "t": 60
        },
        "template": {
         "data": {
          "bar": [
           {
            "error_x": {
             "color": "#2a3f5f"
            },
            "error_y": {
             "color": "#2a3f5f"
            },
            "marker": {
             "line": {
              "color": "#E5ECF6",
              "width": 0.5
             },
             "pattern": {
              "fillmode": "overlay",
              "size": 10,
              "solidity": 0.2
             }
            },
            "type": "bar"
           }
          ],
          "barpolar": [
           {
            "marker": {
             "line": {
              "color": "#E5ECF6",
              "width": 0.5
             },
             "pattern": {
              "fillmode": "overlay",
              "size": 10,
              "solidity": 0.2
             }
            },
            "type": "barpolar"
           }
          ],
          "carpet": [
           {
            "aaxis": {
             "endlinecolor": "#2a3f5f",
             "gridcolor": "white",
             "linecolor": "white",
             "minorgridcolor": "white",
             "startlinecolor": "#2a3f5f"
            },
            "baxis": {
             "endlinecolor": "#2a3f5f",
             "gridcolor": "white",
             "linecolor": "white",
             "minorgridcolor": "white",
             "startlinecolor": "#2a3f5f"
            },
            "type": "carpet"
           }
          ],
          "choropleth": [
           {
            "colorbar": {
             "outlinewidth": 0,
             "ticks": ""
            },
            "type": "choropleth"
           }
          ],
          "contour": [
           {
            "colorbar": {
             "outlinewidth": 0,
             "ticks": ""
            },
            "colorscale": [
             [
              0,
              "#0d0887"
             ],
             [
              0.1111111111111111,
              "#46039f"
             ],
             [
              0.2222222222222222,
              "#7201a8"
             ],
             [
              0.3333333333333333,
              "#9c179e"
             ],
             [
              0.4444444444444444,
              "#bd3786"
             ],
             [
              0.5555555555555556,
              "#d8576b"
             ],
             [
              0.6666666666666666,
              "#ed7953"
             ],
             [
              0.7777777777777778,
              "#fb9f3a"
             ],
             [
              0.8888888888888888,
              "#fdca26"
             ],
             [
              1,
              "#f0f921"
             ]
            ],
            "type": "contour"
           }
          ],
          "contourcarpet": [
           {
            "colorbar": {
             "outlinewidth": 0,
             "ticks": ""
            },
            "type": "contourcarpet"
           }
          ],
          "heatmap": [
           {
            "colorbar": {
             "outlinewidth": 0,
             "ticks": ""
            },
            "colorscale": [
             [
              0,
              "#0d0887"
             ],
             [
              0.1111111111111111,
              "#46039f"
             ],
             [
              0.2222222222222222,
              "#7201a8"
             ],
             [
              0.3333333333333333,
              "#9c179e"
             ],
             [
              0.4444444444444444,
              "#bd3786"
             ],
             [
              0.5555555555555556,
              "#d8576b"
             ],
             [
              0.6666666666666666,
              "#ed7953"
             ],
             [
              0.7777777777777778,
              "#fb9f3a"
             ],
             [
              0.8888888888888888,
              "#fdca26"
             ],
             [
              1,
              "#f0f921"
             ]
            ],
            "type": "heatmap"
           }
          ],
          "heatmapgl": [
           {
            "colorbar": {
             "outlinewidth": 0,
             "ticks": ""
            },
            "colorscale": [
             [
              0,
              "#0d0887"
             ],
             [
              0.1111111111111111,
              "#46039f"
             ],
             [
              0.2222222222222222,
              "#7201a8"
             ],
             [
              0.3333333333333333,
              "#9c179e"
             ],
             [
              0.4444444444444444,
              "#bd3786"
             ],
             [
              0.5555555555555556,
              "#d8576b"
             ],
             [
              0.6666666666666666,
              "#ed7953"
             ],
             [
              0.7777777777777778,
              "#fb9f3a"
             ],
             [
              0.8888888888888888,
              "#fdca26"
             ],
             [
              1,
              "#f0f921"
             ]
            ],
            "type": "heatmapgl"
           }
          ],
          "histogram": [
           {
            "marker": {
             "pattern": {
              "fillmode": "overlay",
              "size": 10,
              "solidity": 0.2
             }
            },
            "type": "histogram"
           }
          ],
          "histogram2d": [
           {
            "colorbar": {
             "outlinewidth": 0,
             "ticks": ""
            },
            "colorscale": [
             [
              0,
              "#0d0887"
             ],
             [
              0.1111111111111111,
              "#46039f"
             ],
             [
              0.2222222222222222,
              "#7201a8"
             ],
             [
              0.3333333333333333,
              "#9c179e"
             ],
             [
              0.4444444444444444,
              "#bd3786"
             ],
             [
              0.5555555555555556,
              "#d8576b"
             ],
             [
              0.6666666666666666,
              "#ed7953"
             ],
             [
              0.7777777777777778,
              "#fb9f3a"
             ],
             [
              0.8888888888888888,
              "#fdca26"
             ],
             [
              1,
              "#f0f921"
             ]
            ],
            "type": "histogram2d"
           }
          ],
          "histogram2dcontour": [
           {
            "colorbar": {
             "outlinewidth": 0,
             "ticks": ""
            },
            "colorscale": [
             [
              0,
              "#0d0887"
             ],
             [
              0.1111111111111111,
              "#46039f"
             ],
             [
              0.2222222222222222,
              "#7201a8"
             ],
             [
              0.3333333333333333,
              "#9c179e"
             ],
             [
              0.4444444444444444,
              "#bd3786"
             ],
             [
              0.5555555555555556,
              "#d8576b"
             ],
             [
              0.6666666666666666,
              "#ed7953"
             ],
             [
              0.7777777777777778,
              "#fb9f3a"
             ],
             [
              0.8888888888888888,
              "#fdca26"
             ],
             [
              1,
              "#f0f921"
             ]
            ],
            "type": "histogram2dcontour"
           }
          ],
          "mesh3d": [
           {
            "colorbar": {
             "outlinewidth": 0,
             "ticks": ""
            },
            "type": "mesh3d"
           }
          ],
          "parcoords": [
           {
            "line": {
             "colorbar": {
              "outlinewidth": 0,
              "ticks": ""
             }
            },
            "type": "parcoords"
           }
          ],
          "pie": [
           {
            "automargin": true,
            "type": "pie"
           }
          ],
          "scatter": [
           {
            "fillpattern": {
             "fillmode": "overlay",
             "size": 10,
             "solidity": 0.2
            },
            "type": "scatter"
           }
          ],
          "scatter3d": [
           {
            "line": {
             "colorbar": {
              "outlinewidth": 0,
              "ticks": ""
             }
            },
            "marker": {
             "colorbar": {
              "outlinewidth": 0,
              "ticks": ""
             }
            },
            "type": "scatter3d"
           }
          ],
          "scattercarpet": [
           {
            "marker": {
             "colorbar": {
              "outlinewidth": 0,
              "ticks": ""
             }
            },
            "type": "scattercarpet"
           }
          ],
          "scattergeo": [
           {
            "marker": {
             "colorbar": {
              "outlinewidth": 0,
              "ticks": ""
             }
            },
            "type": "scattergeo"
           }
          ],
          "scattergl": [
           {
            "marker": {
             "colorbar": {
              "outlinewidth": 0,
              "ticks": ""
             }
            },
            "type": "scattergl"
           }
          ],
          "scattermapbox": [
           {
            "marker": {
             "colorbar": {
              "outlinewidth": 0,
              "ticks": ""
             }
            },
            "type": "scattermapbox"
           }
          ],
          "scatterpolar": [
           {
            "marker": {
             "colorbar": {
              "outlinewidth": 0,
              "ticks": ""
             }
            },
            "type": "scatterpolar"
           }
          ],
          "scatterpolargl": [
           {
            "marker": {
             "colorbar": {
              "outlinewidth": 0,
              "ticks": ""
             }
            },
            "type": "scatterpolargl"
           }
          ],
          "scatterternary": [
           {
            "marker": {
             "colorbar": {
              "outlinewidth": 0,
              "ticks": ""
             }
            },
            "type": "scatterternary"
           }
          ],
          "surface": [
           {
            "colorbar": {
             "outlinewidth": 0,
             "ticks": ""
            },
            "colorscale": [
             [
              0,
              "#0d0887"
             ],
             [
              0.1111111111111111,
              "#46039f"
             ],
             [
              0.2222222222222222,
              "#7201a8"
             ],
             [
              0.3333333333333333,
              "#9c179e"
             ],
             [
              0.4444444444444444,
              "#bd3786"
             ],
             [
              0.5555555555555556,
              "#d8576b"
             ],
             [
              0.6666666666666666,
              "#ed7953"
             ],
             [
              0.7777777777777778,
              "#fb9f3a"
             ],
             [
              0.8888888888888888,
              "#fdca26"
             ],
             [
              1,
              "#f0f921"
             ]
            ],
            "type": "surface"
           }
          ],
          "table": [
           {
            "cells": {
             "fill": {
              "color": "#EBF0F8"
             },
             "line": {
              "color": "white"
             }
            },
            "header": {
             "fill": {
              "color": "#C8D4E3"
             },
             "line": {
              "color": "white"
             }
            },
            "type": "table"
           }
          ]
         },
         "layout": {
          "annotationdefaults": {
           "arrowcolor": "#2a3f5f",
           "arrowhead": 0,
           "arrowwidth": 1
          },
          "autotypenumbers": "strict",
          "coloraxis": {
           "colorbar": {
            "outlinewidth": 0,
            "ticks": ""
           }
          },
          "colorscale": {
           "diverging": [
            [
             0,
             "#8e0152"
            ],
            [
             0.1,
             "#c51b7d"
            ],
            [
             0.2,
             "#de77ae"
            ],
            [
             0.3,
             "#f1b6da"
            ],
            [
             0.4,
             "#fde0ef"
            ],
            [
             0.5,
             "#f7f7f7"
            ],
            [
             0.6,
             "#e6f5d0"
            ],
            [
             0.7,
             "#b8e186"
            ],
            [
             0.8,
             "#7fbc41"
            ],
            [
             0.9,
             "#4d9221"
            ],
            [
             1,
             "#276419"
            ]
           ],
           "sequential": [
            [
             0,
             "#0d0887"
            ],
            [
             0.1111111111111111,
             "#46039f"
            ],
            [
             0.2222222222222222,
             "#7201a8"
            ],
            [
             0.3333333333333333,
             "#9c179e"
            ],
            [
             0.4444444444444444,
             "#bd3786"
            ],
            [
             0.5555555555555556,
             "#d8576b"
            ],
            [
             0.6666666666666666,
             "#ed7953"
            ],
            [
             0.7777777777777778,
             "#fb9f3a"
            ],
            [
             0.8888888888888888,
             "#fdca26"
            ],
            [
             1,
             "#f0f921"
            ]
           ],
           "sequentialminus": [
            [
             0,
             "#0d0887"
            ],
            [
             0.1111111111111111,
             "#46039f"
            ],
            [
             0.2222222222222222,
             "#7201a8"
            ],
            [
             0.3333333333333333,
             "#9c179e"
            ],
            [
             0.4444444444444444,
             "#bd3786"
            ],
            [
             0.5555555555555556,
             "#d8576b"
            ],
            [
             0.6666666666666666,
             "#ed7953"
            ],
            [
             0.7777777777777778,
             "#fb9f3a"
            ],
            [
             0.8888888888888888,
             "#fdca26"
            ],
            [
             1,
             "#f0f921"
            ]
           ]
          },
          "colorway": [
           "#636efa",
           "#EF553B",
           "#00cc96",
           "#ab63fa",
           "#FFA15A",
           "#19d3f3",
           "#FF6692",
           "#B6E880",
           "#FF97FF",
           "#FECB52"
          ],
          "font": {
           "color": "#2a3f5f"
          },
          "geo": {
           "bgcolor": "white",
           "lakecolor": "white",
           "landcolor": "#E5ECF6",
           "showlakes": true,
           "showland": true,
           "subunitcolor": "white"
          },
          "hoverlabel": {
           "align": "left"
          },
          "hovermode": "closest",
          "mapbox": {
           "style": "light"
          },
          "paper_bgcolor": "white",
          "plot_bgcolor": "#E5ECF6",
          "polar": {
           "angularaxis": {
            "gridcolor": "white",
            "linecolor": "white",
            "ticks": ""
           },
           "bgcolor": "#E5ECF6",
           "radialaxis": {
            "gridcolor": "white",
            "linecolor": "white",
            "ticks": ""
           }
          },
          "scene": {
           "xaxis": {
            "backgroundcolor": "#E5ECF6",
            "gridcolor": "white",
            "gridwidth": 2,
            "linecolor": "white",
            "showbackground": true,
            "ticks": "",
            "zerolinecolor": "white"
           },
           "yaxis": {
            "backgroundcolor": "#E5ECF6",
            "gridcolor": "white",
            "gridwidth": 2,
            "linecolor": "white",
            "showbackground": true,
            "ticks": "",
            "zerolinecolor": "white"
           },
           "zaxis": {
            "backgroundcolor": "#E5ECF6",
            "gridcolor": "white",
            "gridwidth": 2,
            "linecolor": "white",
            "showbackground": true,
            "ticks": "",
            "zerolinecolor": "white"
           }
          },
          "shapedefaults": {
           "line": {
            "color": "#2a3f5f"
           }
          },
          "ternary": {
           "aaxis": {
            "gridcolor": "white",
            "linecolor": "white",
            "ticks": ""
           },
           "baxis": {
            "gridcolor": "white",
            "linecolor": "white",
            "ticks": ""
           },
           "bgcolor": "#E5ECF6",
           "caxis": {
            "gridcolor": "white",
            "linecolor": "white",
            "ticks": ""
           }
          },
          "title": {
           "x": 0.05
          },
          "xaxis": {
           "automargin": true,
           "gridcolor": "white",
           "linecolor": "white",
           "ticks": "",
           "title": {
            "standoff": 15
           },
           "zerolinecolor": "white",
           "zerolinewidth": 2
          },
          "yaxis": {
           "automargin": true,
           "gridcolor": "white",
           "linecolor": "white",
           "ticks": "",
           "title": {
            "standoff": 15
           },
           "zerolinecolor": "white",
           "zerolinewidth": 2
          }
         }
        },
        "width": 1000,
        "xaxis": {
         "anchor": "y",
         "domain": [
          0,
          1
         ],
         "title": {
          "text": "YEAR"
         }
        },
        "yaxis": {
         "anchor": "x",
         "domain": [
          0,
          1
         ],
         "title": {
          "text": "count"
         }
        }
       }
      }
     },
     "metadata": {},
     "output_type": "display_data"
    }
   ],
   "source": [
    "fig = px.line(data_1 , x = \"YEAR\" , y = \"count\" , color = \"TYPE\")\n",
    "fig.update_layout(width=1000, height=500)\n",
    "fig.show()"
   ]
  },
  {
   "cell_type": "markdown",
   "metadata": {},
   "source": [
    "The temporal exploration of crime categories in Vancouver from 2003 to 2023 illuminates distinct trends in the prevalence of theft-related crimes, with notable fluctuations in Theft from Vehicle and Other Theft categories.\n",
    "\n",
    "1. Consistent Dominance of Theft from Vehicle:\n",
    "\n",
    "     Observation: Theft from Vehicle consistently maintains its position as the most prevalent crime category over the years.\n",
    "\n",
    "     Interpretation: The persistent high occurrence of theft from vehicles suggests enduring challenges in addressing this specific type of crime, necessitating targeted preventive measures and community engagement initiatives.\n",
    "\n",
    "2. Exceptional Period (2009 - 2015): Dip in Theft from Vehicle, Surge in Other Theft:\n",
    "\n",
    "     Observation: A noteworthy exception is observed between 2009 and 2015, where Other Theft surpasses Theft from Vehicle due to a dip in the latter category.\n",
    "\n",
    "     Interpretation: The temporary shift in dominance may be influenced by specific events, law enforcement initiatives, or changes in criminal behaviors during this period. Understanding the factors contributing to this anomaly can inform strategies for maintaining consistent crime prevention.\n",
    "3. Steady Trends in Other Crime Categories, Minor Increase in Mischief after 2015:\n",
    "\n",
    "     Observation: Other crime categories maintain relatively steady trends, with a minor increase in Mischief observed after 2015.\n",
    "\n",
    "     Interpretation: The overall stability in other crime categories suggests a consistent enforcement landscape, while the uptick in Mischief may warrant further investigation into underlying factors influencing this specific type of crime."
   ]
  },
  {
   "cell_type": "markdown",
   "metadata": {},
   "source": [
    "      Crime Count, Weekly Time and Day Heatmap"
   ]
  },
  {
   "cell_type": "code",
   "execution_count": 483,
   "metadata": {},
   "outputs": [],
   "source": [
    "data_weekly = data.copy()\n",
    "data_weekly[\"Date\"] = pd.to_datetime(data_weekly[[\"YEAR\", \"MONTH\", \"DAY\"]])"
   ]
  },
  {
   "cell_type": "code",
   "execution_count": 484,
   "metadata": {},
   "outputs": [
    {
     "data": {
      "text/html": [
       "<div>\n",
       "<style scoped>\n",
       "    .dataframe tbody tr th:only-of-type {\n",
       "        vertical-align: middle;\n",
       "    }\n",
       "\n",
       "    .dataframe tbody tr th {\n",
       "        vertical-align: top;\n",
       "    }\n",
       "\n",
       "    .dataframe thead th {\n",
       "        text-align: right;\n",
       "    }\n",
       "</style>\n",
       "<table border=\"1\" class=\"dataframe\">\n",
       "  <thead>\n",
       "    <tr style=\"text-align: right;\">\n",
       "      <th></th>\n",
       "      <th>TYPE</th>\n",
       "      <th>YEAR</th>\n",
       "      <th>MONTH</th>\n",
       "      <th>DAY</th>\n",
       "      <th>HOUR</th>\n",
       "      <th>MINUTE</th>\n",
       "      <th>HUNDRED_BLOCK</th>\n",
       "      <th>NEIGHBOURHOOD</th>\n",
       "      <th>X</th>\n",
       "      <th>Y</th>\n",
       "      <th>Date</th>\n",
       "    </tr>\n",
       "  </thead>\n",
       "  <tbody>\n",
       "    <tr>\n",
       "      <th>1</th>\n",
       "      <td>Break and Enter Commercial</td>\n",
       "      <td>2019</td>\n",
       "      <td>3</td>\n",
       "      <td>7</td>\n",
       "      <td>2</td>\n",
       "      <td>6</td>\n",
       "      <td>10XX SITKA SQ</td>\n",
       "      <td>Fairview</td>\n",
       "      <td>490612.9648</td>\n",
       "      <td>5.457110e+06</td>\n",
       "      <td>2019-03-07</td>\n",
       "    </tr>\n",
       "    <tr>\n",
       "      <th>2</th>\n",
       "      <td>Break and Enter Commercial</td>\n",
       "      <td>2019</td>\n",
       "      <td>8</td>\n",
       "      <td>27</td>\n",
       "      <td>4</td>\n",
       "      <td>12</td>\n",
       "      <td>10XX ALBERNI ST</td>\n",
       "      <td>West End</td>\n",
       "      <td>491004.8164</td>\n",
       "      <td>5.459177e+06</td>\n",
       "      <td>2019-08-27</td>\n",
       "    </tr>\n",
       "    <tr>\n",
       "      <th>3</th>\n",
       "      <td>Break and Enter Commercial</td>\n",
       "      <td>2021</td>\n",
       "      <td>4</td>\n",
       "      <td>26</td>\n",
       "      <td>4</td>\n",
       "      <td>44</td>\n",
       "      <td>10XX ALBERNI ST</td>\n",
       "      <td>West End</td>\n",
       "      <td>491007.7798</td>\n",
       "      <td>5.459174e+06</td>\n",
       "      <td>2021-04-26</td>\n",
       "    </tr>\n",
       "    <tr>\n",
       "      <th>4</th>\n",
       "      <td>Break and Enter Commercial</td>\n",
       "      <td>2014</td>\n",
       "      <td>8</td>\n",
       "      <td>8</td>\n",
       "      <td>5</td>\n",
       "      <td>13</td>\n",
       "      <td>10XX ALBERNI ST</td>\n",
       "      <td>West End</td>\n",
       "      <td>491015.9434</td>\n",
       "      <td>5.459166e+06</td>\n",
       "      <td>2014-08-08</td>\n",
       "    </tr>\n",
       "    <tr>\n",
       "      <th>5</th>\n",
       "      <td>Break and Enter Commercial</td>\n",
       "      <td>2020</td>\n",
       "      <td>7</td>\n",
       "      <td>28</td>\n",
       "      <td>19</td>\n",
       "      <td>12</td>\n",
       "      <td>10XX ALBERNI ST</td>\n",
       "      <td>West End</td>\n",
       "      <td>491015.9434</td>\n",
       "      <td>5.459166e+06</td>\n",
       "      <td>2020-07-28</td>\n",
       "    </tr>\n",
       "  </tbody>\n",
       "</table>\n",
       "</div>"
      ],
      "text/plain": [
       "                         TYPE  YEAR  MONTH  DAY  HOUR  MINUTE  \\\n",
       "1  Break and Enter Commercial  2019      3    7     2       6   \n",
       "2  Break and Enter Commercial  2019      8   27     4      12   \n",
       "3  Break and Enter Commercial  2021      4   26     4      44   \n",
       "4  Break and Enter Commercial  2014      8    8     5      13   \n",
       "5  Break and Enter Commercial  2020      7   28    19      12   \n",
       "\n",
       "     HUNDRED_BLOCK NEIGHBOURHOOD            X             Y       Date  \n",
       "1    10XX SITKA SQ      Fairview  490612.9648  5.457110e+06 2019-03-07  \n",
       "2  10XX ALBERNI ST      West End  491004.8164  5.459177e+06 2019-08-27  \n",
       "3  10XX ALBERNI ST      West End  491007.7798  5.459174e+06 2021-04-26  \n",
       "4  10XX ALBERNI ST      West End  491015.9434  5.459166e+06 2014-08-08  \n",
       "5  10XX ALBERNI ST      West End  491015.9434  5.459166e+06 2020-07-28  "
      ]
     },
     "execution_count": 484,
     "metadata": {},
     "output_type": "execute_result"
    }
   ],
   "source": [
    "data_weekly.head()"
   ]
  },
  {
   "cell_type": "code",
   "execution_count": 485,
   "metadata": {},
   "outputs": [],
   "source": [
    "data_weekly[\"Day_of_week\"] = data_weekly[\"Date\"].dt.day_name()"
   ]
  },
  {
   "cell_type": "code",
   "execution_count": 486,
   "metadata": {},
   "outputs": [],
   "source": [
    "filtered_df = data_weekly.groupby([\"HOUR\" , \"Day_of_week\"]).size().reset_index(name = \"count\")"
   ]
  },
  {
   "cell_type": "code",
   "execution_count": 487,
   "metadata": {},
   "outputs": [],
   "source": [
    "day_order = ['Monday', 'Tuesday', 'Wednesday', 'Thursday', 'Friday', 'Saturday', 'Sunday']\n"
   ]
  },
  {
   "cell_type": "code",
   "execution_count": 488,
   "metadata": {},
   "outputs": [],
   "source": [
    "heatmap_data = filtered_df.pivot(index='HOUR', columns='Day_of_week', values='count')\n",
    "heatmap_data = heatmap_data[day_order]"
   ]
  },
  {
   "cell_type": "code",
   "execution_count": 489,
   "metadata": {},
   "outputs": [
    {
     "data": {
      "application/vnd.plotly.v1+json": {
       "config": {
        "plotlyServerURL": "https://plot.ly"
       },
       "data": [
        {
         "coloraxis": "coloraxis",
         "hovertemplate": "Day of Week: %{x}<br>Time of Day: %{y}<br>Red: %{z}<extra></extra>",
         "name": "0",
         "texttemplate": "%{z}",
         "type": "heatmap",
         "x": [
          "Monday",
          "Tuesday",
          "Wednesday",
          "Thursday",
          "Friday",
          "Saturday",
          "Sunday"
         ],
         "xaxis": "x",
         "y": [
          0,
          1,
          2,
          3,
          4,
          5,
          6,
          7,
          8,
          9,
          10,
          11,
          12,
          13,
          14,
          15,
          16,
          17,
          18,
          19,
          20,
          21,
          22,
          23
         ],
         "yaxis": "y",
         "z": [
          [
           12566,
           12122,
           12453,
           12235,
           13363,
           15349,
           14800
          ],
          [
           2758,
           2556,
           2544,
           2584,
           2849,
           4025,
           4358
          ],
          [
           2250,
           2087,
           2046,
           2116,
           2233,
           3203,
           3386
          ],
          [
           1960,
           2001,
           1737,
           1806,
           1895,
           2563,
           2848
          ],
          [
           1845,
           1904,
           1791,
           1749,
           1742,
           2041,
           2214
          ],
          [
           1837,
           1823,
           1734,
           1717,
           1761,
           1819,
           1910
          ],
          [
           1954,
           1997,
           1949,
           1958,
           1973,
           1674,
           1798
          ],
          [
           2857,
           2927,
           2726,
           2704,
           2816,
           1964,
           1847
          ],
          [
           4253,
           4406,
           4201,
           4232,
           4261,
           2771,
           2354
          ],
          [
           4537,
           4540,
           4314,
           4410,
           4394,
           3415,
           3134
          ],
          [
           4283,
           4394,
           4141,
           4202,
           4349,
           4089,
           3844
          ],
          [
           4355,
           4331,
           4083,
           4198,
           4349,
           4379,
           4173
          ],
          [
           6133,
           6211,
           5932,
           6064,
           6583,
           6433,
           6094
          ],
          [
           4883,
           4901,
           4621,
           4777,
           5132,
           5209,
           4945
          ],
          [
           5400,
           5118,
           5018,
           5242,
           5731,
           5885,
           5579
          ],
          [
           6019,
           5731,
           5793,
           5744,
           6809,
           6357,
           5847
          ],
          [
           6385,
           6358,
           6165,
           6279,
           7343,
           6525,
           6123
          ],
          [
           7310,
           7384,
           7219,
           7424,
           8770,
           7492,
           6516
          ],
          [
           8136,
           7989,
           8164,
           8146,
           9228,
           8303,
           7322
          ],
          [
           6671,
           6660,
           6551,
           6776,
           7633,
           7352,
           6135
          ],
          [
           6265,
           6223,
           6242,
           6228,
           7076,
           6775,
           5963
          ],
          [
           5982,
           5779,
           6121,
           5904,
           6689,
           6568,
           5778
          ],
          [
           5967,
           5990,
           6120,
           6139,
           7069,
           7279,
           6047
          ],
          [
           4939,
           4697,
           4807,
           5085,
           6525,
           6925,
           5029
          ]
         ]
        }
       ],
       "layout": {
        "coloraxis": {
         "colorbar": {
          "title": {
           "text": "Red"
          }
         },
         "colorscale": [
          [
           0,
           "rgb(255,245,240)"
          ],
          [
           0.125,
           "rgb(254,224,210)"
          ],
          [
           0.25,
           "rgb(252,187,161)"
          ],
          [
           0.375,
           "rgb(252,146,114)"
          ],
          [
           0.5,
           "rgb(251,106,74)"
          ],
          [
           0.625,
           "rgb(239,59,44)"
          ],
          [
           0.75,
           "rgb(203,24,29)"
          ],
          [
           0.875,
           "rgb(165,15,21)"
          ],
          [
           1,
           "rgb(103,0,13)"
          ]
         ]
        },
        "margin": {
         "t": 60
        },
        "template": {
         "data": {
          "bar": [
           {
            "error_x": {
             "color": "#2a3f5f"
            },
            "error_y": {
             "color": "#2a3f5f"
            },
            "marker": {
             "line": {
              "color": "#E5ECF6",
              "width": 0.5
             },
             "pattern": {
              "fillmode": "overlay",
              "size": 10,
              "solidity": 0.2
             }
            },
            "type": "bar"
           }
          ],
          "barpolar": [
           {
            "marker": {
             "line": {
              "color": "#E5ECF6",
              "width": 0.5
             },
             "pattern": {
              "fillmode": "overlay",
              "size": 10,
              "solidity": 0.2
             }
            },
            "type": "barpolar"
           }
          ],
          "carpet": [
           {
            "aaxis": {
             "endlinecolor": "#2a3f5f",
             "gridcolor": "white",
             "linecolor": "white",
             "minorgridcolor": "white",
             "startlinecolor": "#2a3f5f"
            },
            "baxis": {
             "endlinecolor": "#2a3f5f",
             "gridcolor": "white",
             "linecolor": "white",
             "minorgridcolor": "white",
             "startlinecolor": "#2a3f5f"
            },
            "type": "carpet"
           }
          ],
          "choropleth": [
           {
            "colorbar": {
             "outlinewidth": 0,
             "ticks": ""
            },
            "type": "choropleth"
           }
          ],
          "contour": [
           {
            "colorbar": {
             "outlinewidth": 0,
             "ticks": ""
            },
            "colorscale": [
             [
              0,
              "#0d0887"
             ],
             [
              0.1111111111111111,
              "#46039f"
             ],
             [
              0.2222222222222222,
              "#7201a8"
             ],
             [
              0.3333333333333333,
              "#9c179e"
             ],
             [
              0.4444444444444444,
              "#bd3786"
             ],
             [
              0.5555555555555556,
              "#d8576b"
             ],
             [
              0.6666666666666666,
              "#ed7953"
             ],
             [
              0.7777777777777778,
              "#fb9f3a"
             ],
             [
              0.8888888888888888,
              "#fdca26"
             ],
             [
              1,
              "#f0f921"
             ]
            ],
            "type": "contour"
           }
          ],
          "contourcarpet": [
           {
            "colorbar": {
             "outlinewidth": 0,
             "ticks": ""
            },
            "type": "contourcarpet"
           }
          ],
          "heatmap": [
           {
            "colorbar": {
             "outlinewidth": 0,
             "ticks": ""
            },
            "colorscale": [
             [
              0,
              "#0d0887"
             ],
             [
              0.1111111111111111,
              "#46039f"
             ],
             [
              0.2222222222222222,
              "#7201a8"
             ],
             [
              0.3333333333333333,
              "#9c179e"
             ],
             [
              0.4444444444444444,
              "#bd3786"
             ],
             [
              0.5555555555555556,
              "#d8576b"
             ],
             [
              0.6666666666666666,
              "#ed7953"
             ],
             [
              0.7777777777777778,
              "#fb9f3a"
             ],
             [
              0.8888888888888888,
              "#fdca26"
             ],
             [
              1,
              "#f0f921"
             ]
            ],
            "type": "heatmap"
           }
          ],
          "heatmapgl": [
           {
            "colorbar": {
             "outlinewidth": 0,
             "ticks": ""
            },
            "colorscale": [
             [
              0,
              "#0d0887"
             ],
             [
              0.1111111111111111,
              "#46039f"
             ],
             [
              0.2222222222222222,
              "#7201a8"
             ],
             [
              0.3333333333333333,
              "#9c179e"
             ],
             [
              0.4444444444444444,
              "#bd3786"
             ],
             [
              0.5555555555555556,
              "#d8576b"
             ],
             [
              0.6666666666666666,
              "#ed7953"
             ],
             [
              0.7777777777777778,
              "#fb9f3a"
             ],
             [
              0.8888888888888888,
              "#fdca26"
             ],
             [
              1,
              "#f0f921"
             ]
            ],
            "type": "heatmapgl"
           }
          ],
          "histogram": [
           {
            "marker": {
             "pattern": {
              "fillmode": "overlay",
              "size": 10,
              "solidity": 0.2
             }
            },
            "type": "histogram"
           }
          ],
          "histogram2d": [
           {
            "colorbar": {
             "outlinewidth": 0,
             "ticks": ""
            },
            "colorscale": [
             [
              0,
              "#0d0887"
             ],
             [
              0.1111111111111111,
              "#46039f"
             ],
             [
              0.2222222222222222,
              "#7201a8"
             ],
             [
              0.3333333333333333,
              "#9c179e"
             ],
             [
              0.4444444444444444,
              "#bd3786"
             ],
             [
              0.5555555555555556,
              "#d8576b"
             ],
             [
              0.6666666666666666,
              "#ed7953"
             ],
             [
              0.7777777777777778,
              "#fb9f3a"
             ],
             [
              0.8888888888888888,
              "#fdca26"
             ],
             [
              1,
              "#f0f921"
             ]
            ],
            "type": "histogram2d"
           }
          ],
          "histogram2dcontour": [
           {
            "colorbar": {
             "outlinewidth": 0,
             "ticks": ""
            },
            "colorscale": [
             [
              0,
              "#0d0887"
             ],
             [
              0.1111111111111111,
              "#46039f"
             ],
             [
              0.2222222222222222,
              "#7201a8"
             ],
             [
              0.3333333333333333,
              "#9c179e"
             ],
             [
              0.4444444444444444,
              "#bd3786"
             ],
             [
              0.5555555555555556,
              "#d8576b"
             ],
             [
              0.6666666666666666,
              "#ed7953"
             ],
             [
              0.7777777777777778,
              "#fb9f3a"
             ],
             [
              0.8888888888888888,
              "#fdca26"
             ],
             [
              1,
              "#f0f921"
             ]
            ],
            "type": "histogram2dcontour"
           }
          ],
          "mesh3d": [
           {
            "colorbar": {
             "outlinewidth": 0,
             "ticks": ""
            },
            "type": "mesh3d"
           }
          ],
          "parcoords": [
           {
            "line": {
             "colorbar": {
              "outlinewidth": 0,
              "ticks": ""
             }
            },
            "type": "parcoords"
           }
          ],
          "pie": [
           {
            "automargin": true,
            "type": "pie"
           }
          ],
          "scatter": [
           {
            "fillpattern": {
             "fillmode": "overlay",
             "size": 10,
             "solidity": 0.2
            },
            "type": "scatter"
           }
          ],
          "scatter3d": [
           {
            "line": {
             "colorbar": {
              "outlinewidth": 0,
              "ticks": ""
             }
            },
            "marker": {
             "colorbar": {
              "outlinewidth": 0,
              "ticks": ""
             }
            },
            "type": "scatter3d"
           }
          ],
          "scattercarpet": [
           {
            "marker": {
             "colorbar": {
              "outlinewidth": 0,
              "ticks": ""
             }
            },
            "type": "scattercarpet"
           }
          ],
          "scattergeo": [
           {
            "marker": {
             "colorbar": {
              "outlinewidth": 0,
              "ticks": ""
             }
            },
            "type": "scattergeo"
           }
          ],
          "scattergl": [
           {
            "marker": {
             "colorbar": {
              "outlinewidth": 0,
              "ticks": ""
             }
            },
            "type": "scattergl"
           }
          ],
          "scattermapbox": [
           {
            "marker": {
             "colorbar": {
              "outlinewidth": 0,
              "ticks": ""
             }
            },
            "type": "scattermapbox"
           }
          ],
          "scatterpolar": [
           {
            "marker": {
             "colorbar": {
              "outlinewidth": 0,
              "ticks": ""
             }
            },
            "type": "scatterpolar"
           }
          ],
          "scatterpolargl": [
           {
            "marker": {
             "colorbar": {
              "outlinewidth": 0,
              "ticks": ""
             }
            },
            "type": "scatterpolargl"
           }
          ],
          "scatterternary": [
           {
            "marker": {
             "colorbar": {
              "outlinewidth": 0,
              "ticks": ""
             }
            },
            "type": "scatterternary"
           }
          ],
          "surface": [
           {
            "colorbar": {
             "outlinewidth": 0,
             "ticks": ""
            },
            "colorscale": [
             [
              0,
              "#0d0887"
             ],
             [
              0.1111111111111111,
              "#46039f"
             ],
             [
              0.2222222222222222,
              "#7201a8"
             ],
             [
              0.3333333333333333,
              "#9c179e"
             ],
             [
              0.4444444444444444,
              "#bd3786"
             ],
             [
              0.5555555555555556,
              "#d8576b"
             ],
             [
              0.6666666666666666,
              "#ed7953"
             ],
             [
              0.7777777777777778,
              "#fb9f3a"
             ],
             [
              0.8888888888888888,
              "#fdca26"
             ],
             [
              1,
              "#f0f921"
             ]
            ],
            "type": "surface"
           }
          ],
          "table": [
           {
            "cells": {
             "fill": {
              "color": "#EBF0F8"
             },
             "line": {
              "color": "white"
             }
            },
            "header": {
             "fill": {
              "color": "#C8D4E3"
             },
             "line": {
              "color": "white"
             }
            },
            "type": "table"
           }
          ]
         },
         "layout": {
          "annotationdefaults": {
           "arrowcolor": "#2a3f5f",
           "arrowhead": 0,
           "arrowwidth": 1
          },
          "autotypenumbers": "strict",
          "coloraxis": {
           "colorbar": {
            "outlinewidth": 0,
            "ticks": ""
           }
          },
          "colorscale": {
           "diverging": [
            [
             0,
             "#8e0152"
            ],
            [
             0.1,
             "#c51b7d"
            ],
            [
             0.2,
             "#de77ae"
            ],
            [
             0.3,
             "#f1b6da"
            ],
            [
             0.4,
             "#fde0ef"
            ],
            [
             0.5,
             "#f7f7f7"
            ],
            [
             0.6,
             "#e6f5d0"
            ],
            [
             0.7,
             "#b8e186"
            ],
            [
             0.8,
             "#7fbc41"
            ],
            [
             0.9,
             "#4d9221"
            ],
            [
             1,
             "#276419"
            ]
           ],
           "sequential": [
            [
             0,
             "#0d0887"
            ],
            [
             0.1111111111111111,
             "#46039f"
            ],
            [
             0.2222222222222222,
             "#7201a8"
            ],
            [
             0.3333333333333333,
             "#9c179e"
            ],
            [
             0.4444444444444444,
             "#bd3786"
            ],
            [
             0.5555555555555556,
             "#d8576b"
            ],
            [
             0.6666666666666666,
             "#ed7953"
            ],
            [
             0.7777777777777778,
             "#fb9f3a"
            ],
            [
             0.8888888888888888,
             "#fdca26"
            ],
            [
             1,
             "#f0f921"
            ]
           ],
           "sequentialminus": [
            [
             0,
             "#0d0887"
            ],
            [
             0.1111111111111111,
             "#46039f"
            ],
            [
             0.2222222222222222,
             "#7201a8"
            ],
            [
             0.3333333333333333,
             "#9c179e"
            ],
            [
             0.4444444444444444,
             "#bd3786"
            ],
            [
             0.5555555555555556,
             "#d8576b"
            ],
            [
             0.6666666666666666,
             "#ed7953"
            ],
            [
             0.7777777777777778,
             "#fb9f3a"
            ],
            [
             0.8888888888888888,
             "#fdca26"
            ],
            [
             1,
             "#f0f921"
            ]
           ]
          },
          "colorway": [
           "#636efa",
           "#EF553B",
           "#00cc96",
           "#ab63fa",
           "#FFA15A",
           "#19d3f3",
           "#FF6692",
           "#B6E880",
           "#FF97FF",
           "#FECB52"
          ],
          "font": {
           "color": "#2a3f5f"
          },
          "geo": {
           "bgcolor": "white",
           "lakecolor": "white",
           "landcolor": "#E5ECF6",
           "showlakes": true,
           "showland": true,
           "subunitcolor": "white"
          },
          "hoverlabel": {
           "align": "left"
          },
          "hovermode": "closest",
          "mapbox": {
           "style": "light"
          },
          "paper_bgcolor": "white",
          "plot_bgcolor": "#E5ECF6",
          "polar": {
           "angularaxis": {
            "gridcolor": "white",
            "linecolor": "white",
            "ticks": ""
           },
           "bgcolor": "#E5ECF6",
           "radialaxis": {
            "gridcolor": "white",
            "linecolor": "white",
            "ticks": ""
           }
          },
          "scene": {
           "xaxis": {
            "backgroundcolor": "#E5ECF6",
            "gridcolor": "white",
            "gridwidth": 2,
            "linecolor": "white",
            "showbackground": true,
            "ticks": "",
            "zerolinecolor": "white"
           },
           "yaxis": {
            "backgroundcolor": "#E5ECF6",
            "gridcolor": "white",
            "gridwidth": 2,
            "linecolor": "white",
            "showbackground": true,
            "ticks": "",
            "zerolinecolor": "white"
           },
           "zaxis": {
            "backgroundcolor": "#E5ECF6",
            "gridcolor": "white",
            "gridwidth": 2,
            "linecolor": "white",
            "showbackground": true,
            "ticks": "",
            "zerolinecolor": "white"
           }
          },
          "shapedefaults": {
           "line": {
            "color": "#2a3f5f"
           }
          },
          "ternary": {
           "aaxis": {
            "gridcolor": "white",
            "linecolor": "white",
            "ticks": ""
           },
           "baxis": {
            "gridcolor": "white",
            "linecolor": "white",
            "ticks": ""
           },
           "bgcolor": "#E5ECF6",
           "caxis": {
            "gridcolor": "white",
            "linecolor": "white",
            "ticks": ""
           }
          },
          "title": {
           "x": 0.05
          },
          "xaxis": {
           "automargin": true,
           "gridcolor": "white",
           "linecolor": "white",
           "ticks": "",
           "title": {
            "standoff": 15
           },
           "zerolinecolor": "white",
           "zerolinewidth": 2
          },
          "yaxis": {
           "automargin": true,
           "gridcolor": "white",
           "linecolor": "white",
           "ticks": "",
           "title": {
            "standoff": 15
           },
           "zerolinecolor": "white",
           "zerolinewidth": 2
          }
         }
        },
        "xaxis": {
         "anchor": "y",
         "constrain": "domain",
         "domain": [
          0,
          1
         ],
         "scaleanchor": "y",
         "side": "top",
         "title": {
          "text": "Day of Week"
         }
        },
        "yaxis": {
         "anchor": "x",
         "autorange": "reversed",
         "constrain": "domain",
         "domain": [
          0,
          1
         ],
         "tickmode": "array",
         "ticktext": [
          "12 AM",
          "1 AM",
          "2 AM",
          "3 AM",
          "4 AM",
          "5 AM",
          "6 AM",
          "7 AM",
          "8 AM",
          "9 AM",
          "10 AM",
          "11 AM",
          "12 PM",
          "1 PM",
          "2 PM",
          "3 PM",
          "4 PM",
          "5 PM",
          "6 PM",
          "7 PM",
          "8 PM",
          "9 PM",
          "10 PM",
          "11 PM"
         ],
         "tickvals": [
          0,
          1,
          2,
          3,
          4,
          5,
          6,
          7,
          8,
          9,
          10,
          11,
          12,
          13,
          14,
          15,
          16,
          17,
          18,
          19,
          20,
          21,
          22,
          23
         ],
         "title": {
          "text": "Time of Day"
         }
        }
       }
      }
     },
     "metadata": {},
     "output_type": "display_data"
    }
   ],
   "source": [
    "fig = px.imshow(heatmap_data,\n",
    "                labels=dict(x=\"Day of Week\", y=\"Time of Day\", color=\"Red\"),\n",
    "                x=heatmap_data.columns,\n",
    "                y=heatmap_data.index,\n",
    "                color_continuous_scale='Reds',\n",
    "                text_auto=True,\n",
    "            \n",
    "                )\n",
    "\n",
    "fig.update_xaxes(side=\"top\")\n",
    "fig.update_yaxes(tickmode='array', tickvals=list(range(24)))\n",
    "fig.update_yaxes(ticktext=[\"12 AM\", \"1 AM\", \"2 AM\", \"3 AM\", \"4 AM\", \"5 AM\", \"6 AM\", \"7 AM\", \"8 AM\", \"9 AM\", \"10 AM\", \"11 AM\",\n",
    "                           \"12 PM\", \"1 PM\", \"2 PM\", \"3 PM\", \"4 PM\", \"5 PM\", \"6 PM\", \"7 PM\", \"8 PM\", \"9 PM\", \"10 PM\", \"11 PM\"],\n",
    "                 tickvals=list(range(24)))\n",
    "fig.show()"
   ]
  },
  {
   "cell_type": "markdown",
   "metadata": {},
   "source": [
    "The analysis of crime incidents in Vancouver from 2003 to 2023 reveals a distinctive temporal pattern, particularly around midnight on weekends, signifying heightened criminal activities during this time.\n",
    "\n",
    "1. High Crime Incidence around 12 AM:\n",
    "     \n",
    "     Observation: A significant surge in crime incidents is consistently observed around midnight, with a notable peak at 12 AM.\n",
    "    \n",
    "     Interpretation: As we noticed and discussed earlier the spike in criminal activities during this late-night hour may be influenced by reduced visibility, fewer witnesses, and increased opportunities for illicit behaviors, contributing to a concentration of incidents.\n",
    "2. Weekend-specific Trend:\n",
    "\n",
    "     Observation: The elevated crime count around 12 AM is particularly prominent on weekends.\n",
    "    \n",
    "     Interpretation: Weekends, characterized by increased social activities, nightlife, and gatherings, may create an environment conducive to higher crime rates during the late-night hours. Factors such as alcohol consumption and relaxed routines contribute to this observed weekend-specific trend.\n"
   ]
  },
  {
   "cell_type": "markdown",
   "metadata": {},
   "source": [
    "     City MAP Visualization"
   ]
  },
  {
   "cell_type": "code",
   "execution_count": 490,
   "metadata": {},
   "outputs": [],
   "source": [
    "value_count = data[\"NEIGHBOURHOOD\"].value_counts()"
   ]
  },
  {
   "cell_type": "code",
   "execution_count": 491,
   "metadata": {},
   "outputs": [
    {
     "data": {
      "application/vnd.plotly.v1+json": {
       "config": {
        "plotlyServerURL": "https://plot.ly"
       },
       "data": [
        {
         "coloraxis": "coloraxis",
         "geojson": {
          "bbox": [
           -123.22484588623045,
           49.1989364614697,
           -123.02320098876953,
           49.295810698530715
          ],
          "features": [
           {
            "bbox": [
             -123.13768005371092,
             49.2695312490677,
             -123.0992889404297,
             49.295810698530715
            ],
            "geometry": {
             "coordinates": [
              [
               [
                -123.11226654052733,
                49.29016494657755
               ],
               [
                -123.10424041748047,
                49.288166045210374
               ],
               [
                -123.0992889404297,
                49.289272307417406
               ],
               [
                -123.09999847412111,
                49.272750853559906
               ],
               [
                -123.10169982910158,
                49.27297210600129
               ],
               [
                -123.11107635498047,
                49.272926329634096
               ],
               [
                -123.11444854736328,
                49.2717742910599
               ],
               [
                -123.12116241455078,
                49.26953887846223
               ],
               [
                -123.12928009033203,
                49.2695312490677
               ],
               [
                -123.13768005371092,
                49.27531814481966
               ],
               [
                -123.13233184814453,
                49.276931761763024
               ],
               [
                -123.12109375,
                49.28436660673378
               ],
               [
                -123.13668060302734,
                49.29445648100141
               ],
               [
                -123.13468933105469,
                49.295810698530715
               ],
               [
                -123.12271118164062,
                49.291500090620545
               ],
               [
                -123.11226654052733,
                49.29016494657755
               ]
              ]
             ],
             "type": "Polygon"
            },
            "id": "0",
            "properties": {},
            "type": "Feature"
           },
           {
            "bbox": [
             -123.05658721923827,
             49.26182937528834,
             -123.02320098876953,
             49.29418182279827
            ],
            "geometry": {
             "coordinates": [
              [
               [
                -123.05648803710938,
                49.29348754789594
               ],
               [
                -123.0519027709961,
                49.294147490522896
               ],
               [
                -123.046630859375,
                49.29418182279827
               ],
               [
                -123.03739166259764,
                49.29273223783734
               ],
               [
                -123.02320098876953,
                49.29353332426313
               ],
               [
                -123.02323150634764,
                49.29302978422406
               ],
               [
                -123.02356719970705,
                49.265525816938755
               ],
               [
                -123.02411651611328,
                49.26539993192899
               ],
               [
                -123.02464294433594,
                49.265251158735644
               ],
               [
                -123.02516937255858,
                49.26508712675322
               ],
               [
                -123.02567291259767,
                49.26490402128446
               ],
               [
                -123.02616119384764,
                49.26470565702665
               ],
               [
                -123.02663421630858,
                49.264492033979785
               ],
               [
                -123.02709197998047,
                49.264259337446575
               ],
               [
                -123.02753448486327,
                49.264011382124295
               ],
               [
                -123.02794647216797,
                49.26375198271025
               ],
               [
                -123.02953338623047,
                49.262706755659444
               ],
               [
                -123.02969360351562,
                49.26259612943875
               ],
               [
                -123.02986145019531,
                49.26249694730984
               ],
               [
                -123.03004455566408,
                49.26240157987821
               ],
               [
                -123.0302276611328,
                49.26231002714382
               ],
               [
                -123.03042602539062,
                49.262229918501255
               ],
               [
                -123.03062438964844,
                49.26215362455594
               ],
               [
                -123.03083038330078,
                49.26208496000515
               ],
               [
                -123.03104400634766,
                49.262027739546156
               ],
               [
                -123.03126525878906,
                49.26197433378446
               ],
               [
                -123.03148651123048,
                49.261928557417264
               ],
               [
                -123.03170776367188,
                49.26189422514187
               ],
               [
                -123.03193664550783,
                49.26186370756375
               ],
               [
                -123.03216552734374,
                49.26184463407742
               ],
               [
                -123.03239440917969,
                49.26183318998563
               ],
               [
                -123.03262329101564,
                49.26182937528834
               ],
               [
                -123.04424285888672,
                49.26187133695827
               ],
               [
                -123.04424285888672,
                49.26193618681179
               ],
               [
                -123.05658721923827,
                49.26198196317898
               ],
               [
                -123.05658721923827,
                49.26217651273953
               ],
               [
                -123.05648803710938,
                49.29348754789594
               ]
              ]
             ],
             "type": "Polygon"
            },
            "id": "1",
            "properties": {},
            "type": "Feature"
           },
           {
            "bbox": [
             -123.17908477783203,
             49.20480346586425,
             -123.13959503173827,
             49.234722136518705
            ],
            "geometry": {
             "coordinates": [
              [
               [
                -123.17908477783203,
                49.21555709745609
               ],
               [
                -123.1756362915039,
                49.2153701772901
               ],
               [
                -123.1721725463867,
                49.215278624555715
               ],
               [
                -123.17156982421875,
                49.21524810697758
               ],
               [
                -123.17096710205077,
                49.21519851591314
               ],
               [
                -123.17037200927734,
                49.21512603666508
               ],
               [
                -123.16978454589842,
                49.21503066923345
               ],
               [
                -123.16920471191406,
                49.214916228315474
               ],
               [
                -123.16864013671875,
                49.21477889921392
               ],
               [
                -123.1680908203125,
                49.21461868192875
               ],
               [
                -123.16754913330078,
                49.21443939115727
               ],
               [
                -123.16702270507814,
                49.21424102689946
               ],
               [
                -123.16651916503906,
                49.214019774458045
               ],
               [
                -123.16598510742189,
                49.21378707792485
               ],
               [
                -123.1654281616211,
                49.213577269575225
               ],
               [
                -123.16484832763673,
                49.21339034940923
               ],
               [
                -123.16425323486327,
                49.2132263174268
               ],
               [
                -123.16365051269531,
                49.21308517362796
               ],
               [
                -123.1631088256836,
                49.21296310331547
               ],
               [
                -123.16258239746094,
                49.212821959516624
               ],
               [
                -123.16207122802734,
                49.21266174223147
               ],
               [
                -123.16156768798828,
                49.212486266157256
               ],
               [
                -123.16108703613283,
                49.2122917165967
               ],
               [
                -123.16061401367186,
                49.2120819082471
               ],
               [
                -123.16016387939452,
                49.21185302641114
               ],
               [
                -123.15972900390625,
                49.21161270048341
               ],
               [
                -123.15931701660158,
                49.21135711576663
               ],
               [
                -123.15892791748047,
                49.21108627226078
               ],
               [
                -123.15856170654298,
                49.210803984663116
               ],
               [
                -123.15821075439453,
                49.21050643827639
               ],
               [
                -123.1578903198242,
                49.21020126249515
               ],
               [
                -123.15760040283203,
                49.20988082792483
               ],
               [
                -123.15755462646484,
                49.20983123686036
               ],
               [
                -123.15750122070312,
                49.20978546049318
               ],
               [
                -123.15744781494142,
                49.209739684126
               ],
               [
                -123.15738677978516,
                49.2096939077588
               ],
               [
                -123.15732574462889,
                49.20965194608889
               ],
               [
                -123.15726470947266,
                49.20961379911622
               ],
               [
                -123.15719604492188,
                49.20957565214357
               ],
               [
                -123.1571273803711,
                49.20954131986817
               ],
               [
                -123.15705108642578,
                49.20950698759279
               ],
               [
                -123.15697479248048,
                49.20948028471193
               ],
               [
                -123.15689849853514,
                49.20945358183106
               ],
               [
                -123.15681457519531,
                49.209426878950225
               ],
               [
                -123.15673065185547,
                49.20940780546388
               ],
               [
                -123.15664672851564,
                49.209388731977555
               ],
               [
                -123.15656280517578,
                49.209373473188485
               ],
               [
                -123.1564712524414,
                49.20936202909669
               ],
               [
                -123.15638732910158,
                49.209354399702185
               ],
               [
                -123.15629577636719,
                49.209342955610374
               ],
               [
                -123.15621185302733,
                49.20933151151858
               ],
               [
                -123.15612030029295,
                49.20931625272949
               ],
               [
                -123.15603637695312,
                49.20929717924319
               ],
               [
                -123.15595245361327,
                49.20927429105959
               ],
               [
                -123.15588378906249,
                49.20925140287599
               ],
               [
                -123.15581512451173,
                49.20922469999514
               ],
               [
                -123.15574645996095,
                49.209197997114266
               ],
               [
                -123.15567779541017,
                49.209167479536156
               ],
               [
                -123.1556167602539,
                49.20913314726076
               ],
               [
                -123.15555572509767,
                49.209098814985374
               ],
               [
                -123.1554946899414,
                49.209064482709984
               ],
               [
                -123.1554412841797,
                49.209026335737306
               ],
               [
                -123.15538787841795,
                49.20898437406741
               ],
               [
                -123.1553421020508,
                49.208942412397484
               ],
               [
                -123.15529632568361,
                49.20890045072756
               ],
               [
                -123.15291595458984,
                49.207023619672846
               ],
               [
                -123.15283966064455,
                49.206958769819344
               ],
               [
                -123.1527633666992,
                49.20689010526856
               ],
               [
                -123.15270233154297,
                49.20682144071779
               ],
               [
                -123.15264129638672,
                49.20674896146973
               ],
               [
                -123.152587890625,
                49.20667266752441
               ],
               [
                -123.15253448486328,
                49.2065963735791
               ],
               [
                -123.15249633789062,
                49.20652007963378
               ],
               [
                -123.1524658203125,
                49.206439970991205
               ],
               [
                -123.15243530273439,
                49.20635986234864
               ],
               [
                -123.15242004394531,
                49.20627593900879
               ],
               [
                -123.1523895263672,
                49.20619201566895
               ],
               [
                -123.15235900878905,
                49.20610809232911
               ],
               [
                -123.15231323242186,
                49.206027983686525
               ],
               [
                -123.15226745605467,
                49.20594406034669
               ],
               [
                -123.15221405029297,
                49.205867766401376
               ],
               [
                -123.15215301513673,
                49.20579147245605
               ],
               [
                -123.15208435058595,
                49.20571517851075
               ],
               [
                -123.15201568603516,
                49.20564269926269
               ],
               [
                -123.15193939208986,
                49.205574034711894
               ],
               [
                -123.15185546875,
                49.205505370161134
               ],
               [
                -123.15176391601562,
                49.205440520307626
               ],
               [
                -123.15167236328125,
                49.20537948515137
               ],
               [
                -123.15157318115234,
                49.20532226469239
               ],
               [
                -123.15146636962892,
                49.20526885893066
               ],
               [
                -123.15135955810547,
                49.20521926786621
               ],
               [
                -123.14993286132814,
                49.20480346586425
               ],
               [
                -123.14884948730469,
                49.20867156889163
               ],
               [
                -123.14817810058592,
                49.20894622709474
               ],
               [
                -123.1486587524414,
                49.209461211225616
               ],
               [
                -123.14823913574219,
                49.21940231229987
               ],
               [
                -123.14015197753906,
                49.21930694486822
               ],
               [
                -123.13959503173827,
                49.234272002241354
               ],
               [
                -123.15527343750001,
                49.23452377226088
               ],
               [
                -123.17024993896484,
                49.234703063032356
               ],
               [
                -123.17870330810548,
                49.234722136518705
               ],
               [
                -123.17908477783203,
                49.21555709745609
               ]
              ]
             ],
             "type": "Polygon"
            },
            "id": "2",
            "properties": {},
            "type": "Feature"
           },
           {
            "bbox": [
             -123.14993286132814,
             49.1989364614697,
             -123.10616302490233,
             49.21940231229987
            ],
            "geometry": {
             "coordinates": [
              [
               [
                -123.10696411132812,
                49.20415878202636
               ],
               [
                -123.11153411865233,
                49.204444884321276
               ],
               [
                -123.11196899414062,
                49.20445632841307
               ],
               [
                -123.11240386962889,
                49.2044525137158
               ],
               [
                -123.1128387451172,
                49.20442962553223
               ],
               [
                -123.11327362060547,
                49.204391478559565
               ],
               [
                -123.11370086669922,
                49.20433425810057
               ],
               [
                -123.11412048339844,
                49.204261778852526
               ],
               [
                -123.11453247070311,
                49.20417404081542
               ],
               [
                -123.11718750000001,
                49.20354843046385
               ],
               [
                -123.117431640625,
                49.2034759512158
               ],
               [
                -123.11766052246095,
                49.20339202787596
               ],
               [
                -123.11788940429686,
                49.203300475141575
               ],
               [
                -123.1181106567383,
                49.203201293012675
               ],
               [
                -123.11832427978517,
                49.20309448148924
               ],
               [
                -123.11852264404297,
                49.20298004057127
               ],
               [
                -123.11872100830077,
                49.20285797025877
               ],
               [
                -123.11890411376953,
                49.202732085249
               ],
               [
                -123.1190719604492,
                49.20259857084472
               ],
               [
                -123.11923217773438,
                49.202457427045886
               ],
               [
                -123.11938476562501,
                49.202312468549785
               ],
               [
                -123.11952209472655,
                49.20215988065917
               ],
               [
                -123.1196517944336,
                49.202014922163066
               ],
               [
                -123.11979675292969,
                49.20187759306151
               ],
               [
                -123.11995697021484,
                49.20174026395994
               ],
               [
                -123.12012481689453,
                49.20161056425293
               ],
               [
                -123.12030029296874,
                49.20148849394041
               ],
               [
                -123.12049102783202,
                49.201374053022434
               ],
               [
                -123.1206817626953,
                49.20126342680174
               ],
               [
                -123.12088775634766,
                49.20116424467283
               ],
               [
                -123.12110900878905,
                49.201068877241184
               ],
               [
                -123.12133026123047,
                49.200981139204075
               ],
               [
                -123.12155914306642,
                49.20090484525876
               ],
               [
                -123.12179565429689,
                49.200836180707995
               ],
               [
                -123.12785339355469,
                49.19917297270016
               ],
               [
                -123.12913513183594,
                49.19904327299313
               ],
               [
                -123.13042449951173,
                49.19896697904782
               ],
               [
                -123.13172149658202,
                49.19894027616696
               ],
               [
                -123.13396453857422,
                49.1989364614697
               ],
               [
                -123.13463592529298,
                49.1989364614697
               ],
               [
                -123.13531494140624,
                49.19896316435055
               ],
               [
                -123.135986328125,
                49.19901657011227
               ],
               [
                -123.13718414306639,
                49.199142455122036
               ],
               [
                -123.13775634765626,
                49.199268340131795
               ],
               [
                -123.13831329345703,
                49.19941329862788
               ],
               [
                -123.13885498046875,
                49.19957733061033
               ],
               [
                -123.13938903808595,
                49.19976043607905
               ],
               [
                -123.13990783691408,
                49.199962615034146
               ],
               [
                -123.14040374755861,
                49.200180052778286
               ],
               [
                -123.14088439941406,
                49.20041656400875
               ],
               [
                -123.14134979248048,
                49.2006683340283
               ],
               [
                -123.14179229736327,
                49.20093536283689
               ],
               [
                -123.14220428466797,
                49.20121765043454
               ],
               [
                -123.14260101318361,
                49.201515196821276
               ],
               [
                -123.14297485351561,
                49.20182418729979
               ],
               [
                -123.14328002929686,
                49.20207595731931
               ],
               [
                -123.14360809326172,
                49.20231628324705
               ],
               [
                -123.14395904541016,
                49.20254516508299
               ],
               [
                -123.14432525634767,
                49.20275878812988
               ],
               [
                -123.14471435546875,
                49.20295715238768
               ],
               [
                -123.1451187133789,
                49.20314407255369
               ],
               [
                -123.14553833007812,
                49.203311919233386
               ],
               [
                -123.14724731445312,
                49.20394897367675
               ],
               [
                -123.14832305908205,
                49.20432281400878
               ],
               [
                -123.14993286132814,
                49.20480346586425
               ],
               [
                -123.14884948730469,
                49.20867156889163
               ],
               [
                -123.14817810058592,
                49.20894622709474
               ],
               [
                -123.1486587524414,
                49.209461211225616
               ],
               [
                -123.14823913574219,
                49.21940231229987
               ],
               [
                -123.14015197753906,
                49.21930694486822
               ],
               [
                -123.10616302490233,
                49.21887588407721
               ],
               [
                -123.10696411132812,
                49.20415878202636
               ]
              ]
             ],
             "type": "Polygon"
            },
            "id": "3",
            "properties": {},
            "type": "Feature"
           },
           {
            "bbox": [
             -123.14015197753906,
             49.21887588407721,
             -123.10562133789061,
             49.234272002241354
            ],
            "geometry": {
             "coordinates": [
              [
               [
                -123.10562133789061,
                49.23311614896985
               ],
               [
                -123.10616302490233,
                49.21887588407721
               ],
               [
                -123.14015197753906,
                49.21930694486822
               ],
               [
                -123.13959503173827,
                49.234272002241354
               ],
               [
                -123.12804412841797,
                49.23390579130386
               ],
               [
                -123.10562133789061,
                49.23311614896985
               ]
              ]
             ],
             "type": "Polygon"
            },
            "id": "4",
            "properties": {},
            "type": "Feature"
           },
           {
            "bbox": [
             -123.1184310913086,
             49.23282241728041,
             -123.08984375,
             49.25687026884301
            ],
            "geometry": {
             "coordinates": [
              [
               [
                -123.10562133789061,
                49.23311614896985
               ],
               [
                -123.1161651611328,
                49.2334899893019
               ],
               [
                -123.1159896850586,
                49.23793792631362
               ],
               [
                -123.1159896850586,
                49.23800659086442
               ],
               [
                -123.11599731445311,
                49.23807907011248
               ],
               [
                -123.11600494384767,
                49.238147734663244
               ],
               [
                -123.11602783203126,
                49.238216399214025
               ],
               [
                -123.11605072021486,
                49.23828506376479
               ],
               [
                -123.11608123779297,
                49.23834991361833
               ],
               [
                -123.1161117553711,
                49.23841476347185
               ],
               [
                -123.11615753173828,
                49.23847961332534
               ],
               [
                -123.11620330810547,
                49.23854446317887
               ],
               [
                -123.11625671386719,
                49.23860549833511
               ],
               [
                -123.11631011962892,
                49.2386627187941
               ],
               [
                -123.11811828613281,
                49.24026107694841
               ],
               [
                -123.1181640625,
                49.2403068533156
               ],
               [
                -123.11820983886719,
                49.240352629682775
               ],
               [
                -123.11824798583983,
                49.24040222074724
               ],
               [
                -123.1182861328125,
                49.240447997114416
               ],
               [
                -123.11831665039061,
                49.240501402876134
               ],
               [
                -123.11834716796876,
                49.24055099394059
               ],
               [
                -123.11837005615236,
                49.24060439970231
               ],
               [
                -123.11839294433595,
                49.24065780546404
               ],
               [
                -123.118408203125,
                49.240711211225744
               ],
               [
                -123.11842346191406,
                49.24076461698748
               ],
               [
                -123.11842346191406,
                49.24081802274919
               ],
               [
                -123.1184310913086,
                49.2408714285109
               ],
               [
                -123.1184310913086,
                49.24092864896989
               ],
               [
                -123.11834716796876,
                49.24274444486833
               ],
               [
                -123.11834716796876,
                49.24278640653826
               ],
               [
                -123.1183395385742,
                49.242824553510935
               ],
               [
                -123.11833190917969,
                49.24286651518085
               ],
               [
                -123.11831665039061,
                49.2429046621535
               ],
               [
                -123.11830139160156,
                49.242946623823414
               ],
               [
                -123.11827850341797,
                49.242984770796085
               ],
               [
                -123.11825561523438,
                49.243022917768734
               ],
               [
                -123.11823272705078,
                49.24305725004412
               ],
               [
                -123.11820220947267,
                49.24309539701677
               ],
               [
                -123.11817169189453,
                49.243129729292164
               ],
               [
                -123.11813354492189,
                49.24316406156756
               ],
               [
                -123.11809539794922,
                49.24319457914568
               ],
               [
                -123.11805725097655,
                49.243225096723826
               ],
               [
                -123.11801147460936,
                49.24325561430195
               ],
               [
                -123.1179656982422,
                49.24328231718279
               ],
               [
                -123.11791992187501,
                49.243309020063656
               ],
               [
                -123.11635589599608,
                49.244197844526546
               ],
               [
                -123.11626434326173,
                49.24425125028827
               ],
               [
                -123.11617279052736,
                49.24431228544453
               ],
               [
                -123.1160888671875,
                49.24437332060078
               ],
               [
                -123.11601257324219,
                49.24443817045429
               ],
               [
                -123.11593627929689,
                49.244503020307796
               ],
               [
                -123.1158676147461,
                49.244571684858585
               ],
               [
                -123.11580657958984,
                49.24464416410664
               ],
               [
                -123.11575317382812,
                49.24472045805192
               ],
               [
                -123.11569976806642,
                49.24479293729999
               ],
               [
                -123.11566162109375,
                49.244873045942576
               ],
               [
                -123.11562347412108,
                49.24494933988788
               ],
               [
                -123.11559295654297,
                49.24502944853046
               ],
               [
                -123.11556243896484,
                49.245109557173045
               ],
               [
                -123.11554718017578,
                49.245193480512874
               ],
               [
                -123.11553192138673,
                49.24527358915546
               ],
               [
                -123.11504364013672,
                49.25687026884301
               ],
               [
                -123.08984375,
                49.25637817289576
               ],
               [
                -123.09053802490233,
                49.23282241728041
               ],
               [
                -123.10562133789061,
                49.23311614896985
               ]
              ]
             ],
             "type": "Polygon"
            },
            "id": "5",
            "properties": {},
            "type": "Feature"
           },
           {
            "bbox": [
             -123.12804412841797,
             49.2334899893019,
             -123.11504364013672,
             49.25709915067896
            ],
            "geometry": {
             "coordinates": [
              [
               [
                -123.1159896850586,
                49.23793792631362
               ],
               [
                -123.1161651611328,
                49.2334899893019
               ],
               [
                -123.12804412841797,
                49.23390579130386
               ],
               [
                -123.12721252441408,
                49.25696945097193
               ],
               [
                -123.12721252441408,
                49.25709915067896
               ],
               [
                -123.11504364013672,
                49.25687026884301
               ],
               [
                -123.11553192138673,
                49.24527358915546
               ],
               [
                -123.11554718017578,
                49.245193480512874
               ],
               [
                -123.11556243896484,
                49.245109557173045
               ],
               [
                -123.11559295654297,
                49.24502944853046
               ],
               [
                -123.11562347412108,
                49.24494933988788
               ],
               [
                -123.11566162109375,
                49.244873045942576
               ],
               [
                -123.11569976806642,
                49.24479293729999
               ],
               [
                -123.11575317382812,
                49.24472045805192
               ],
               [
                -123.11580657958984,
                49.24464416410664
               ],
               [
                -123.1158676147461,
                49.24457549955586
               ],
               [
                -123.11593627929689,
                49.244503020307796
               ],
               [
                -123.11601257324219,
                49.24443817045429
               ],
               [
                -123.1160888671875,
                49.24437332060078
               ],
               [
                -123.11617279052736,
                49.24431228544453
               ],
               [
                -123.11626434326173,
                49.24425125028827
               ],
               [
                -123.11635589599608,
                49.244197844526546
               ],
               [
                -123.1181411743164,
                49.24317932035663
               ],
               [
                -123.11817932128908,
                49.24314117338396
               ],
               [
                -123.11820983886719,
                49.24309921171403
               ],
               [
                -123.11824035644531,
                49.24305725004412
               ],
               [
                -123.11827087402342,
                49.2430152883742
               ],
               [
                -123.11829376220702,
                49.24297332670427
               ],
               [
                -123.1183090209961,
                49.242927550337086
               ],
               [
                -123.11832427978517,
                49.2428817739699
               ],
               [
                -123.1183395385742,
                49.242835997602725
               ],
               [
                -123.11834716796876,
                49.24279022123552
               ],
               [
                -123.11834716796876,
                49.24274444486833
               ],
               [
                -123.1184310913086,
                49.24092864896989
               ],
               [
                -123.1184310913086,
                49.2408714285109
               ],
               [
                -123.11842346191406,
                49.24081802274919
               ],
               [
                -123.11842346191406,
                49.24076461698748
               ],
               [
                -123.118408203125,
                49.240711211225744
               ],
               [
                -123.11839294433595,
                49.24065780546404
               ],
               [
                -123.11837005615236,
                49.24060439970231
               ],
               [
                -123.11834716796876,
                49.24055099394059
               ],
               [
                -123.11831665039061,
                49.240501402876134
               ],
               [
                -123.1182861328125,
                49.240447997114416
               ],
               [
                -123.11824798583983,
                49.24040222074724
               ],
               [
                -123.11820983886719,
                49.240352629682775
               ],
               [
                -123.1181640625,
                49.2403068533156
               ],
               [
                -123.11811828613281,
                49.24026107694841
               ],
               [
                -123.11631011962892,
                49.2386627187941
               ],
               [
                -123.11625671386719,
                49.23861312772965
               ],
               [
                -123.11621093749999,
                49.23856353666522
               ],
               [
                -123.1161651611328,
                49.23851013090349
               ],
               [
                -123.11612701416016,
                49.238456725141766
               ],
               [
                -123.11609649658202,
                49.238403319380026
               ],
               [
                -123.1160659790039,
                49.23834609892106
               ],
               [
                -123.11603546142578,
                49.238292693159345
               ],
               [
                -123.11602020263672,
                49.23823165800308
               ],
               [
                -123.11600494384767,
                49.23817443754411
               ],
               [
                -123.1159896850586,
                49.23811721708512
               ],
               [
                -123.11598205566408,
                49.238056181928876
               ],
               [
                -123.11598205566408,
                49.23799896146987
               ],
               [
                -123.1159896850586,
                49.23793792631362
               ]
              ]
             ],
             "type": "Polygon"
            },
            "id": "6",
            "properties": {},
            "type": "Feature"
           },
           {
            "bbox": [
             -123.15527343750001,
             49.23390579130386,
             -123.12721252441408,
             49.257915495893805
            ],
            "geometry": {
             "coordinates": [
              [
               [
                -123.15527343750001,
                49.23452377226088
               ],
               [
                -123.15508270263673,
                49.23939895536637
               ],
               [
                -123.15507507324219,
                49.23947524931169
               ],
               [
                -123.15505981445314,
                49.23955535795426
               ],
               [
                -123.15504455566406,
                49.23963165189957
               ],
               [
                -123.15502166748047,
                49.23970794584489
               ],
               [
                -123.1549835205078,
                49.23978423979019
               ],
               [
                -123.15494537353516,
                49.2398605337355
               ],
               [
                -123.1549072265625,
                49.23993301298356
               ],
               [
                -123.15485382080078,
                49.240005492231596
               ],
               [
                -123.15480041503908,
                49.2400741567824
               ],
               [
                -123.15473937988281,
                49.240142821333166
               ],
               [
                -123.15467071533203,
                49.24020767118668
               ],
               [
                -123.15459442138672,
                49.24027252104021
               ],
               [
                -123.15451812744142,
                49.24033355619647
               ],
               [
                -123.15444183349608,
                49.24039077665544
               ],
               [
                -123.15435028076173,
                49.24044418241716
               ],
               [
                -123.15425872802736,
                49.24049758817888
               ],
               [
                -123.15416717529297,
                49.24054336454608
               ],
               [
                -123.15406799316408,
                49.24058914091325
               ],
               [
                -123.15396118164062,
                49.24063110258319
               ],
               [
                -123.15386199951172,
                49.240669249555836
               ],
               [
                -123.15374755859375,
                49.24070358183123
               ],
               [
                -123.15364074707033,
                49.240734099409345
               ],
               [
                -123.15352630615236,
                49.240760802290225
               ],
               [
                -123.15341186523438,
                49.24077987577653
               ],
               [
                -123.15328979492189,
                49.24079894926287
               ],
               [
                -123.1531753540039,
                49.24081420805194
               ],
               [
                -123.15305328369142,
                49.24082183744646
               ],
               [
                -123.15293121337892,
                49.240829466840985
               ],
               [
                -123.15281677246095,
                49.240829466840985
               ],
               [
                -123.15269470214845,
                49.24082565214373
               ],
               [
                -123.15257263183592,
                49.24082183744646
               ],
               [
                -123.15245819091798,
                49.24081039335467
               ],
               [
                -123.15233612060545,
                49.240795134565595
               ],
               [
                -123.15222167968751,
                49.240772246382015
               ],
               [
                -123.15210723876955,
                49.24074935819842
               ],
               [
                -123.15199279785156,
                49.24072265531754
               ],
               [
                -123.1500701904297,
                49.24038696195817
               ],
               [
                -123.14994049072266,
                49.240367888471845
               ],
               [
                -123.14981842041016,
                49.240352629682775
               ],
               [
                -123.14968872070311,
                49.24034500028825
               ],
               [
                -123.1495590209961,
                49.24033737089373
               ],
               [
                -123.14942932128905,
                49.24033355619646
               ],
               [
                -123.14929962158203,
                49.24033737089373
               ],
               [
                -123.14916992187499,
                49.24034500028825
               ],
               [
                -123.14904022216797,
                49.24035644438005
               ],
               [
                -123.14891815185547,
                49.24037170316912
               ],
               [
                -123.14878845214842,
                49.24039077665544
               ],
               [
                -123.14866638183594,
                49.24041366483903
               ],
               [
                -123.14854431152344,
                49.24044418241716
               ],
               [
                -123.14842224121094,
                49.240474699995275
               ],
               [
                -123.14830780029297,
                49.24051284696796
               ],
               [
                -123.148193359375,
                49.24055480863786
               ],
               [
                -123.14808654785158,
                49.24059677030778
               ],
               [
                -123.14797973632812,
                49.24064636137223
               ],
               [
                -123.1478729248047,
                49.24069976713394
               ],
               [
                -123.14778137207033,
                49.24075317289568
               ],
               [
                -123.14768218994142,
                49.24081039335467
               ],
               [
                -123.14759826660156,
                49.2408714285109
               ],
               [
                -123.1475143432617,
                49.240936278364416
               ],
               [
                -123.14743041992188,
                49.24100494291521
               ],
               [
                -123.1473617553711,
                49.241073607465985
               ],
               [
                -123.14729309082031,
                49.24114608671403
               ],
               [
                -123.14723205566405,
                49.24122238065935
               ],
               [
                -123.14717864990234,
                49.241298674604664
               ],
               [
                -123.14712524414062,
                49.24137496854999
               ],
               [
                -123.14708709716795,
                49.24145507719255
               ],
               [
                -123.14704895019533,
                49.24153900053239
               ],
               [
                -123.14701843261717,
                49.241619109174984
               ],
               [
                -123.14699554443358,
                49.24170303251482
               ],
               [
                -123.14698028564453,
                49.24178695585467
               ],
               [
                -123.14697265624999,
                49.241870879194515
               ],
               [
                -123.14696502685547,
                49.24195480253437
               ],
               [
                -123.14694976806642,
                49.2425613393996
               ],
               [
                -123.14694976806642,
                49.24273300077653
               ],
               [
                -123.14697265624999,
                49.242900847456234
               ],
               [
                -123.14700317382812,
                49.243072508833194
               ],
               [
                -123.14704895019533,
                49.243240355512874
               ],
               [
                -123.14710235595703,
                49.24340438749529
               ],
               [
                -123.14717864990234,
                49.243568419477725
               ],
               [
                -123.14726257324219,
                49.24372863676288
               ],
               [
                -123.14736938476562,
                49.24388503935077
               ],
               [
                -123.15238189697264,
                49.250621794721894
               ],
               [
                -123.1524658203125,
                49.25074767973165
               ],
               [
                -123.15254211425781,
                49.2508773794387
               ],
               [
                -123.1526107788086,
                49.251007079145715
               ],
               [
                -123.15266418457031,
                49.25114059355003
               ],
               [
                -123.1527099609375,
                49.25127792265159
               ],
               [
                -123.15274047851561,
                49.25141525175315
               ],
               [
                -123.1527633666992,
                49.25155258085472
               ],
               [
                -123.15277099609375,
                49.25169372465353
               ],
               [
                -123.1527633666992,
                49.25183105375512
               ],
               [
                -123.15259552001952,
                49.25722503568872
               ],
               [
                -123.14598846435547,
                49.25712203886255
               ],
               [
                -123.13842010498047,
                49.257007597944586
               ],
               [
                -123.1383056640625,
                49.25709915067896
               ],
               [
                -123.13819122314453,
                49.257190703413336
               ],
               [
                -123.13806152343751,
                49.25727462675319
               ],
               [
                -123.13793182373047,
                49.25735473539575
               ],
               [
                -123.1377944946289,
                49.25743102934107
               ],
               [
                -123.13764953613281,
                49.25750350858911
               ],
               [
                -123.13750457763672,
                49.257568358442626
               ],
               [
                -123.13735198974611,
                49.25762939359888
               ],
               [
                -123.13719177246094,
                49.2576827993606
               ],
               [
                -123.13702392578126,
                49.25773239042506
               ],
               [
                -123.13685607910158,
                49.257778166792235
               ],
               [
                -123.13668823242186,
                49.25781249906764
               ],
               [
                -123.13651275634766,
                49.25784683134303
               ],
               [
                -123.13633728027345,
                49.257869719526624
               ],
               [
                -123.13616180419922,
                49.25788879301295
               ],
               [
                -123.13597869873045,
                49.257904051802015
               ],
               [
                -123.13565826416016,
                49.257915495893805
               ],
               [
                -123.13533782958983,
                49.257915495893805
               ],
               [
                -123.13500976562499,
                49.257904051802015
               ],
               [
                -123.13468933105469,
                49.2578811636184
               ],
               [
                -123.13436889648436,
                49.25784683134303
               ],
               [
                -123.1340560913086,
                49.257797240278585
               ],
               [
                -123.13374328613281,
                49.25774001981959
               ],
               [
                -123.13343811035156,
                49.25767135526882
               ],
               [
                -123.13313293457031,
                49.25759124662623
               ],
               [
                -123.13284301757812,
                49.25749969389185
               ],
               [
                -123.13256072998047,
                49.25739669706567
               ],
               [
                -123.13228607177734,
                49.257282256147725
               ],
               [
                -123.13201904296875,
                49.25716018583521
               ],
               [
                -123.1317672729492,
                49.257030486128194
               ],
               [
                -123.12721252441408,
                49.25696945097193
               ],
               [
                -123.12804412841797,
                49.23390579130386
               ],
               [
                -123.13959503173827,
                49.234272002241354
               ],
               [
                -123.15527343750001,
                49.23452377226088
               ]
              ]
             ],
             "type": "Polygon"
            },
            "id": "7",
            "properties": {},
            "type": "Feature"
           },
           {
            "bbox": [
             -123.07742309570314,
             49.20420074369628,
             -123.04875183105469,
             49.23286437895032
            ],
            "geometry": {
             "coordinates": [
              [
               [
                -123.0568313598633,
                49.20420074369628
               ],
               [
                -123.05846405029298,
                49.2042198171826
               ],
               [
                -123.05944824218749,
                49.204242705366205
               ],
               [
                -123.06043243408203,
                49.20430374052245
               ],
               [
                -123.06140899658203,
                49.20439529325683
               ],
               [
                -123.0623779296875,
                49.20452499296387
               ],
               [
                -123.06333160400392,
                49.204692839643556
               ],
               [
                -123.0642776489258,
                49.20489501859865
               ],
               [
                -123.06519317626952,
                49.20512771513184
               ],
               [
                -123.0660934448242,
                49.205398558637704
               ],
               [
                -123.06697082519533,
                49.20569991972168
               ],
               [
                -123.06781768798827,
                49.20603179838379
               ],
               [
                -123.06854248046875,
                49.2063407888623
               ],
               [
                -123.0688247680664,
                49.20645522978027
               ],
               [
                -123.06912231445314,
                49.20655822660646
               ],
               [
                -123.06942749023436,
                49.20664977934083
               ],
               [
                -123.06974029541017,
                49.2067298879834
               ],
               [
                -123.07006072998047,
                49.206794737836915
               ],
               [
                -123.07438659667969,
                49.207599638959955
               ],
               [
                -123.07478332519531,
                49.207645415327164
               ],
               [
                -123.07517242431639,
                49.20767593290528
               ],
               [
                -123.07556915283203,
                49.20769500639161
               ],
               [
                -123.07596588134766,
                49.20769500639161
               ],
               [
                -123.07636260986328,
                49.20768356229981
               ],
               [
                -123.07675170898438,
                49.207656859418954
               ],
               [
                -123.0771484375,
                49.207614897749025
               ],
               [
                -123.07701110839844,
                49.21918487455574
               ],
               [
                -123.07742309570314,
                49.21997070219244
               ],
               [
                -123.07703399658203,
                49.232666014692505
               ],
               [
                -123.06674194335938,
                49.23255538847181
               ],
               [
                -123.06444549560548,
                49.23286437895032
               ],
               [
                -123.05885314941406,
                49.23280715849134
               ],
               [
                -123.04875183105469,
                49.23275375272962
               ],
               [
                -123.0488052368164,
                49.229293822309685
               ],
               [
                -123.0500717163086,
                49.229293822309685
               ],
               [
                -123.05055999755858,
                49.21715927030766
               ],
               [
                -123.05063629150392,
                49.216915129682675
               ],
               [
                -123.05073547363281,
                49.216674803754955
               ],
               [
                -123.05085754394531,
                49.216442107221724
               ],
               [
                -123.05099487304688,
                49.21620941068854
               ],
               [
                -123.05115509033205,
                49.21598434354985
               ],
               [
                -123.05133819580077,
                49.21576690580571
               ],
               [
                -123.05153656005861,
                49.21555709745609
               ],
               [
                -123.05175018310547,
                49.21535491850101
               ],
               [
                -123.05437469482422,
                49.21306228544437
               ],
               [
                -123.0544891357422,
                49.2129592886182
               ],
               [
                -123.05459594726562,
                49.21285247709476
               ],
               [
                -123.05469512939452,
                49.21274185087406
               ],
               [
                -123.0547866821289,
                49.212627409956085
               ],
               [
                -123.0548629760742,
                49.21251296903813
               ],
               [
                -123.05493164062499,
                49.212390898725616
               ],
               [
                -123.05499267578125,
                49.212268828413116
               ],
               [
                -123.05503845214844,
                49.212146758100616
               ],
               [
                -123.05507659912108,
                49.21202087309085
               ],
               [
                -123.05509948730467,
                49.2118949880811
               ],
               [
                -123.05545806884767,
                49.20962524320802
               ],
               [
                -123.05572509765625,
                49.209148406049835
               ],
               [
                -123.05604553222655,
                49.20868682768068
               ],
               [
                -123.05641174316406,
                49.20824050810059
               ],
               [
                -123.05649566650389,
                49.20814132597169
               ],
               [
                -123.05656433105467,
                49.20804214384277
               ],
               [
                -123.05663299560547,
                49.20794296171388
               ],
               [
                -123.0566864013672,
                49.207836150190424
               ],
               [
                -123.05673217773436,
                49.207729338666994
               ],
               [
                -123.05677795410155,
                49.20762252714357
               ],
               [
                -123.0568084716797,
                49.207515715620126
               ],
               [
                -123.05682373046874,
                49.20740508939943
               ],
               [
                -123.05683898925781,
                49.20729446317871
               ],
               [
                -123.05684661865233,
                49.20718383695801
               ],
               [
                -123.0568313598633,
                49.20420074369628
               ]
              ]
             ],
             "type": "Polygon"
            },
            "id": "8",
            "properties": {},
            "type": "Feature"
           },
           {
            "bbox": [
             -123.1781005859375,
             49.23452377226088,
             -123.14694976806642,
             49.25776672270045
            ],
            "geometry": {
             "coordinates": [
              [
               [
                -123.15259552001952,
                49.25722503568872
               ],
               [
                -123.16487884521484,
                49.257427214643805
               ],
               [
                -123.16487884521484,
                49.25756835844264
               ],
               [
                -123.17807006835938,
                49.25776672270045
               ],
               [
                -123.1781005859375,
                49.257164000532484
               ],
               [
                -123.17792510986328,
                49.2569389333938
               ],
               [
                -123.17616271972656,
                49.25561141874535
               ],
               [
                -123.17501068115233,
                49.25408172514183
               ],
               [
                -123.17190551757812,
                49.25155258085472
               ],
               [
                -123.1696014404297,
                49.24896240141134
               ],
               [
                -123.17092895507812,
                49.24967193510274
               ],
               [
                -123.17218780517578,
                49.250045775434785
               ],
               [
                -123.17095184326172,
                49.24845886137228
               ],
               [
                -123.17056274414061,
                49.24811935331564
               ],
               [
                -123.17015838623047,
                49.24788284208516
               ],
               [
                -123.17024993896484,
                49.234703063032356
               ],
               [
                -123.15527343750001,
                49.23452377226088
               ],
               [
                -123.15508270263673,
                49.23939895536637
               ],
               [
                -123.15506744384766,
                49.23947906400897
               ],
               [
                -123.15503692626955,
                49.239562987348805
               ],
               [
                -123.15500640869139,
                49.23964309599139
               ],
               [
                -123.15496826171876,
                49.239723204633954
               ],
               [
                -123.15492248535156,
                49.23979949857926
               ],
               [
                -123.15487670898438,
                49.239879607221845
               ],
               [
                -123.15481567382812,
                49.2399520864699
               ],
               [
                -123.15475463867189,
                49.24002456571794
               ],
               [
                -123.1546859741211,
                49.24009704496598
               ],
               [
                -123.15461730957031,
                49.24016570951677
               ],
               [
                -123.15453338623045,
                49.240230559370296
               ],
               [
                -123.15444946289062,
                49.24029159452653
               ],
               [
                -123.15435791015625,
                49.24035262968279
               ],
               [
                -123.15426635742188,
                49.240406035444494
               ],
               [
                -123.15416717529297,
                49.24045944120622
               ],
               [
                -123.15406036376952,
                49.240509032270694
               ],
               [
                -123.15396118164062,
                49.24055480863786
               ],
               [
                -123.15384674072266,
                49.24059677030778
               ],
               [
                -123.15373229980467,
                49.24063491728044
               ],
               [
                -123.15361785888673,
                49.240669249555836
               ],
               [
                -123.1534957885742,
                49.24069976713394
               ],
               [
                -123.15337371826172,
                49.24072647001482
               ],
               [
                -123.15325164794922,
                49.24074935819841
               ],
               [
                -123.15312957763672,
                49.24076461698747
               ],
               [
                -123.15299987792967,
                49.240776061079266
               ],
               [
                -123.15287780761719,
                49.240787505171056
               ],
               [
                -123.15274810791016,
                49.240791319868336
               ],
               [
                -123.15261840820311,
                49.240791319868336
               ],
               [
                -123.15249633789062,
                49.240783690473805
               ],
               [
                -123.15236663818361,
                49.24077606107926
               ],
               [
                -123.15223693847656,
                49.24076080229022
               ],
               [
                -123.15211486816406,
                49.24074554350114
               ],
               [
                -123.15199279785156,
                49.24072265531754
               ],
               [
                -123.1500701904297,
                49.24038696195817
               ],
               [
                -123.14994049072266,
                49.240367888471845
               ],
               [
                -123.14981842041016,
                49.240352629682775
               ],
               [
                -123.14968872070311,
                49.24034118559099
               ],
               [
                -123.1495590209961,
                49.24033737089373
               ],
               [
                -123.14942932128905,
                49.24033355619646
               ],
               [
                -123.14929962158203,
                49.24033737089373
               ],
               [
                -123.14916992187499,
                49.24034118559099
               ],
               [
                -123.14904022216797,
                49.24035262968279
               ],
               [
                -123.14891815185547,
                49.24036788847185
               ],
               [
                -123.14878845214842,
                49.24039077665544
               ],
               [
                -123.14866638183594,
                49.24041366483903
               ],
               [
                -123.14854431152344,
                49.2404403677199
               ],
               [
                -123.14842224121094,
                49.240474699995275
               ],
               [
                -123.14830780029297,
                49.24051284696796
               ],
               [
                -123.148193359375,
                49.24055099394059
               ],
               [
                -123.14808654785158,
                49.24059677030778
               ],
               [
                -123.14797973632812,
                49.24064636137223
               ],
               [
                -123.1478729248047,
                49.240695952436695
               ],
               [
                -123.14777374267577,
                49.24075317289568
               ],
               [
                -123.14768218994142,
                49.24081039335467
               ],
               [
                -123.14759063720705,
                49.24087142851091
               ],
               [
                -123.14750671386719,
                49.240936278364416
               ],
               [
                -123.14743041992188,
                49.24100494291521
               ],
               [
                -123.1473617553711,
                49.241073607465985
               ],
               [
                -123.14729309082031,
                49.24114608671403
               ],
               [
                -123.14723205566405,
                49.24122238065935
               ],
               [
                -123.14717864990234,
                49.241298674604664
               ],
               [
                -123.14712524414062,
                49.24137496854999
               ],
               [
                -123.14708709716795,
                49.24145507719255
               ],
               [
                -123.14704895019533,
                49.24153900053239
               ],
               [
                -123.14701843261717,
                49.241619109174984
               ],
               [
                -123.14699554443358,
                49.24170303251482
               ],
               [
                -123.14698028564453,
                49.24178695585467
               ],
               [
                -123.14697265624999,
                49.241870879194515
               ],
               [
                -123.14696502685547,
                49.24195480253437
               ],
               [
                -123.14694976806642,
                49.2425613393996
               ],
               [
                -123.14694976806642,
                49.24273300077653
               ],
               [
                -123.14697265624999,
                49.242900847456234
               ],
               [
                -123.14700317382812,
                49.243072508833194
               ],
               [
                -123.14704895019533,
                49.243240355512874
               ],
               [
                -123.14710235595703,
                49.24340438749529
               ],
               [
                -123.14717864990234,
                49.243568419477725
               ],
               [
                -123.14726257324219,
                49.24372863676288
               ],
               [
                -123.14736938476562,
                49.24388503935077
               ],
               [
                -123.15238189697264,
                49.250621794721894
               ],
               [
                -123.1524658203125,
                49.25074767973165
               ],
               [
                -123.15254211425781,
                49.2508773794387
               ],
               [
                -123.1526107788086,
                49.251007079145715
               ],
               [
                -123.15266418457031,
                49.25114059355003
               ],
               [
                -123.1527099609375,
                49.25127792265159
               ],
               [
                -123.15274047851561,
                49.25141525175315
               ],
               [
                -123.1527633666992,
                49.25155258085472
               ],
               [
                -123.15277099609375,
                49.25169372465353
               ],
               [
                -123.1527633666992,
                49.25183105375512
               ],
               [
                -123.15259552001952,
                49.25722503568872
               ]
              ]
             ],
             "type": "Polygon"
            },
            "id": "9",
            "properties": {},
            "type": "Feature"
           },
           {
            "bbox": [
             -123.07746887207033,
             49.26217651273953,
             -123.05648803710938,
             49.29348754789594
            ],
            "geometry": {
             "coordinates": [
              [
               [
                -123.07701873779298,
                49.29024886991739
               ],
               [
                -123.06777954101562,
                49.290103911421305
               ],
               [
                -123.06262207031251,
                49.289535521528734
               ],
               [
                -123.06242370605469,
                49.290874480268954
               ],
               [
                -123.05648803710938,
                49.29348754789594
               ],
               [
                -123.05658721923827,
                49.26217651273953
               ],
               [
                -123.07746887207033,
                49.262336730024685
               ],
               [
                -123.07741546630858,
                49.26514053251494
               ],
               [
                -123.07701873779298,
                49.29024886991739
               ]
              ]
             ],
             "type": "Polygon"
            },
            "id": "10",
            "properties": {},
            "type": "Feature"
           },
           {
            "bbox": [
             -123.09053802490233,
             49.23255538847181,
             -123.05658721923827,
             49.262336730024685
            ],
            "geometry": {
             "coordinates": [
              [
               [
                -123.05658721923827,
                49.26198196317898
               ],
               [
                -123.05662536621094,
                49.24317550565935
               ],
               [
                -123.05811309814453,
                49.24182891752458
               ],
               [
                -123.05819702148436,
                49.24175262357927
               ],
               [
                -123.0582733154297,
                49.241672514936695
               ],
               [
                -123.05834197998048,
                49.241588591596845
               ],
               [
                -123.05841064453124,
                49.24150466825701
               ],
               [
                -123.0584716796875,
                49.2414169302199
               ],
               [
                -123.05851745605469,
                49.24132537748552
               ],
               [
                -123.05856323242188,
                49.24123763944841
               ],
               [
                -123.05860137939455,
                49.24114227201677
               ],
               [
                -123.05862426757811,
                49.241050719282406
               ],
               [
                -123.0586471557617,
                49.24095535185075
               ],
               [
                -123.05866241455078,
                49.24085998441911
               ],
               [
                -123.0586700439453,
                49.24076461698748
               ],
               [
                -123.05885314941406,
                49.23280715849134
               ],
               [
                -123.06444549560548,
                49.23286437895032
               ],
               [
                -123.06674194335938,
                49.23255538847181
               ],
               [
                -123.07703399658203,
                49.232666014692505
               ],
               [
                -123.09053802490233,
                49.23282241728041
               ],
               [
                -123.08984375,
                49.25637817289576
               ],
               [
                -123.07779693603514,
                49.25619888212427
               ],
               [
                -123.07778930664062,
                49.256633757612555
               ],
               [
                -123.07758331298827,
                49.256626128218016
               ],
               [
                -123.07746887207033,
                49.262336730024685
               ],
               [
                -123.05658721923827,
                49.26217651273953
               ],
               [
                -123.05658721923827,
                49.26198196317898
               ]
              ]
             ],
             "type": "Polygon"
            },
            "id": "11",
            "properties": {},
            "type": "Feature"
           },
           {
            "bbox": [
             -123.05684661865233,
             49.20014572050289,
             -123.02326202392578,
             49.23410415556167
            ],
            "geometry": {
             "coordinates": [
              [
               [
                -123.02355957031249,
                49.20014572050289
               ],
               [
                -123.03997802734375,
                49.203960417768535
               ],
               [
                -123.04232025146484,
                49.20400237943846
               ],
               [
                -123.0568313598633,
                49.20420074369628
               ],
               [
                -123.05684661865233,
                49.20718383695801
               ],
               [
                -123.05683898925781,
                49.20729446317871
               ],
               [
                -123.05682373046874,
                49.20740508939943
               ],
               [
                -123.0568084716797,
                49.207515715620126
               ],
               [
                -123.05677795410155,
                49.20762252714357
               ],
               [
                -123.05673217773436,
                49.207729338666994
               ],
               [
                -123.0566864013672,
                49.207836150190424
               ],
               [
                -123.05663299560547,
                49.20794296171388
               ],
               [
                -123.05656433105467,
                49.20804214384277
               ],
               [
                -123.05649566650389,
                49.20814132597169
               ],
               [
                -123.05641174316406,
                49.20824050810059
               ],
               [
                -123.05604553222655,
                49.20868682768068
               ],
               [
                -123.05572509765625,
                49.209148406049835
               ],
               [
                -123.05545806884767,
                49.20962524320802
               ],
               [
                -123.05509948730467,
                49.2118949880811
               ],
               [
                -123.05507659912108,
                49.21202087309085
               ],
               [
                -123.05503845214844,
                49.212146758100616
               ],
               [
                -123.05499267578125,
                49.212268828413116
               ],
               [
                -123.05493164062499,
                49.212390898725616
               ],
               [
                -123.0548629760742,
                49.21251296903813
               ],
               [
                -123.0547866821289,
                49.212627409956085
               ],
               [
                -123.05469512939452,
                49.21274185087406
               ],
               [
                -123.05459594726562,
                49.21285247709476
               ],
               [
                -123.0544891357422,
                49.2129592886182
               ],
               [
                -123.05437469482422,
                49.21306228544437
               ],
               [
                -123.05175018310547,
                49.21535491850101
               ],
               [
                -123.05153656005861,
                49.21555709745609
               ],
               [
                -123.05133819580077,
                49.21576690580571
               ],
               [
                -123.05115509033205,
                49.21598434354985
               ],
               [
                -123.05099487304688,
                49.21620941068854
               ],
               [
                -123.05085754394531,
                49.216442107221724
               ],
               [
                -123.05073547363281,
                49.216674803754955
               ],
               [
                -123.05063629150392,
                49.216915129682675
               ],
               [
                -123.05055999755858,
                49.21715927030766
               ],
               [
                -123.0500717163086,
                49.229293822309685
               ],
               [
                -123.0488052368164,
                49.229293822309685
               ],
               [
                -123.04875183105469,
                49.23275375272962
               ],
               [
                -123.0467071533203,
                49.23288726713391
               ],
               [
                -123.03839874267578,
                49.232872008344856
               ],
               [
                -123.0383071899414,
                49.232860564253045
               ],
               [
                -123.03821563720703,
                49.23285293485854
               ],
               [
                -123.03811645507812,
                49.232845305464
               ],
               [
                -123.03802490234375,
                49.23284530546399
               ],
               [
                -123.03792572021484,
                49.23284530546398
               ],
               [
                -123.03783416748047,
                49.23284912016127
               ],
               [
                -123.0377426147461,
                49.232856749555786
               ],
               [
                -123.0376510620117,
                49.23286819364759
               ],
               [
                -123.03755950927733,
                49.23288345243665
               ],
               [
                -123.03746795654298,
                49.23289871122571
               ],
               [
                -123.0373764038086,
                49.232921599409316
               ],
               [
                -123.03728485107422,
                49.2329444875929
               ],
               [
                -123.03720092773436,
                49.23297119047376
               ],
               [
                -123.03711700439453,
                49.23299789335462
               ],
               [
                -123.03704071044923,
                49.23303222563003
               ],
               [
                -123.03695678710938,
                49.2330665579054
               ],
               [
                -123.0368881225586,
                49.233104704878066
               ],
               [
                -123.03681182861328,
                49.23314285185071
               ],
               [
                -123.0367431640625,
                49.23318481352066
               ],
               [
                -123.03667449951172,
                49.233230589887825
               ],
               [
                -123.03661346435545,
                49.23327636625501
               ],
               [
                -123.03656005859375,
                49.23332595731947
               ],
               [
                -123.03650665283203,
                49.23337936308118
               ],
               [
                -123.03645324707033,
                49.23342895414565
               ],
               [
                -123.03585815429689,
                49.23410415556167
               ],
               [
                -123.03250885009766,
                49.23235320951673
               ],
               [
                -123.03236389160158,
                49.23228454496595
               ],
               [
                -123.03221130371094,
                49.2322235098097
               ],
               [
                -123.03205871582031,
                49.232166289350715
               ],
               [
                -123.03189849853516,
                49.23211669828626
               ],
               [
                -123.03173065185547,
                49.232070921919075
               ],
               [
                -123.03156280517578,
                49.232028960249146
               ],
               [
                -123.0313949584961,
                49.23199844267102
               ],
               [
                -123.03122711181642,
                49.231971739790175
               ],
               [
                -123.03105163574219,
                49.23194885160657
               ],
               [
                -123.03086853027342,
                49.231937407514785
               ],
               [
                -123.03069305419922,
                49.23192977812023
               ],
               [
                -123.03051757812501,
                49.23192977812023
               ],
               [
                -123.03034210205078,
                49.231933592817505
               ],
               [
                -123.02356719970705,
                49.23226928617689
               ],
               [
                -123.02326202392578,
                49.20940780546388
               ],
               [
                -123.02355957031249,
                49.20014572050289
               ]
              ]
             ],
             "type": "Polygon"
            },
            "id": "12",
            "properties": {},
            "type": "Feature"
           },
           {
            "bbox": [
             -123.18593597412111,
             49.25712203886255,
             -123.13768005371092,
             49.280315398237654
            ],
            "geometry": {
             "coordinates": [
              [
               [
                -123.13768005371092,
                49.27531814481966
               ],
               [
                -123.14374542236328,
                49.27323150541536
               ],
               [
                -123.14389801025389,
                49.273178099653656
               ],
               [
                -123.14404296875001,
                49.27311706449739
               ],
               [
                -123.14418792724611,
                49.273052214643876
               ],
               [
                -123.14432525634767,
                49.272983550093095
               ],
               [
                -123.14445495605469,
                49.27291107084505
               ],
               [
                -123.1445846557617,
                49.27283096220247
               ],
               [
                -123.14469909667967,
                49.27274703886264
               ],
               [
                -123.14481353759766,
                49.27265930082552
               ],
               [
                -123.14491271972655,
                49.27256774809115
               ],
               [
                -123.14500427246094,
                49.272472380659494
               ],
               [
                -123.14509582519531,
                49.27237319853059
               ],
               [
                -123.14517211914061,
                49.27227401640169
               ],
               [
                -123.1452407836914,
                49.27217101957552
               ],
               [
                -123.14530181884766,
                49.272064208052086
               ],
               [
                -123.14535522460938,
                49.27195739652865
               ],
               [
                -123.14540100097656,
                49.271846770307945
               ],
               [
                -123.14598846435547,
                49.25712203886255
               ],
               [
                -123.16487884521484,
                49.25741958524926
               ],
               [
                -123.16487884521484,
                49.25756835844264
               ],
               [
                -123.18399047851561,
                49.257865904829366
               ],
               [
                -123.18392944335939,
                49.25976562406764
               ],
               [
                -123.18593597412111,
                49.26113891508327
               ],
               [
                -123.18548583984376,
                49.2749710073685
               ],
               [
                -123.17374420166016,
                49.274341582319664
               ],
               [
                -123.16479492187499,
                49.27556610014193
               ],
               [
                -123.15970611572266,
                49.27554702665561
               ],
               [
                -123.15265655517578,
                49.28030776884313
               ],
               [
                -123.14600372314455,
                49.280315398237654
               ],
               [
                -123.14358520507812,
                49.279666899702505
               ],
               [
                -123.1412582397461,
                49.27829360868688
               ],
               [
                -123.13768005371092,
                49.27531814481966
               ]
              ]
             ],
             "type": "Polygon"
            },
            "id": "13",
            "properties": {},
            "type": "Feature"
           },
           {
            "bbox": [
             -123.10066986083984,
             49.26514053251494,
             -123.07701873779298,
             49.29051589872601
            ],
            "geometry": {
             "coordinates": [
              [
               [
                -123.0992889404297,
                49.289272307417406
               ],
               [
                -123.09390258789064,
                49.29051589872601
               ],
               [
                -123.07701873779298,
                49.29024886991739
               ],
               [
                -123.07741546630858,
                49.26514053251494
               ],
               [
                -123.08094787597656,
                49.265155791304
               ],
               [
                -123.08120727539064,
                49.265171050093066
               ],
               [
                -123.08145904541014,
                49.265193938276646
               ],
               [
                -123.08171081542969,
                49.26522445585478
               ],
               [
                -123.08196258544923,
                49.26527023222196
               ],
               [
                -123.08874511718751,
                49.26657867338409
               ],
               [
                -123.08895111083984,
                49.266624449751276
               ],
               [
                -123.08915710449219,
                49.26665878202664
               ],
               [
                -123.08936309814455,
                49.2666892996048
               ],
               [
                -123.08956909179686,
                49.26670837309112
               ],
               [
                -123.08978271484374,
                49.26672363188019
               ],
               [
                -123.08999633789061,
                49.26672744657744
               ],
               [
                -123.09612274169923,
                49.266769408247356
               ],
               [
                -123.09619903564453,
                49.2667770376419
               ],
               [
                -123.09628295898436,
                49.266788481733705
               ],
               [
                -123.0963592529297,
                49.266803740522754
               ],
               [
                -123.096435546875,
                49.266818999311816
               ],
               [
                -123.09651184082031,
                49.26683807279815
               ],
               [
                -123.09658813476561,
                49.26686096098174
               ],
               [
                -123.0966567993164,
                49.266883849165325
               ],
               [
                -123.09672546386719,
                49.266910552046184
               ],
               [
                -123.09679412841797,
                49.266941069624316
               ],
               [
                -123.09686279296875,
                49.26697158720244
               ],
               [
                -123.09692382812501,
                49.26700591947784
               ],
               [
                -123.10066986083984,
                49.269130705854806
               ],
               [
                -123.10060119628906,
                49.270889281294274
               ],
               [
                -123.10003662109375,
                49.271923064253244
               ],
               [
                -123.09999847412111,
                49.272750853559906
               ],
               [
                -123.0992889404297,
                49.289272307417406
               ]
              ]
             ],
             "type": "Polygon"
            },
            "id": "14",
            "properties": {},
            "type": "Feature"
           },
           {
            "bbox": [
             -123.10696411132812,
             49.204071043989245,
             -123.07701110839844,
             49.23311614896985
            ],
            "geometry": {
             "coordinates": [
              [
               [
                -123.10696411132812,
                49.20415878202636
               ],
               [
                -123.10616302490233,
                49.21887588407721
               ],
               [
                -123.10562133789061,
                49.23311614896985
               ],
               [
                -123.09053802490233,
                49.23282241728041
               ],
               [
                -123.07703399658203,
                49.232666014692505
               ],
               [
                -123.07742309570314,
                49.21997070219244
               ],
               [
                -123.07701110839844,
                49.21918487455574
               ],
               [
                -123.0771484375,
                49.207614897749025
               ],
               [
                -123.07750701904297,
                49.20756149198732
               ],
               [
                -123.07786560058592,
                49.2074966421338
               ],
               [
                -123.07821655273438,
                49.207420348188485
               ],
               [
                -123.07855987548828,
                49.20733261015138
               ],
               [
                -123.07889556884766,
                49.20723342802246
               ],
               [
                -123.0792236328125,
                49.20712280180177
               ],
               [
                -123.0799560546875,
                49.206874846479494
               ],
               [
                -123.08071899414062,
                49.206661223432626
               ],
               [
                -123.08149719238281,
                49.206478117963876
               ],
               [
                -123.08839416503908,
                49.204776762983386
               ],
               [
                -123.08956146240234,
                49.204444884321276
               ],
               [
                -123.08972930908203,
                49.204383849165026
               ],
               [
                -123.0898971557617,
                49.204326628706035
               ],
               [
                -123.09007263183595,
                49.2042770376416
               ],
               [
                -123.09024810791016,
                49.20423507597168
               ],
               [
                -123.0904312133789,
                49.20419692899901
               ],
               [
                -123.09061431884767,
                49.20416641142089
               ],
               [
                -123.09079742431639,
                49.20414352323731
               ],
               [
                -123.09098815917967,
                49.204124449750964
               ],
               [
                -123.09117126464844,
                49.20411682035643
               ],
               [
                -123.09136199951172,
                49.204113005659174
               ],
               [
                -123.10379028320312,
                49.20408248808105
               ],
               [
                -123.10507202148438,
                49.204071043989245
               ],
               [
                -123.10635375976561,
                49.2041206350537
               ],
               [
                -123.10696411132812,
                49.20415878202636
               ]
              ]
             ],
             "type": "Polygon"
            },
            "id": "15",
            "properties": {},
            "type": "Feature"
           },
           {
            "bbox": [
             -123.22484588623045,
             49.257865904829366,
             -123.18392944335939,
             49.2789230337357
            ],
            "geometry": {
             "coordinates": [
              [
               [
                -123.22444915771486,
                49.2789230337357
               ],
               [
                -123.2051544189453,
                49.27805709745641
               ],
               [
                -123.18941497802734,
                49.27521514799351
               ],
               [
                -123.18548583984376,
                49.2749710073685
               ],
               [
                -123.18550109863281,
                49.27325439359895
               ],
               [
                -123.18594360351562,
                49.26113891508327
               ],
               [
                -123.18392944335939,
                49.25976562406764
               ],
               [
                -123.18399047851561,
                49.257865904829366
               ],
               [
                -123.20321655273439,
                49.258148192427015
               ],
               [
                -123.21538543701172,
                49.25833129789575
               ],
               [
                -123.21508789062501,
                49.26735687162627
               ],
               [
                -123.21713256835938,
                49.2673339834427
               ],
               [
                -123.2183837890625,
                49.26725006010284
               ],
               [
                -123.21961975097655,
                49.267108916304004
               ],
               [
                -123.21962738037111,
                49.26882934477082
               ],
               [
                -123.22189331054689,
                49.26853942777862
               ],
               [
                -123.22174835205077,
                49.27025985624544
               ],
               [
                -123.22431945800781,
                49.272266387007164
               ],
               [
                -123.22484588623045,
                49.274654387495445
               ],
               [
                -123.22457122802734,
                49.27789688017126
               ],
               [
                -123.22444915771486,
                49.2789230337357
               ]
              ]
             ],
             "type": "Polygon"
            },
            "id": "16",
            "properties": {},
            "type": "Feature"
           },
           {
            "bbox": [
             -123.2219467163086,
             49.21555709745609,
             -123.1696014404297,
             49.258148192427015
            ],
            "geometry": {
             "coordinates": [
              [
               [
                -123.17016601562501,
                49.24789047147971
               ],
               [
                -123.17024993896484,
                49.234703063032356
               ],
               [
                -123.17870330810548,
                49.234722136518705
               ],
               [
                -123.17909240722656,
                49.21680450346197
               ],
               [
                -123.17908477783203,
                49.21555709745609
               ],
               [
                -123.17910003662108,
                49.21555709745609
               ],
               [
                -123.17975616455078,
                49.21558761503423
               ],
               [
                -123.18041229248047,
                49.21563720609868
               ],
               [
                -123.18106079101561,
                49.215713500044004
               ],
               [
                -123.18170166015624,
                49.215812682172896
               ],
               [
                -123.18232727050781,
                49.2159347524854
               ],
               [
                -123.18295288085936,
                49.2160797109815
               ],
               [
                -123.18355560302734,
                49.216247557661184
               ],
               [
                -123.18415069580078,
                49.21643447782719
               ],
               [
                -123.18472290039062,
                49.216644286176795
               ],
               [
                -123.1852798461914,
                49.216873168012754
               ],
               [
                -123.18581390380858,
                49.21712112333501
               ],
               [
                -123.1863327026367,
                49.21739196684088
               ],
               [
                -123.18682098388672,
                49.2176780691358
               ],
               [
                -123.18728637695314,
                49.21797943021979
               ],
               [
                -123.18772888183592,
                49.21829986479009
               ],
               [
                -123.18795013427734,
                49.218463896772526
               ],
               [
                -123.18818664550781,
                49.218616484663144
               ],
               [
                -123.18843841552733,
                49.218761443159245
               ],
               [
                -123.18869781494139,
                49.2188987722608
               ],
               [
                -123.18896484375001,
                49.219024657270566
               ],
               [
                -123.18924713134767,
                49.219142912885786
               ],
               [
                -123.18953704833984,
                49.21924972440924
               ],
               [
                -123.18983459472655,
                49.219348906538166
               ],
               [
                -123.19014739990236,
                49.21943282987801
               ],
               [
                -123.19046020507812,
                49.21950912382332
               ],
               [
                -123.1907730102539,
                49.219573973676816
               ],
               [
                -123.19110107421875,
                49.21962356474128
               ],
               [
                -123.1975860595703,
                49.22055435087409
               ],
               [
                -123.19785308837892,
                49.22060012724128
               ],
               [
                -123.19811248779298,
                49.220653533002995
               ],
               [
                -123.1983642578125,
                49.22071838285651
               ],
               [
                -123.19861602783203,
                49.22079086210457
               ],
               [
                -123.1988525390625,
                49.220874785444394
               ],
               [
                -123.19908905029297,
                49.22096633817878
               ],
               [
                -123.19931793212892,
                49.22106170561042
               ],
               [
                -123.1995315551758,
                49.22116851713387
               ],
               [
                -123.19974517822267,
                49.221282958051845
               ],
               [
                -123.19994354248047,
                49.22140502836434
               ],
               [
                -123.20550537109374,
                49.224994658491305
               ],
               [
                -123.20590972900389,
                49.225299834272555
               ],
               [
                -123.20629119873048,
                49.225616454145595
               ],
               [
                -123.20664215087889,
                49.225944518110445
               ],
               [
                -123.20697021484374,
                49.22628784086436
               ],
               [
                -123.20726776123047,
                49.2266387930128
               ],
               [
                -123.20754241943358,
                49.22700118925303
               ],
               [
                -123.20888519287108,
                49.22894668485851
               ],
               [
                -123.20916748046875,
                49.2292594900343
               ],
               [
                -123.20948028564452,
                49.22956085111828
               ],
               [
                -123.20982360839844,
                49.22984695341319
               ],
               [
                -123.2101821899414,
                49.230121611616326
               ],
               [
                -123.21057128906251,
                49.23038101103039
               ],
               [
                -123.21098327636719,
                49.230625151655396
               ],
               [
                -123.21141815185545,
                49.23085403349131
               ],
               [
                -123.21985626220702,
                49.235023497602675
               ],
               [
                -123.2219467163086,
                49.23657607938979
               ],
               [
                -123.21992492675781,
                49.23954772855973
               ],
               [
                -123.2085952758789,
                49.235183714887846
               ],
               [
                -123.20560455322267,
                49.23720168974136
               ],
               [
                -123.1968307495117,
                49.23485565092299
               ],
               [
                -123.1968536376953,
                49.23651504423354
               ],
               [
                -123.19857025146484,
                49.236518858930815
               ],
               [
                -123.19857025146484,
                49.23834609892106
               ],
               [
                -123.1968536376953,
                49.23847961332534
               ],
               [
                -123.19678497314452,
                49.246196745893755
               ],
               [
                -123.19854736328125,
                49.246208189985545
               ],
               [
                -123.19858551025392,
                49.246208189985545
               ],
               [
                -123.19863128662111,
                49.246208189985545
               ],
               [
                -123.1986770629883,
                49.2462120046828
               ],
               [
                -123.19871520996094,
                49.246215819380076
               ],
               [
                -123.19876098632812,
                49.24622344877462
               ],
               [
                -123.1987991333008,
                49.24623107816914
               ],
               [
                -123.19884490966798,
                49.24623870756366
               ],
               [
                -123.19888305664062,
                49.246246336958194
               ],
               [
                -123.19892120361328,
                49.24625778105002
               ],
               [
                -123.19895935058592,
                49.24627303983906
               ],
               [
                -123.1989974975586,
                49.246288298628116
               ],
               [
                -123.19903564453126,
                49.24629974271992
               ],
               [
                -123.19906616210938,
                49.246318816206255
               ],
               [
                -123.20494079589842,
                49.24926376249533
               ],
               [
                -123.2009963989258,
                49.249973296186745
               ],
               [
                -123.20079040527344,
                49.25001144315941
               ],
               [
                -123.20057678222656,
                49.25003814604025
               ],
               [
                -123.20036315917969,
                49.25005721952656
               ],
               [
                -123.20014190673827,
                49.25006866361837
               ],
               [
                -123.19992828369139,
                49.25007247831563
               ],
               [
                -123.1986770629883,
                49.25007629301293
               ],
               [
                -123.1986770629883,
                49.249923705122285
               ],
               [
                -123.19660949707031,
                49.24992751981954
               ],
               [
                -123.19654846191405,
                49.25651931669457
               ],
               [
                -123.20288085937499,
                49.25661468412623
               ],
               [
                -123.20321655273439,
                49.258148192427015
               ],
               [
                -123.18399047851561,
                49.257865904829366
               ],
               [
                -123.17807006835938,
                49.25776672270045
               ],
               [
                -123.1781005859375,
                49.257164000532484
               ],
               [
                -123.17792510986328,
                49.2569389333938
               ],
               [
                -123.17616271972656,
                49.25561141874535
               ],
               [
                -123.17501068115233,
                49.25408172514183
               ],
               [
                -123.17347717285158,
                49.252849577925026
               ],
               [
                -123.1718978881836,
                49.25154495146018
               ],
               [
                -123.1696014404297,
                49.24896240141134
               ],
               [
                -123.17092895507812,
                49.24967193510274
               ],
               [
                -123.17218780517578,
                49.250045775434785
               ],
               [
                -123.17095184326172,
                49.24844741728048
               ],
               [
                -123.17051696777342,
                49.248092650434785
               ],
               [
                -123.17016601562501,
                49.24789047147971
               ]
              ]
             ],
             "type": "Polygon"
            },
            "id": "17",
            "properties": {},
            "type": "Feature"
           },
           {
            "bbox": [
             -123.14598846435547,
             49.25687026884301,
             -123.11444854736328,
             49.27531814481966
            ],
            "geometry": {
             "coordinates": [
              [
               [
                -123.14598846435547,
                49.25712203886255
               ],
               [
                -123.14540100097656,
                49.271846770307945
               ],
               [
                -123.14534759521484,
                49.2719612112259
               ],
               [
                -123.1452865600586,
                49.272075652143904
               ],
               [
                -123.14521789550781,
                49.27218627836458
               ],
               [
                -123.1451416015625,
                49.27229690458529
               ],
               [
                -123.14505004882812,
                49.27239990141145
               ],
               [
                -123.14495086669922,
                49.272502898237626
               ],
               [
                -123.14484405517577,
                49.27260208036652
               ],
               [
                -123.14473724365234,
                49.27269744779819
               ],
               [
                -123.14461517333984,
                49.27278900053254
               ],
               [
                -123.1444854736328,
                49.2728729238724
               ],
               [
                -123.14434814453124,
                49.27295684721224
               ],
               [
                -123.1442108154297,
                49.27303314115756
               ],
               [
                -123.14405822753906,
                49.27310562040561
               ],
               [
                -123.14390563964844,
                49.27317047025911
               ],
               [
                -123.14374542236328,
                49.27323150541536
               ],
               [
                -123.1392822265625,
                49.274826048872406
               ],
               [
                -123.13768005371092,
                49.27531814481966
               ],
               [
                -123.12928009033203,
                49.2695312490677
               ],
               [
                -123.12116241455078,
                49.26953887846223
               ],
               [
                -123.11444854736328,
                49.2717742910599
               ],
               [
                -123.11504364013672,
                49.25687026884301
               ],
               [
                -123.12721252441408,
                49.25709915067896
               ],
               [
                -123.12721252441408,
                49.25696945097193
               ],
               [
                -123.1317672729492,
                49.257030486128194
               ],
               [
                -123.13200378417967,
                49.25715255644068
               ],
               [
                -123.1322479248047,
                49.257266997358656
               ],
               [
                -123.1324996948242,
                49.257373808882086
               ],
               [
                -123.13276672363283,
                49.25747299101099
               ],
               [
                -123.1330337524414,
                49.25756072904809
               ],
               [
                -123.13331604003906,
                49.25764083769068
               ],
               [
                -123.13359832763672,
                49.25770950224146
               ],
               [
                -123.1338882446289,
                49.257770537397704
               ],
               [
                -123.13417816162108,
                49.257820128462164
               ],
               [
                -123.13447570800781,
                49.25785827543482
               ],
               [
                -123.13478088378906,
                49.25788497831567
               ],
               [
                -123.13507843017577,
                49.25790405180202
               ],
               [
                -123.13538360595702,
                49.25791168119654
               ],
               [
                -123.13568878173828,
                49.25790786649928
               ],
               [
                -123.135986328125,
                49.25789642240748
               ],
               [
                -123.13616943359376,
                49.25788497831567
               ],
               [
                -123.13634490966797,
                49.25786590482936
               ],
               [
                -123.13652038574217,
                49.257839201948514
               ],
               [
                -123.1366958618164,
                49.257808684370374
               ],
               [
                -123.1368637084961,
                49.25777435209498
               ],
               [
                -123.13703155517578,
                49.2577285757278
               ],
               [
                -123.13719177246094,
                49.2576827993606
               ],
               [
                -123.13735198974611,
                49.25762557890161
               ],
               [
                -123.13750457763672,
                49.257568358442626
               ],
               [
                -123.13765716552733,
                49.25749969389185
               ],
               [
                -123.13780212402345,
                49.25743102934108
               ],
               [
                -123.13793945312499,
                49.25735473539575
               ],
               [
                -123.13806915283203,
                49.25727462675318
               ],
               [
                -123.13819122314453,
                49.257190703413336
               ],
               [
                -123.1383056640625,
                49.25709915067896
               ],
               [
                -123.13842010498047,
                49.257007597944586
               ],
               [
                -123.14598846435547,
                49.25712203886255
               ]
              ]
             ],
             "type": "Polygon"
            },
            "id": "18",
            "properties": {},
            "type": "Feature"
           },
           {
            "bbox": [
             -123.11504364013672,
             49.25619888212427,
             -123.07741546630858,
             49.27297210600129
            ],
            "geometry": {
             "coordinates": [
              [
               [
                -123.10066986083984,
                49.269130705854806
               ],
               [
                -123.09692382812501,
                49.26700591947784
               ],
               [
                -123.09688568115234,
                49.266975401899714
               ],
               [
                -123.09683990478516,
                49.26694869901886
               ],
               [
                -123.09679412841797,
                49.26692581083526
               ],
               [
                -123.09674072265625,
                49.26689910795439
               ],
               [
                -123.09669494628906,
                49.26688003446808
               ],
               [
                -123.09664154052736,
                49.26685714628449
               ],
               [
                -123.09658813476561,
                49.2668418874954
               ],
               [
                -123.0965347290039,
                49.266826628706355
               ],
               [
                -123.09647369384764,
                49.266811369917285
               ],
               [
                -123.09642028808594,
                49.26679992582549
               ],
               [
                -123.0963592529297,
                49.26678848173369
               ],
               [
                -123.09629821777344,
                49.26678085233917
               ],
               [
                -123.09623718261717,
                49.26677322294464
               ],
               [
                -123.09618377685547,
                49.26677322294464
               ],
               [
                -123.09612274169923,
                49.266769408247356
               ],
               [
                -123.08999633789061,
                49.26672744657744
               ],
               [
                -123.08967590332031,
                49.26670837309112
               ],
               [
                -123.08936309814455,
                49.26667404081573
               ],
               [
                -123.08905792236328,
                49.2666320791458
               ],
               [
                -123.08874511718751,
                49.26657867338409
               ],
               [
                -123.08196258544923,
                49.26527023222196
               ],
               [
                -123.08179473876955,
                49.26523589994658
               ],
               [
                -123.08162689208983,
                49.265209197065715
               ],
               [
                -123.08145904541014,
                49.26518630888213
               ],
               [
                -123.08129119873047,
                49.265171050093066
               ],
               [
                -123.08111572265625,
                49.26515960600126
               ],
               [
                -123.08094787597656,
                49.265155791304
               ],
               [
                -123.07741546630858,
                49.26514053251494
               ],
               [
                -123.07758331298827,
                49.256626128218016
               ],
               [
                -123.07778930664062,
                49.256633757612555
               ],
               [
                -123.07779693603514,
                49.25619888212427
               ],
               [
                -123.08984375,
                49.25637817289576
               ],
               [
                -123.10120391845705,
                49.25654601957543
               ],
               [
                -123.11504364013672,
                49.25687026884301
               ],
               [
                -123.11444854736328,
                49.2717742910599
               ],
               [
                -123.11107635498047,
                49.272926329634096
               ],
               [
                -123.10169982910158,
                49.27297210600129
               ],
               [
                -123.09999847412111,
                49.272750853559906
               ],
               [
                -123.10003662109375,
                49.271923064253244
               ],
               [
                -123.10060119628906,
                49.270889281294274
               ],
               [
                -123.10066986083984,
                49.269130705854806
               ]
              ]
             ],
             "type": "Polygon"
            },
            "id": "19",
            "properties": {},
            "type": "Feature"
           },
           {
            "bbox": [
             -123.05885314941406,
             49.23192977812023,
             -123.02355957031249,
             49.265525816938755
            ],
            "geometry": {
             "coordinates": [
              [
               [
                -123.02355957031249,
                49.23479080106947
               ],
               [
                -123.02356719970705,
                49.23226928617689
               ],
               [
                -123.03034210205078,
                49.231933592817505
               ],
               [
                -123.03051757812501,
                49.23192977812023
               ],
               [
                -123.03069305419922,
                49.23192977812023
               ],
               [
                -123.03086853027342,
                49.231937407514785
               ],
               [
                -123.03105163574219,
                49.23194885160657
               ],
               [
                -123.03122711181642,
                49.231971739790175
               ],
               [
                -123.0313949584961,
                49.23199844267102
               ],
               [
                -123.03156280517578,
                49.232028960249146
               ],
               [
                -123.03173065185547,
                49.232070921919075
               ],
               [
                -123.03189849853516,
                49.23211669828626
               ],
               [
                -123.03205871582031,
                49.232166289350715
               ],
               [
                -123.03221130371094,
                49.2322235098097
               ],
               [
                -123.03236389160158,
                49.23228454496595
               ],
               [
                -123.03250885009766,
                49.23235320951673
               ],
               [
                -123.03585815429689,
                49.23410415556167
               ],
               [
                -123.03645324707033,
                49.23342895414565
               ],
               [
                -123.03650665283203,
                49.23337554838393
               ],
               [
                -123.0365676879883,
                49.233318327924934
               ],
               [
                -123.03662872314453,
                49.233264922163215
               ],
               [
                -123.03669738769531,
                49.233215331098755
               ],
               [
                -123.0367660522461,
                49.233169554731575
               ],
               [
                -123.0368423461914,
                49.23312377836439
               ],
               [
                -123.0369186401367,
                49.23308181669446
               ],
               [
                -123.03700256347656,
                49.233043669721795
               ],
               [
                -123.03708648681639,
                49.23300552274916
               ],
               [
                -123.03717803955077,
                49.23297119047377
               ],
               [
                -123.03726959228516,
                49.23294067289563
               ],
               [
                -123.03736114501953,
                49.2329139700148
               ],
               [
                -123.0374526977539,
                49.23289108183119
               ],
               [
                -123.03755187988281,
                49.23287200834486
               ],
               [
                -123.0376510620117,
                49.232856749555786
               ],
               [
                -123.03775024414064,
                49.232841490766745
               ],
               [
                -123.03784942626953,
                49.2328338613722
               ],
               [
                -123.0467071533203,
                49.23288726713391
               ],
               [
                -123.04875183105469,
                49.23275375272962
               ],
               [
                -123.05885314941406,
                49.23280715849134
               ],
               [
                -123.0586700439453,
                49.24076461698748
               ],
               [
                -123.05866241455078,
                49.24085998441911
               ],
               [
                -123.0586471557617,
                49.24095535185075
               ],
               [
                -123.05862426757811,
                49.241050719282406
               ],
               [
                -123.05860137939455,
                49.24114227201677
               ],
               [
                -123.05856323242188,
                49.24123763944841
               ],
               [
                -123.05851745605469,
                49.24132537748552
               ],
               [
                -123.0584716796875,
                49.2414169302199
               ],
               [
                -123.05841064453124,
                49.24150466825701
               ],
               [
                -123.05834197998048,
                49.241588591596845
               ],
               [
                -123.0582733154297,
                49.241672514936695
               ],
               [
                -123.05819702148436,
                49.24175262357927
               ],
               [
                -123.05811309814453,
                49.24182891752458
               ],
               [
                -123.05662536621094,
                49.24317550565935
               ],
               [
                -123.05658721923827,
                49.26198196317898
               ],
               [
                -123.04424285888672,
                49.26193618681179
               ],
               [
                -123.04424285888672,
                49.26187133695827
               ],
               [
                -123.03262329101564,
                49.26182937528834
               ],
               [
                -123.03239440917969,
                49.26183318998563
               ],
               [
                -123.03216552734374,
                49.26184463407742
               ],
               [
                -123.03193664550783,
                49.26186752226102
               ],
               [
                -123.03170776367188,
                49.26189422514187
               ],
               [
                -123.03148651123048,
                49.261932372114536
               ],
               [
                -123.03126525878906,
                49.26197814848171
               ],
               [
                -123.03104400634766,
                49.262027739546156
               ],
               [
                -123.03083801269531,
                49.26208877470243
               ],
               [
                -123.03063201904295,
                49.2621574392532
               ],
               [
                -123.03042602539062,
                49.262229918501255
               ],
               [
                -123.03023529052736,
                49.2623138418411
               ],
               [
                -123.03004455566408,
                49.26240157987821
               ],
               [
                -123.02986907958984,
                49.26249694730984
               ],
               [
                -123.02969360351562,
                49.26259612943875
               ],
               [
                -123.02953338623047,
                49.262706755659444
               ],
               [
                -123.02794647216797,
                49.26375198271025
               ],
               [
                -123.02762603759764,
                49.263980864546184
               ],
               [
                -123.02729034423828,
                49.264198302290325
               ],
               [
                -123.02693176269531,
                49.26440429594267
               ],
               [
                -123.02655792236328,
                49.26459503080595
               ],
               [
                -123.0261688232422,
                49.26477050688016
               ],
               [
                -123.02576446533205,
                49.26493453886258
               ],
               [
                -123.02534484863281,
                49.26508331205594
               ],
               [
                -123.02491760253906,
                49.265220641157526
               ],
               [
                -123.02447509765625,
                49.265338896772754
               ],
               [
                -123.0240249633789,
                49.26544189359891
               ],
               [
                -123.02356719970705,
                49.265525816938755
               ],
               [
                -123.02355957031249,
                49.23479080106947
               ]
              ]
             ],
             "type": "Polygon"
            },
            "id": "20",
            "properties": {},
            "type": "Feature"
           },
           {
            "bbox": [
             -123.14775085449217,
             49.27531814481966,
             -123.12109375,
             49.29445648100141
            ],
            "geometry": {
             "coordinates": [
              [
               [
                -123.13768005371092,
                49.27531814481966
               ],
               [
                -123.1412582397461,
                49.27829360868688
               ],
               [
                -123.1426773071289,
                49.28133010771033
               ],
               [
                -123.14553833007812,
                49.28436279203652
               ],
               [
                -123.14540863037108,
                49.287136076948634
               ],
               [
                -123.14775085449217,
                49.2889060964799
               ],
               [
                -123.14168548583984,
                49.29291915800335
               ],
               [
                -123.13809967041016,
                49.293514250776795
               ],
               [
                -123.13668060302734,
                49.29445648100141
               ],
               [
                -123.12109375,
                49.28436660673378
               ],
               [
                -123.13233184814453,
                49.276931761763024
               ],
               [
                -123.13768005371092,
                49.27531814481966
               ]
              ]
             ],
             "type": "Polygon"
            },
            "id": "21",
            "properties": {},
            "type": "Feature"
           }
          ],
          "type": "FeatureCollection"
         },
         "hovertemplate": "<b>%{hovertext}</b><br><br>index=%{location}<br>count=%{z}<extra></extra>",
         "hovertext": [
          "Downtown",
          "Hastings-Sunrise",
          "Kerrisdale",
          "Marpole",
          "Oakridge",
          "Riley Park",
          "South Cambie",
          "Shaughnessy",
          "Victoria-Fraserview",
          "Arbutus Ridge",
          "Grandview-Woodland",
          "Kensington-Cedar Cottage",
          "Killarney",
          "Kitsilano",
          "Strathcona",
          "Sunset",
          "West Point Grey",
          "Dunbar-Southlands",
          "Fairview",
          "Mount Pleasant",
          "Renfrew-Collingwood",
          "West End"
         ],
         "locations": [
          0,
          1,
          2,
          3,
          4,
          5,
          6,
          7,
          8,
          9,
          10,
          11,
          12,
          13,
          14,
          15,
          16,
          17,
          18,
          19,
          20,
          21
         ],
         "marker": {
          "opacity": 0.6
         },
         "name": "",
         "subplot": "mapbox",
         "type": "choroplethmapbox",
         "z": [
          null,
          29856,
          11518,
          21810,
          13116,
          20891,
          8962,
          8652,
          17357,
          9374,
          47082,
          40743,
          16400,
          42649,
          52161,
          28995,
          9569,
          11466,
          53570,
          54470,
          46349,
          75411
         ]
        }
       ],
       "layout": {
        "coloraxis": {
         "colorbar": {
          "title": {
           "text": "count"
          }
         },
         "colorscale": [
          [
           0,
           "#440154"
          ],
          [
           0.1111111111111111,
           "#482878"
          ],
          [
           0.2222222222222222,
           "#3e4989"
          ],
          [
           0.3333333333333333,
           "#31688e"
          ],
          [
           0.4444444444444444,
           "#26828e"
          ],
          [
           0.5555555555555556,
           "#1f9e89"
          ],
          [
           0.6666666666666666,
           "#35b779"
          ],
          [
           0.7777777777777778,
           "#6ece58"
          ],
          [
           0.8888888888888888,
           "#b5de2b"
          ],
          [
           1,
           "#fde725"
          ]
         ]
        },
        "geo": {
         "fitbounds": "locations",
         "visible": false
        },
        "legend": {
         "tracegroupgap": 0
        },
        "mapbox": {
         "center": {
          "lat": 49.249670641480854,
          "lon": -123.11260633977298
         },
         "domain": {
          "x": [
           0,
           1
          ],
          "y": [
           0,
           1
          ]
         },
         "style": "carto-positron",
         "zoom": 10
        },
        "margin": {
         "t": 60
        },
        "template": {
         "data": {
          "bar": [
           {
            "error_x": {
             "color": "#2a3f5f"
            },
            "error_y": {
             "color": "#2a3f5f"
            },
            "marker": {
             "line": {
              "color": "#E5ECF6",
              "width": 0.5
             },
             "pattern": {
              "fillmode": "overlay",
              "size": 10,
              "solidity": 0.2
             }
            },
            "type": "bar"
           }
          ],
          "barpolar": [
           {
            "marker": {
             "line": {
              "color": "#E5ECF6",
              "width": 0.5
             },
             "pattern": {
              "fillmode": "overlay",
              "size": 10,
              "solidity": 0.2
             }
            },
            "type": "barpolar"
           }
          ],
          "carpet": [
           {
            "aaxis": {
             "endlinecolor": "#2a3f5f",
             "gridcolor": "white",
             "linecolor": "white",
             "minorgridcolor": "white",
             "startlinecolor": "#2a3f5f"
            },
            "baxis": {
             "endlinecolor": "#2a3f5f",
             "gridcolor": "white",
             "linecolor": "white",
             "minorgridcolor": "white",
             "startlinecolor": "#2a3f5f"
            },
            "type": "carpet"
           }
          ],
          "choropleth": [
           {
            "colorbar": {
             "outlinewidth": 0,
             "ticks": ""
            },
            "type": "choropleth"
           }
          ],
          "contour": [
           {
            "colorbar": {
             "outlinewidth": 0,
             "ticks": ""
            },
            "colorscale": [
             [
              0,
              "#0d0887"
             ],
             [
              0.1111111111111111,
              "#46039f"
             ],
             [
              0.2222222222222222,
              "#7201a8"
             ],
             [
              0.3333333333333333,
              "#9c179e"
             ],
             [
              0.4444444444444444,
              "#bd3786"
             ],
             [
              0.5555555555555556,
              "#d8576b"
             ],
             [
              0.6666666666666666,
              "#ed7953"
             ],
             [
              0.7777777777777778,
              "#fb9f3a"
             ],
             [
              0.8888888888888888,
              "#fdca26"
             ],
             [
              1,
              "#f0f921"
             ]
            ],
            "type": "contour"
           }
          ],
          "contourcarpet": [
           {
            "colorbar": {
             "outlinewidth": 0,
             "ticks": ""
            },
            "type": "contourcarpet"
           }
          ],
          "heatmap": [
           {
            "colorbar": {
             "outlinewidth": 0,
             "ticks": ""
            },
            "colorscale": [
             [
              0,
              "#0d0887"
             ],
             [
              0.1111111111111111,
              "#46039f"
             ],
             [
              0.2222222222222222,
              "#7201a8"
             ],
             [
              0.3333333333333333,
              "#9c179e"
             ],
             [
              0.4444444444444444,
              "#bd3786"
             ],
             [
              0.5555555555555556,
              "#d8576b"
             ],
             [
              0.6666666666666666,
              "#ed7953"
             ],
             [
              0.7777777777777778,
              "#fb9f3a"
             ],
             [
              0.8888888888888888,
              "#fdca26"
             ],
             [
              1,
              "#f0f921"
             ]
            ],
            "type": "heatmap"
           }
          ],
          "heatmapgl": [
           {
            "colorbar": {
             "outlinewidth": 0,
             "ticks": ""
            },
            "colorscale": [
             [
              0,
              "#0d0887"
             ],
             [
              0.1111111111111111,
              "#46039f"
             ],
             [
              0.2222222222222222,
              "#7201a8"
             ],
             [
              0.3333333333333333,
              "#9c179e"
             ],
             [
              0.4444444444444444,
              "#bd3786"
             ],
             [
              0.5555555555555556,
              "#d8576b"
             ],
             [
              0.6666666666666666,
              "#ed7953"
             ],
             [
              0.7777777777777778,
              "#fb9f3a"
             ],
             [
              0.8888888888888888,
              "#fdca26"
             ],
             [
              1,
              "#f0f921"
             ]
            ],
            "type": "heatmapgl"
           }
          ],
          "histogram": [
           {
            "marker": {
             "pattern": {
              "fillmode": "overlay",
              "size": 10,
              "solidity": 0.2
             }
            },
            "type": "histogram"
           }
          ],
          "histogram2d": [
           {
            "colorbar": {
             "outlinewidth": 0,
             "ticks": ""
            },
            "colorscale": [
             [
              0,
              "#0d0887"
             ],
             [
              0.1111111111111111,
              "#46039f"
             ],
             [
              0.2222222222222222,
              "#7201a8"
             ],
             [
              0.3333333333333333,
              "#9c179e"
             ],
             [
              0.4444444444444444,
              "#bd3786"
             ],
             [
              0.5555555555555556,
              "#d8576b"
             ],
             [
              0.6666666666666666,
              "#ed7953"
             ],
             [
              0.7777777777777778,
              "#fb9f3a"
             ],
             [
              0.8888888888888888,
              "#fdca26"
             ],
             [
              1,
              "#f0f921"
             ]
            ],
            "type": "histogram2d"
           }
          ],
          "histogram2dcontour": [
           {
            "colorbar": {
             "outlinewidth": 0,
             "ticks": ""
            },
            "colorscale": [
             [
              0,
              "#0d0887"
             ],
             [
              0.1111111111111111,
              "#46039f"
             ],
             [
              0.2222222222222222,
              "#7201a8"
             ],
             [
              0.3333333333333333,
              "#9c179e"
             ],
             [
              0.4444444444444444,
              "#bd3786"
             ],
             [
              0.5555555555555556,
              "#d8576b"
             ],
             [
              0.6666666666666666,
              "#ed7953"
             ],
             [
              0.7777777777777778,
              "#fb9f3a"
             ],
             [
              0.8888888888888888,
              "#fdca26"
             ],
             [
              1,
              "#f0f921"
             ]
            ],
            "type": "histogram2dcontour"
           }
          ],
          "mesh3d": [
           {
            "colorbar": {
             "outlinewidth": 0,
             "ticks": ""
            },
            "type": "mesh3d"
           }
          ],
          "parcoords": [
           {
            "line": {
             "colorbar": {
              "outlinewidth": 0,
              "ticks": ""
             }
            },
            "type": "parcoords"
           }
          ],
          "pie": [
           {
            "automargin": true,
            "type": "pie"
           }
          ],
          "scatter": [
           {
            "fillpattern": {
             "fillmode": "overlay",
             "size": 10,
             "solidity": 0.2
            },
            "type": "scatter"
           }
          ],
          "scatter3d": [
           {
            "line": {
             "colorbar": {
              "outlinewidth": 0,
              "ticks": ""
             }
            },
            "marker": {
             "colorbar": {
              "outlinewidth": 0,
              "ticks": ""
             }
            },
            "type": "scatter3d"
           }
          ],
          "scattercarpet": [
           {
            "marker": {
             "colorbar": {
              "outlinewidth": 0,
              "ticks": ""
             }
            },
            "type": "scattercarpet"
           }
          ],
          "scattergeo": [
           {
            "marker": {
             "colorbar": {
              "outlinewidth": 0,
              "ticks": ""
             }
            },
            "type": "scattergeo"
           }
          ],
          "scattergl": [
           {
            "marker": {
             "colorbar": {
              "outlinewidth": 0,
              "ticks": ""
             }
            },
            "type": "scattergl"
           }
          ],
          "scattermapbox": [
           {
            "marker": {
             "colorbar": {
              "outlinewidth": 0,
              "ticks": ""
             }
            },
            "type": "scattermapbox"
           }
          ],
          "scatterpolar": [
           {
            "marker": {
             "colorbar": {
              "outlinewidth": 0,
              "ticks": ""
             }
            },
            "type": "scatterpolar"
           }
          ],
          "scatterpolargl": [
           {
            "marker": {
             "colorbar": {
              "outlinewidth": 0,
              "ticks": ""
             }
            },
            "type": "scatterpolargl"
           }
          ],
          "scatterternary": [
           {
            "marker": {
             "colorbar": {
              "outlinewidth": 0,
              "ticks": ""
             }
            },
            "type": "scatterternary"
           }
          ],
          "surface": [
           {
            "colorbar": {
             "outlinewidth": 0,
             "ticks": ""
            },
            "colorscale": [
             [
              0,
              "#0d0887"
             ],
             [
              0.1111111111111111,
              "#46039f"
             ],
             [
              0.2222222222222222,
              "#7201a8"
             ],
             [
              0.3333333333333333,
              "#9c179e"
             ],
             [
              0.4444444444444444,
              "#bd3786"
             ],
             [
              0.5555555555555556,
              "#d8576b"
             ],
             [
              0.6666666666666666,
              "#ed7953"
             ],
             [
              0.7777777777777778,
              "#fb9f3a"
             ],
             [
              0.8888888888888888,
              "#fdca26"
             ],
             [
              1,
              "#f0f921"
             ]
            ],
            "type": "surface"
           }
          ],
          "table": [
           {
            "cells": {
             "fill": {
              "color": "#EBF0F8"
             },
             "line": {
              "color": "white"
             }
            },
            "header": {
             "fill": {
              "color": "#C8D4E3"
             },
             "line": {
              "color": "white"
             }
            },
            "type": "table"
           }
          ]
         },
         "layout": {
          "annotationdefaults": {
           "arrowcolor": "#2a3f5f",
           "arrowhead": 0,
           "arrowwidth": 1
          },
          "autotypenumbers": "strict",
          "coloraxis": {
           "colorbar": {
            "outlinewidth": 0,
            "ticks": ""
           }
          },
          "colorscale": {
           "diverging": [
            [
             0,
             "#8e0152"
            ],
            [
             0.1,
             "#c51b7d"
            ],
            [
             0.2,
             "#de77ae"
            ],
            [
             0.3,
             "#f1b6da"
            ],
            [
             0.4,
             "#fde0ef"
            ],
            [
             0.5,
             "#f7f7f7"
            ],
            [
             0.6,
             "#e6f5d0"
            ],
            [
             0.7,
             "#b8e186"
            ],
            [
             0.8,
             "#7fbc41"
            ],
            [
             0.9,
             "#4d9221"
            ],
            [
             1,
             "#276419"
            ]
           ],
           "sequential": [
            [
             0,
             "#0d0887"
            ],
            [
             0.1111111111111111,
             "#46039f"
            ],
            [
             0.2222222222222222,
             "#7201a8"
            ],
            [
             0.3333333333333333,
             "#9c179e"
            ],
            [
             0.4444444444444444,
             "#bd3786"
            ],
            [
             0.5555555555555556,
             "#d8576b"
            ],
            [
             0.6666666666666666,
             "#ed7953"
            ],
            [
             0.7777777777777778,
             "#fb9f3a"
            ],
            [
             0.8888888888888888,
             "#fdca26"
            ],
            [
             1,
             "#f0f921"
            ]
           ],
           "sequentialminus": [
            [
             0,
             "#0d0887"
            ],
            [
             0.1111111111111111,
             "#46039f"
            ],
            [
             0.2222222222222222,
             "#7201a8"
            ],
            [
             0.3333333333333333,
             "#9c179e"
            ],
            [
             0.4444444444444444,
             "#bd3786"
            ],
            [
             0.5555555555555556,
             "#d8576b"
            ],
            [
             0.6666666666666666,
             "#ed7953"
            ],
            [
             0.7777777777777778,
             "#fb9f3a"
            ],
            [
             0.8888888888888888,
             "#fdca26"
            ],
            [
             1,
             "#f0f921"
            ]
           ]
          },
          "colorway": [
           "#636efa",
           "#EF553B",
           "#00cc96",
           "#ab63fa",
           "#FFA15A",
           "#19d3f3",
           "#FF6692",
           "#B6E880",
           "#FF97FF",
           "#FECB52"
          ],
          "font": {
           "color": "#2a3f5f"
          },
          "geo": {
           "bgcolor": "white",
           "lakecolor": "white",
           "landcolor": "#E5ECF6",
           "showlakes": true,
           "showland": true,
           "subunitcolor": "white"
          },
          "hoverlabel": {
           "align": "left"
          },
          "hovermode": "closest",
          "mapbox": {
           "style": "light"
          },
          "paper_bgcolor": "white",
          "plot_bgcolor": "#E5ECF6",
          "polar": {
           "angularaxis": {
            "gridcolor": "white",
            "linecolor": "white",
            "ticks": ""
           },
           "bgcolor": "#E5ECF6",
           "radialaxis": {
            "gridcolor": "white",
            "linecolor": "white",
            "ticks": ""
           }
          },
          "scene": {
           "xaxis": {
            "backgroundcolor": "#E5ECF6",
            "gridcolor": "white",
            "gridwidth": 2,
            "linecolor": "white",
            "showbackground": true,
            "ticks": "",
            "zerolinecolor": "white"
           },
           "yaxis": {
            "backgroundcolor": "#E5ECF6",
            "gridcolor": "white",
            "gridwidth": 2,
            "linecolor": "white",
            "showbackground": true,
            "ticks": "",
            "zerolinecolor": "white"
           },
           "zaxis": {
            "backgroundcolor": "#E5ECF6",
            "gridcolor": "white",
            "gridwidth": 2,
            "linecolor": "white",
            "showbackground": true,
            "ticks": "",
            "zerolinecolor": "white"
           }
          },
          "shapedefaults": {
           "line": {
            "color": "#2a3f5f"
           }
          },
          "ternary": {
           "aaxis": {
            "gridcolor": "white",
            "linecolor": "white",
            "ticks": ""
           },
           "baxis": {
            "gridcolor": "white",
            "linecolor": "white",
            "ticks": ""
           },
           "bgcolor": "#E5ECF6",
           "caxis": {
            "gridcolor": "white",
            "linecolor": "white",
            "ticks": ""
           }
          },
          "title": {
           "x": 0.05
          },
          "xaxis": {
           "automargin": true,
           "gridcolor": "white",
           "linecolor": "white",
           "ticks": "",
           "title": {
            "standoff": 15
           },
           "zerolinecolor": "white",
           "zerolinewidth": 2
          },
          "yaxis": {
           "automargin": true,
           "gridcolor": "white",
           "linecolor": "white",
           "ticks": "",
           "title": {
            "standoff": 15
           },
           "zerolinecolor": "white",
           "zerolinewidth": 2
          }
         }
        }
       }
      }
     },
     "metadata": {},
     "output_type": "display_data"
    }
   ],
   "source": [
    "import json\n",
    "import geopandas as gpd\n",
    "import plotly.express as px\n",
    "\n",
    "# Load your GeoJSON file\n",
    "with open('/Users/princegill/Documents/VSCode/Practice3/Data/local-area-boundary.geojson', 'r') as f:\n",
    "    geojson_data = json.load(f)\n",
    "\n",
    "# Create a GeoDataFrame from the GeoJSON data\n",
    "gdf_boundaries = gpd.GeoDataFrame.from_features(geojson_data['features'])\n",
    "\n",
    "# Merge your crime data with the GeoDataFrame based on a common attribute (e.g., neighborhood name)\n",
    "gdf_combined = gdf_boundaries.merge(value_count, how='left', left_on='name', right_on=value_count.index)\n",
    "\n",
    "# Create a choropleth map\n",
    "fig = px.choropleth_mapbox(gdf_combined, \n",
    "                           geojson=gdf_combined.geometry, \n",
    "                           locations=gdf_combined.index, \n",
    "                           color='count',  # replace with your actual column name\n",
    "                           color_continuous_scale=\"Viridis\",\n",
    "                           mapbox_style=\"carto-positron\",\n",
    "                           center={\"lat\": gdf_boundaries.geometry.centroid.y.mean(), \"lon\": gdf_boundaries.geometry.centroid.x.mean()},\n",
    "                           zoom=10,\n",
    "                           opacity=0.6,\n",
    "                           hover_name='name'  # replace with your actual column name\n",
    "                          )\n",
    "\n",
    "fig.update_geos(fitbounds=\"locations\", visible=False)\n",
    "fig.show()\n"
   ]
  },
  {
   "cell_type": "markdown",
   "metadata": {},
   "source": [
    "# SUMMARY\n",
    "\n",
    "---\n",
    "\n",
    "**Comprehensive Analysis of Crime in Vancouver (2003-2023): Unveiling Patterns and Hotspots**\n",
    "\n",
    "In a thorough exploration of crime data spanning two decades in Vancouver, several crucial patterns and trends have emerged. From a data preprocessing perspective, the removal of duplicates and handling missing values streamlined the dataset for meaningful analysis.\n",
    "\n",
    "**Temporal Trends:**\n",
    "- Crime count witnessed an initial surge around 2003, gradually declining until 2011. Subsequent to 2011, there was a resurgence, peaking notably in 2019 before experiencing a sudden dip in 2021.\n",
    "- Monthly analysis revealed a dip in crimes during February, a global maxima in August, and local peaks in March, May, and October. A distinctive cyclicality was observed with a decline in December and resurgence in January.\n",
    "\n",
    "**Daily and Hourly Dynamics:**\n",
    "- Day-wise crime distribution exhibited no significant pattern, but a dip at the end of the month and a surge at the beginning were notable.\n",
    "- Hourly analysis highlighted a significant peak in crime around midnight, a period of quiescence from 1 AM to 6 AM, and a gradual increase throughout the day. Weekends witnessed a particularly high crime count around 12 AM.\n",
    "\n",
    "**Crime Types and Neighborhoods:**\n",
    "- Theft from Vehicle consistently dominated, excluding a period (2009-2015) when Other Theft surpassed due to a dip in theft from vehicles.\n",
    "- Central Business District and West End emerged as hotspots with high crime incidence, while Stanley Park and Musqueam experienced the lowest crime rates.\n",
    "\n",
    "**Neighborhood-wise Analysis:**\n",
    "- Central Business District and West End consistently reported the highest crime rates, while Stanley Park and Musqueam maintained the lowest.\n",
    "- Thefts from vehicles consistently held the top position, emphasizing the need for targeted preventive measures.\n",
    "\n",
    "**Spatial Analysis:**\n",
    "- A city map color-coded with yellow for hotspots and dark violet for safe areas provided a visual representation of crime distribution across Vancouver.\n",
    "\n",
    "**Conclusion:**\n",
    "This comprehensive analysis not only unveils temporal and spatial patterns in crime but also emphasizes the importance of targeted strategies for specific crime types and areas. The insights gained can guide law enforcement, city planning, and community engagement initiatives to foster a safer and more secure Vancouver.\n",
    "\n",
    "---\n"
   ]
  },
  {
   "cell_type": "markdown",
   "metadata": {},
   "source": [
    "Legal Disclaimer \n",
    "\n",
    "The release of Vancouver Police Department (VPD) crime data is intended to enhance community awareness of policing activity in Vancouver. Users are cautioned not to rely on the information provided to make decisions about the specific safety level of a specific location or area. By using this data the user agrees and understands that neither the Vancouver Police Department, Vancouver Police Board nor the City of Vancouver assumes liability for any decisions made or actions taken or not taken by the user in reliance upon any information or data provided. \n",
    "\n",
    "The data provided in GeoDASH is extracted from the PRIME BC Police Records Management System (RMS). Specific filters, categorizations, and conditions are applied to ensure the data is relevant to public safety, and that it adheres to the BC Freedom of Information & Protection of Privacy Act (BC FIPPA). The broad category of 'Offence Against a Person' includes all violent incidents (e.g., robbery, assault, sexual assault, domestic assault), with the exception of 'Assaults Against Police'. Further, the category is intentionally designed as a large aggregate of multiple subcategories of violent incidents in order to reduce the likelihood of specific incidents being used to reveal Personal Identifiable Information (PII). Property incidents do not fall within the same guidelines, allowing for additional categories to be displayed with a more granular breakdown. The 'Other Theft' category includes a range of property related incidents such as shoplifting, theft of personal property (over / under $5000), mail theft, and utilities theft. Please see the above Frequently Asked Questions (FAQ) guideline for additional details. The data provided uses the 'All Offence' reporting method, with the additional condition of 'Founded' incidents, denoting those incidents where it was determined after police investigation that the violation had occurred. Please note that aggregate categories tend to mask variations in specific areas, as trends in subcategories are not readily identifiable in large datasets. Further, the data and statistical summaries provided in GeoDASH are not comparable to Statistics Canada reporting. Statistics Canada generally use the 'UCR Survey' scoring rules, whereby only the 'Most Serious Offence (MSO)' in an incident is counted. The two methods are not cross comparable. Please see Statistics Canada website (https://www23.statcan.gc.ca/imdb-bmdi/pub/document/3302_D2_T9_V3-eng.pdf) for additional details.\n",
    "\n",
    "While every effort has been made to be transparent in this process, users should be aware that this data is designed to provide individuals with a general overview of incidents falling into several crime categories. The information provided therefore does not reflect the total number of calls or complaints made to the VPD. The crime classification and file status may change at any time based on the dynamic nature of police investigations. The VPD has taken great care to protect the privacy of all parties involved in the incidents reported. No personal or identifying information has been provided in the data. Locations for reported incidents involving Offences Against a Person have been deliberately randomized to several blocks and offset to an intersection. No time or street location name will be provided for these offences. For property related offences, the VPD has provided the location to the hundred block of these incidents within the general area of the block. All data must be considered offset and users should not interpret any locations as related to a specific person or specific property.\n"
   ]
  },
  {
   "cell_type": "markdown",
   "metadata": {},
   "source": []
  }
 ],
 "metadata": {
  "kernelspec": {
   "display_name": ".venv",
   "language": "python",
   "name": "python3"
  },
  "language_info": {
   "codemirror_mode": {
    "name": "ipython",
    "version": 3
   },
   "file_extension": ".py",
   "mimetype": "text/x-python",
   "name": "python",
   "nbconvert_exporter": "python",
   "pygments_lexer": "ipython3",
   "version": "3.11.6"
  }
 },
 "nbformat": 4,
 "nbformat_minor": 2
}
